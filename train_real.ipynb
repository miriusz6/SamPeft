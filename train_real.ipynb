{
 "cells": [
  {
   "cell_type": "markdown",
   "metadata": {},
   "source": [
    "Imports:"
   ]
  },
  {
   "cell_type": "code",
   "execution_count": 8,
   "metadata": {},
   "outputs": [],
   "source": [
    "from train_for_real import *\n",
    "import pickle\n",
    "\n",
    "# #Scientific computing \n",
    "# import numpy as np\n",
    "# #Pytorch packages\n",
    "# import torch\n",
    "from torch import nn\n",
    "import torch.optim as optim\n",
    "from tensorboardX import SummaryWriter\n",
    "#Visulization\n",
    "#from tqdm import tqdm\n",
    "from tqdm.notebook import tqdm\n",
    "import monai\n",
    "# finetuneSAM\\models\\sam_LoRa.py\n",
    "from finetuneSAM.models.sam_LoRa import LoRA_Sam\n"
   ]
  },
  {
   "cell_type": "code",
   "execution_count": 9,
   "metadata": {},
   "outputs": [],
   "source": [
    "from finetuneSAM.cfg import parse_args\n",
    "#Fine-Tune Sam\n",
    "args =  parse_args()\n",
    "\n",
    "\n",
    "# setting if_mask_decoder_adapter = True puts adapters inside 2-way transformer blocks\n",
    "# this does not change the number of decoder 2-way transformer blocks (def = 2)\n",
    "# decoder_adapt_depth denotes how many of the two 2-way transformer blocks are adapted\n",
    "\n",
    "\n",
    "# setting if_encoder_adapter = True puts adapters inside TinyViTBlocks in the encoder\n",
    "# this does not change the number of encoder TinyViTBlocks (def = 4)\n",
    "# encoder_adapt_depth (e.g. [1,2]) denotes how deep blocks will be adapted\n",
    "\n",
    "\n",
    "# parser.add_argument('-if_update_encoder', type=bool, default=False , help='if update_image_encoder')\n",
    "# parser.add_argument('-if_encoder_adapter', type=bool, default=False , help='if add adapter to encoder')\n",
    "\n",
    "# parser.add_argument('-encoder-adapter-depths', type=list, default=[0,1,10,11] , help='the depth of blocks to add adapter')\n",
    "# parser.add_argument('-if_mask_decoder_adapter', type=bool, default=False , help='if add adapter to mask decoder')\n",
    "# parser.add_argument('-decoder_adapt_depth', type=int, default=2, help='the depth of the decoder adapter')\n",
    "\n",
    "# parser.add_argument('-if_encoder_lora_layer', type=bool, default=False , help='if add lora to encoder')\n",
    "# parser.add_argument('-if_decoder_lora_layer', type=bool, default=False , help='if add lora to decoder')\n",
    "# parser.add_argument('-encoder_lora_layer', type=list, default=[0,1,10,11] , help='the depth of blocks to add lora, if [], it will add at each layer')\n",
    "\n",
    "#    parser.add_argument('-finetune_type', type=str, default='adapter', help='normalization type, pick among vanilla,adapter,lora')\n",
    "\n",
    "args.finetune_type = \"adapter\"\n",
    "\n",
    "\n",
    "#args.finetune_type = \"vanilla\"\n",
    "#args.finetune_type = \"adapter\"# \"vanilla\"\n",
    "#args.if_mask_decoder_adapter = True\n",
    "\n",
    "\n",
    "#decoder\n",
    "args.finetune_type = \"adapter\"\n",
    "args.if_mask_decoder_adapter = True\n",
    "\n",
    "# #encoder\n",
    "# args.finetune_type = \"adapter\"\n",
    "# args.if_encoder_adapter = True\n",
    "# args.if_update_encoder = True\n",
    "\n",
    "# #lora decoder\n",
    "# args.finetune_type = \"lora\"\n",
    "# args.if_decoder_lora_layer = True\n",
    "\n",
    "\n",
    "\n",
    "\n",
    "\n",
    "\n",
    "args.num_cls = 3\n",
    "\n",
    "\n"
   ]
  },
  {
   "cell_type": "code",
   "execution_count": 10,
   "metadata": {},
   "outputs": [
    {
     "name": "stdout",
     "output_type": "stream",
     "text": [
      "Train points: 60\n",
      "if update encoder: False\n",
      "if image encoder adapter: False\n",
      "if mask decoder adapter: True\n"
     ]
    }
   ],
   "source": [
    "sam = load_model(args)\n",
    "\n",
    "\n",
    "with open('train_data.pkl', 'rb') as file:\n",
    "    data = pickle.load(file)\n",
    "\n",
    "train_points = len(data['image'])\n",
    "checkpoints_path = 'checkpoints'\n",
    "\n",
    "    \n",
    "val_percentage = 0.15\n",
    "val_points = int(train_points*val_percentage)\n",
    "train_points = train_points - val_points\n",
    "print('Train points:',train_points)\n",
    "\n",
    "val_data = {\"image\":[],\"mask\":[],\"points\":[],\"p_labels\":[]}\n",
    "for i in range(val_points):\n",
    "    rnd_indx = np.random.randint(0,len(data[\"image\"])-1)\n",
    "    val_data[\"image\"].append(data[\"image\"].pop(rnd_indx))\n",
    "    val_data[\"mask\"].append(data[\"mask\"].pop(rnd_indx))\n",
    "    val_data['points'].append(data['points'].pop(rnd_indx))\n",
    "    val_data['p_labels'].append(data['p_labels'].pop(rnd_indx))\n",
    "    \n",
    "train_data = data\n",
    "\n",
    "train_data = EyeData(train_data)\n",
    "\n",
    "val_data = EyeData(val_data)\n",
    "\n",
    "\n",
    "\n",
    "\n",
    "if args.finetune_type == 'adapter':\n",
    "        for n, value in sam.named_parameters():\n",
    "            if \"Adapter\" not in n: # only update parameters in adapter\n",
    "                value.requires_grad = False\n",
    "        print('if update encoder:',args.if_update_encoder)\n",
    "        print('if image encoder adapter:',args.if_encoder_adapter)\n",
    "        print('if mask decoder adapter:',args.if_mask_decoder_adapter)\n",
    "        if args.if_encoder_adapter:\n",
    "            print('added adapter layers:',args.encoder_adapter_depths)\n",
    "elif args.finetune_type == 'lora':\n",
    "    print('if update encoder:',args.if_update_encoder)\n",
    "    print('if image encoder lora:',args.if_encoder_lora_layer)\n",
    "    print('if mask decoder lora:',args.if_decoder_lora_layer)\n",
    "    for n, value in sam.named_parameters():\n",
    "        value.requires_grad = False\n",
    "    sam = LoRA_Sam(args,sam,r=4).sam\n",
    "\n",
    "sam.to('cuda')\n",
    "\n",
    "\n",
    "\n",
    "sammy = Sammy(sam, (512,512))"
   ]
  },
  {
   "cell_type": "code",
   "execution_count": 11,
   "metadata": {},
   "outputs": [],
   "source": [
    "def adjust_lr(losses, rates):\n",
    "    # if improvement is less than 0.1% stop training\n",
    "    # 0.30 , 0.25\n",
    "    l3 = losses[-1]\n",
    "    l2 = losses[-2]\n",
    "    l1 = losses[-3]\n",
    "    d1 = l2 - l1\n",
    "    d2 = l3 - l2\n",
    "    mean_diff = (d1 + d2) / 2\n",
    "    #print('mean_diff:',mean_diff)\n",
    "    x = abs(mean_diff)\n",
    "\n",
    "    last_loss = losses[-1]\n",
    "    curr_rate = rates[-1]\n",
    "    \n",
    "    regress = mean_diff > 0\n",
    "\n",
    "\n",
    "    is_lvl1 = (regress or  x < 0.01  ) and ( last_loss > 0.5 )\n",
    "    is_lvl2 = (regress or  x < 0.005  ) and ( ( (last_loss < 0.5) and  (last_loss > 0.4 ) ) )\n",
    "    is_lvl3 = (regress or  x < 0.003  ) and ( ( (last_loss < 0.4) and  (last_loss > 0.35) ) )\n",
    "    is_lvl4 = (regress or  x < 0.002  ) and ( ( (last_loss < 0.35)  ) )\n",
    "\n",
    "\n",
    "    if is_lvl1:\n",
    "        print(\"Level 1 adjustment: \",x, ' < ',0.01)\n",
    "        if curr_rate > 0.0005:\n",
    "            return curr_rate * 0.5\n",
    "        else:\n",
    "            return 0.01\n",
    "    elif is_lvl2:\n",
    "        print(\"Level 2 adjustment: \",x, ' < ',0.005)\n",
    "        if curr_rate > 0.0001:\n",
    "            return curr_rate * 0.25\n",
    "        else:\n",
    "            return 0.005\n",
    "    elif is_lvl3:\n",
    "        print(\"Level 3 adjustment: \",x, ' < ',0.003)\n",
    "        if curr_rate > 0.00005:\n",
    "            return curr_rate * 0.1\n",
    "        else:\n",
    "            return 0.001\n",
    "    elif is_lvl4:\n",
    "        print(\"Level 4 adjustment: \",x, ' < ',0.002)\n",
    "        if curr_rate > 0.00001:\n",
    "            return curr_rate * 0.1\n",
    "        else:\n",
    "            return 0.0005\n",
    "    else:\n",
    "        print(\"No adjustment: \",x)\n",
    "        return curr_rate\n",
    "\n",
    "    \n",
    "    \n",
    "    "
   ]
  },
  {
   "cell_type": "code",
   "execution_count": 12,
   "metadata": {},
   "outputs": [
    {
     "name": "stdout",
     "output_type": "stream",
     "text": [
      "mask_decoder.transformer.layers.0.MLP_Adapter.D_fc1.weight\n",
      "mask_decoder.transformer.layers.0.MLP_Adapter.D_fc1.bias\n",
      "mask_decoder.transformer.layers.0.MLP_Adapter.D_fc2.weight\n",
      "mask_decoder.transformer.layers.0.MLP_Adapter.D_fc2.bias\n",
      "mask_decoder.transformer.layers.0.Adapter.D_fc1.weight\n",
      "mask_decoder.transformer.layers.0.Adapter.D_fc1.bias\n",
      "mask_decoder.transformer.layers.0.Adapter.D_fc2.weight\n",
      "mask_decoder.transformer.layers.0.Adapter.D_fc2.bias\n",
      "mask_decoder.transformer.layers.1.MLP_Adapter.D_fc1.weight\n",
      "mask_decoder.transformer.layers.1.MLP_Adapter.D_fc1.bias\n",
      "mask_decoder.transformer.layers.1.MLP_Adapter.D_fc2.weight\n",
      "mask_decoder.transformer.layers.1.MLP_Adapter.D_fc2.bias\n",
      "mask_decoder.transformer.layers.1.Adapter.D_fc1.weight\n",
      "mask_decoder.transformer.layers.1.Adapter.D_fc1.bias\n",
      "mask_decoder.transformer.layers.1.Adapter.D_fc2.weight\n",
      "mask_decoder.transformer.layers.1.Adapter.D_fc2.bias\n"
     ]
    }
   ],
   "source": [
    "# print leanable parameters with grad true\n",
    "for n, value in sam.named_parameters():\n",
    "    if value.requires_grad:\n",
    "        print(n)\n"
   ]
  },
  {
   "cell_type": "code",
   "execution_count": 13,
   "metadata": {},
   "outputs": [
    {
     "data": {
      "application/vnd.jupyter.widget-view+json": {
       "model_id": "aa08f13f9cf348be8f7ad5bf67f6a900",
       "version_major": 2,
       "version_minor": 0
      },
      "text/plain": [
       "  0%|          | 0/64 [00:00<?, ?it/s]"
      ]
     },
     "metadata": {},
     "output_type": "display_data"
    },
    {
     "name": "stdout",
     "output_type": "stream",
     "text": [
      "Start training\n",
      "Number of batches:  12\n",
      "Batches pr epoch:  12\n",
      "Epoch num 0\n"
     ]
    },
    {
     "data": {
      "application/vnd.jupyter.widget-view+json": {
       "model_id": "910619f6ba72434995644acddacb9be9",
       "version_major": 2,
       "version_minor": 0
      },
      "text/plain": [
       "  0%|          | 0/12 [00:00<?, ?it/s]"
      ]
     },
     "metadata": {},
     "output_type": "display_data"
    },
    {
     "name": "stdout",
     "output_type": "stream",
     "text": [
      "Epoch num 0| train loss 1.825961172580719 | lr_opt 0.01 | lr_sch [0.01]\n",
      "\n",
      "Epoch num 1\n"
     ]
    },
    {
     "data": {
      "application/vnd.jupyter.widget-view+json": {
       "model_id": "84f51002a2d3479f84503fdbabd72f94",
       "version_major": 2,
       "version_minor": 0
      },
      "text/plain": [
       "  0%|          | 0/12 [00:00<?, ?it/s]"
      ]
     },
     "metadata": {},
     "output_type": "display_data"
    },
    {
     "name": "stdout",
     "output_type": "stream",
     "text": [
      "Epoch num 1| train loss 0.854020819067955 | lr_opt 0.01 | lr_sch [0.01]\n",
      "\n",
      "Epoch num 2\n"
     ]
    },
    {
     "data": {
      "application/vnd.jupyter.widget-view+json": {
       "model_id": "31ad1fc5cb9a4e2c90501ea0188248d4",
       "version_major": 2,
       "version_minor": 0
      },
      "text/plain": [
       "  0%|          | 0/12 [00:00<?, ?it/s]"
      ]
     },
     "metadata": {},
     "output_type": "display_data"
    },
    {
     "name": "stdout",
     "output_type": "stream",
     "text": [
      "Epoch num 2| train loss 0.6722951581080755 | lr_opt 0.01 | lr_sch [0.01]\n",
      "\n",
      "Epoch num 3\n"
     ]
    },
    {
     "data": {
      "application/vnd.jupyter.widget-view+json": {
       "model_id": "684aae87af274ef1b4db8a831caff31e",
       "version_major": 2,
       "version_minor": 0
      },
      "text/plain": [
       "  0%|          | 0/12 [00:00<?, ?it/s]"
      ]
     },
     "metadata": {},
     "output_type": "display_data"
    },
    {
     "name": "stdout",
     "output_type": "stream",
     "text": [
      "Epoch num 3| train loss 0.6460001866022745 | lr_opt 0.01 | lr_sch [0.01]\n",
      "\n",
      "No adjustment:  0.10401031623284024\n",
      "Epoch num 4\n"
     ]
    },
    {
     "data": {
      "application/vnd.jupyter.widget-view+json": {
       "model_id": "6ad1ea07f00e4bb1b8ceb5e0930a61d7",
       "version_major": 2,
       "version_minor": 0
      },
      "text/plain": [
       "  0%|          | 0/12 [00:00<?, ?it/s]"
      ]
     },
     "metadata": {},
     "output_type": "display_data"
    },
    {
     "name": "stdout",
     "output_type": "stream",
     "text": [
      "Epoch num 4| train loss 0.6220402965943018 | lr_opt 0.01 | lr_sch [0.01]\n",
      "\n",
      "No adjustment:  0.025127430756886837\n",
      "Epoch num 5\n"
     ]
    },
    {
     "data": {
      "application/vnd.jupyter.widget-view+json": {
       "model_id": "47af7dfcc3c74355be5ed5ffb7c78085",
       "version_major": 2,
       "version_minor": 0
      },
      "text/plain": [
       "  0%|          | 0/12 [00:00<?, ?it/s]"
      ]
     },
     "metadata": {},
     "output_type": "display_data"
    },
    {
     "name": "stdout",
     "output_type": "stream",
     "text": [
      "Epoch num 5| train loss 0.5878566801548004 | lr_opt 0.01 | lr_sch [0.01]\n",
      "\n",
      "No adjustment:  0.029071753223737062\n",
      "Epoch num 6\n"
     ]
    },
    {
     "data": {
      "application/vnd.jupyter.widget-view+json": {
       "model_id": "f771dc08de024e93aa02dbbf29d00224",
       "version_major": 2,
       "version_minor": 0
      },
      "text/plain": [
       "  0%|          | 0/12 [00:00<?, ?it/s]"
      ]
     },
     "metadata": {},
     "output_type": "display_data"
    },
    {
     "name": "stdout",
     "output_type": "stream",
     "text": [
      "Epoch num 6| train loss 0.5367317174871763 | lr_opt 0.01 | lr_sch [0.01]\n",
      "\n",
      "No adjustment:  0.04265428955356276\n",
      "Epoch num 7\n"
     ]
    },
    {
     "data": {
      "application/vnd.jupyter.widget-view+json": {
       "model_id": "3be0af0e4594416fb3c98d0f493e50d7",
       "version_major": 2,
       "version_minor": 0
      },
      "text/plain": [
       "  0%|          | 0/12 [00:00<?, ?it/s]"
      ]
     },
     "metadata": {},
     "output_type": "display_data"
    },
    {
     "name": "stdout",
     "output_type": "stream",
     "text": [
      "Epoch num 7| train loss 0.4891052842140198 | lr_opt 0.01 | lr_sch [0.01]\n",
      "\n",
      "No adjustment:  0.04937569797039032\n",
      "Eval Epoch num 7 | val loss 0.47201403975486755 | dsc 0.7316590547561646 \n",
      "\n",
      "largest DSC now: 0.7316590547561646\n",
      "Epoch num 8\n"
     ]
    },
    {
     "data": {
      "application/vnd.jupyter.widget-view+json": {
       "model_id": "5a64af48dbbb4c03adccb2408ea94355",
       "version_major": 2,
       "version_minor": 0
      },
      "text/plain": [
       "  0%|          | 0/12 [00:00<?, ?it/s]"
      ]
     },
     "metadata": {},
     "output_type": "display_data"
    },
    {
     "name": "stdout",
     "output_type": "stream",
     "text": [
      "Epoch num 8| train loss 0.46835750589768094 | lr_opt 0.01 | lr_sch [0.01]\n",
      "\n",
      "No adjustment:  0.03418710579474768\n",
      "Epoch num 9\n"
     ]
    },
    {
     "data": {
      "application/vnd.jupyter.widget-view+json": {
       "model_id": "54d2d3324fc3495999f87e25d5f2f7fd",
       "version_major": 2,
       "version_minor": 0
      },
      "text/plain": [
       "  0%|          | 0/12 [00:00<?, ?it/s]"
      ]
     },
     "metadata": {},
     "output_type": "display_data"
    },
    {
     "name": "stdout",
     "output_type": "stream",
     "text": [
      "Epoch num 9| train loss 0.44448184470335644 | lr_opt 0.01 | lr_sch [0.01]\n",
      "\n",
      "No adjustment:  0.022311719755331666\n",
      "Eval Epoch num 9 | val loss 0.4362313201030095 | dsc 0.7492612600326538 \n",
      "\n",
      "largest DSC now: 0.7492612600326538\n",
      "Epoch num 10\n"
     ]
    },
    {
     "data": {
      "application/vnd.jupyter.widget-view+json": {
       "model_id": "4c22d6bc44374c2cab9b30664bf919ee",
       "version_major": 2,
       "version_minor": 0
      },
      "text/plain": [
       "  0%|          | 0/12 [00:00<?, ?it/s]"
      ]
     },
     "metadata": {},
     "output_type": "display_data"
    },
    {
     "name": "stdout",
     "output_type": "stream",
     "text": [
      "Epoch num 10| train loss 0.42942385872205097 | lr_opt 0.01 | lr_sch [0.01]\n",
      "\n",
      "No adjustment:  0.019466823587814985\n",
      "Epoch num 11\n"
     ]
    },
    {
     "data": {
      "application/vnd.jupyter.widget-view+json": {
       "model_id": "b35ca076715543c1bfb16be165732385",
       "version_major": 2,
       "version_minor": 0
      },
      "text/plain": [
       "  0%|          | 0/12 [00:00<?, ?it/s]"
      ]
     },
     "metadata": {},
     "output_type": "display_data"
    },
    {
     "name": "stdout",
     "output_type": "stream",
     "text": [
      "Epoch num 11| train loss 0.42534461120764416 | lr_opt 0.01 | lr_sch [0.01]\n",
      "\n",
      "No adjustment:  0.00956861674785614\n",
      "Eval Epoch num 11 | val loss 0.4342779591679573 | dsc 0.7579964995384216 \n",
      "\n",
      "largest DSC now: 0.7579964995384216\n",
      "Epoch num 12\n"
     ]
    },
    {
     "data": {
      "application/vnd.jupyter.widget-view+json": {
       "model_id": "a07694e4a98541c3a620a5d9a21e2c6d",
       "version_major": 2,
       "version_minor": 0
      },
      "text/plain": [
       "  0%|          | 0/12 [00:00<?, ?it/s]"
      ]
     },
     "metadata": {},
     "output_type": "display_data"
    },
    {
     "name": "stdout",
     "output_type": "stream",
     "text": [
      "Epoch num 12| train loss 0.4195070837934812 | lr_opt 0.01 | lr_sch [0.01]\n",
      "\n",
      "Level 2 adjustment:  0.004958387464284897  <  0.005\n",
      "Epoch num 13\n"
     ]
    },
    {
     "data": {
      "application/vnd.jupyter.widget-view+json": {
       "model_id": "7ecf3615a7b4489b8ef4363e9471b37c",
       "version_major": 2,
       "version_minor": 0
      },
      "text/plain": [
       "  0%|          | 0/12 [00:00<?, ?it/s]"
      ]
     },
     "metadata": {},
     "output_type": "display_data"
    },
    {
     "name": "stdout",
     "output_type": "stream",
     "text": [
      "Epoch num 13| train loss 0.4112638160586357 | lr_opt 0.0025 | lr_sch [0.01]\n",
      "\n",
      "Eval Epoch num 13 | val loss 0.4021170238653819 | dsc 0.7687215805053711 \n",
      "\n",
      "largest DSC now: 0.7687215805053711\n",
      "Epoch num 14\n"
     ]
    },
    {
     "data": {
      "application/vnd.jupyter.widget-view+json": {
       "model_id": "1281df09a88e4e808e8ca2a8d697561d",
       "version_major": 2,
       "version_minor": 0
      },
      "text/plain": [
       "  0%|          | 0/12 [00:00<?, ?it/s]"
      ]
     },
     "metadata": {},
     "output_type": "display_data"
    },
    {
     "name": "stdout",
     "output_type": "stream",
     "text": [
      "Epoch num 14| train loss 0.40024879823128384 | lr_opt 0.0025 | lr_sch [0.01]\n",
      "\n",
      "Epoch num 15\n"
     ]
    },
    {
     "data": {
      "application/vnd.jupyter.widget-view+json": {
       "model_id": "635b856d5fe447ff80c032729482f23d",
       "version_major": 2,
       "version_minor": 0
      },
      "text/plain": [
       "  0%|          | 0/12 [00:00<?, ?it/s]"
      ]
     },
     "metadata": {},
     "output_type": "display_data"
    },
    {
     "name": "stdout",
     "output_type": "stream",
     "text": [
      "Epoch num 15| train loss 0.39846573770046234 | lr_opt 0.0025 | lr_sch [0.01]\n",
      "\n",
      "Eval Epoch num 15 | val loss 0.396168681482474 | dsc 0.7737613916397095 \n",
      "\n",
      "largest DSC now: 0.7737613916397095\n",
      "Epoch num 16\n"
     ]
    },
    {
     "data": {
      "application/vnd.jupyter.widget-view+json": {
       "model_id": "00f1e698d7c64ed28f414e0e01e8a99f",
       "version_major": 2,
       "version_minor": 0
      },
      "text/plain": [
       "  0%|          | 0/12 [00:00<?, ?it/s]"
      ]
     },
     "metadata": {},
     "output_type": "display_data"
    },
    {
     "name": "stdout",
     "output_type": "stream",
     "text": [
      "Epoch num 16| train loss 0.39570796489715576 | lr_opt 0.0025 | lr_sch [0.01]\n",
      "\n",
      "Level 3 adjustment:  0.0022704166670640402  <  0.003\n",
      "Epoch num 17\n"
     ]
    },
    {
     "data": {
      "application/vnd.jupyter.widget-view+json": {
       "model_id": "f839683a0dd74dbeb09f6fecb5440f2d",
       "version_major": 2,
       "version_minor": 0
      },
      "text/plain": [
       "  0%|          | 0/12 [00:00<?, ?it/s]"
      ]
     },
     "metadata": {},
     "output_type": "display_data"
    },
    {
     "name": "stdout",
     "output_type": "stream",
     "text": [
      "Epoch num 17| train loss 0.3928491622209549 | lr_opt 0.00025 | lr_sch [0.01]\n",
      "\n",
      "Eval Epoch num 17 | val loss 0.39250899106264114 | dsc 0.7741770148277283 \n",
      "\n",
      "largest DSC now: 0.7741770148277283\n",
      "Epoch num 18\n"
     ]
    },
    {
     "data": {
      "application/vnd.jupyter.widget-view+json": {
       "model_id": "972ee08ea19a4dc796ded997fadf175e",
       "version_major": 2,
       "version_minor": 0
      },
      "text/plain": [
       "  0%|          | 0/12 [00:00<?, ?it/s]"
      ]
     },
     "metadata": {},
     "output_type": "display_data"
    },
    {
     "name": "stdout",
     "output_type": "stream",
     "text": [
      "Epoch num 18| train loss 0.39200517783562344 | lr_opt 0.00025 | lr_sch [0.01]\n",
      "\n",
      "Epoch num 19\n"
     ]
    },
    {
     "data": {
      "application/vnd.jupyter.widget-view+json": {
       "model_id": "2d8a9f0ac7c943398cca27dcf89b0326",
       "version_major": 2,
       "version_minor": 0
      },
      "text/plain": [
       "  0%|          | 0/12 [00:00<?, ?it/s]"
      ]
     },
     "metadata": {},
     "output_type": "display_data"
    },
    {
     "name": "stdout",
     "output_type": "stream",
     "text": [
      "Epoch num 19| train loss 0.39288567503293353 | lr_opt 0.00025 | lr_sch [0.01]\n",
      "\n",
      "Eval Epoch num 19 | val loss 0.391967348754406 | dsc 0.7746373414993286 \n",
      "\n",
      "largest DSC now: 0.7746373414993286\n",
      "Epoch num 20\n"
     ]
    },
    {
     "data": {
      "application/vnd.jupyter.widget-view+json": {
       "model_id": "0ee4e13835094413b470ea93e3cfea42",
       "version_major": 2,
       "version_minor": 0
      },
      "text/plain": [
       "  0%|          | 0/12 [00:00<?, ?it/s]"
      ]
     },
     "metadata": {},
     "output_type": "display_data"
    },
    {
     "name": "stdout",
     "output_type": "stream",
     "text": [
      "Epoch num 20| train loss 0.39198970794677734 | lr_opt 0.00025 | lr_sch [0.01]\n",
      "\n",
      "Level 3 adjustment:  7.734944423049006e-06  <  0.003\n",
      "Epoch num 21\n"
     ]
    },
    {
     "data": {
      "application/vnd.jupyter.widget-view+json": {
       "model_id": "fef9773a710f4b039caa1b3b56506e89",
       "version_major": 2,
       "version_minor": 0
      },
      "text/plain": [
       "  0%|          | 0/12 [00:00<?, ?it/s]"
      ]
     },
     "metadata": {},
     "output_type": "display_data"
    },
    {
     "name": "stdout",
     "output_type": "stream",
     "text": [
      "Epoch num 21| train loss 0.3924522176384926 | lr_opt 2.5e-05 | lr_sch [0.01]\n",
      "\n",
      "Eval Epoch num 21 | val loss 0.39175523320833844 | dsc 0.774807870388031 \n",
      "\n",
      "largest DSC now: 0.774807870388031\n",
      "Epoch num 22\n"
     ]
    },
    {
     "data": {
      "application/vnd.jupyter.widget-view+json": {
       "model_id": "30f99c2688764ac7900cc4595617d371",
       "version_major": 2,
       "version_minor": 0
      },
      "text/plain": [
       "  0%|          | 0/12 [00:00<?, ?it/s]"
      ]
     },
     "metadata": {},
     "output_type": "display_data"
    },
    {
     "ename": "KeyboardInterrupt",
     "evalue": "",
     "output_type": "error",
     "traceback": [
      "\u001b[1;31m---------------------------------------------------------------------------\u001b[0m",
      "\u001b[1;31mKeyboardInterrupt\u001b[0m                         Traceback (most recent call last)",
      "Cell \u001b[1;32mIn[13], line 90\u001b[0m\n\u001b[0;32m     87\u001b[0m     \u001b[38;5;28;01mwith\u001b[39;00m torch\u001b[38;5;241m.\u001b[39mno_grad():\n\u001b[0;32m     88\u001b[0m         img_emb \u001b[38;5;241m=\u001b[39m sammy\u001b[38;5;241m.\u001b[39mencode_img(imgs)\n\u001b[1;32m---> 90\u001b[0m sparse_emb, dense_emb \u001b[38;5;241m=\u001b[39m \u001b[43msammy\u001b[49m\u001b[38;5;241;43m.\u001b[39;49m\u001b[43mencode_promts\u001b[49m\u001b[43m(\u001b[49m\u001b[43mpoints\u001b[49m\u001b[38;5;241;43m=\u001b[39;49m\u001b[43mpoints\u001b[49m\u001b[43m,\u001b[49m\u001b[43m \u001b[49m\u001b[43mlabels\u001b[49m\u001b[38;5;241;43m=\u001b[39;49m\u001b[43mlabels\u001b[49m\u001b[43m)\u001b[49m\n\u001b[0;32m     95\u001b[0m _,pred \u001b[38;5;241m=\u001b[39m sammy\u001b[38;5;241m.\u001b[39mdecode_features(img_emb, sparse_emb, dense_emb)\n\u001b[0;32m    100\u001b[0m msks \u001b[38;5;241m=\u001b[39m torch\u001b[38;5;241m.\u001b[39mtensor(msks)\u001b[38;5;241m.\u001b[39mfloat()\u001b[38;5;241m.\u001b[39mcuda()\n",
      "File \u001b[1;32mc:\\SamPeft\\train_for_real.py:229\u001b[0m, in \u001b[0;36mSammy.encode_promts\u001b[1;34m(self, points, labels)\u001b[0m\n\u001b[0;32m    226\u001b[0m \u001b[38;5;28;01mdef\u001b[39;00m \u001b[38;5;21mencode_promts\u001b[39m(\u001b[38;5;28mself\u001b[39m, points, labels):\n\u001b[0;32m    227\u001b[0m     \u001b[38;5;66;03m#point_coords = self.transform.apply_coords(points,self.input_image.shape[:2])\u001b[39;00m\n\u001b[0;32m    228\u001b[0m     points \u001b[38;5;241m=\u001b[39m np\u001b[38;5;241m.\u001b[39marray(points) \u001b[38;5;241m*\u001b[39m \u001b[38;5;28mself\u001b[39m\u001b[38;5;241m.\u001b[39minput_img_scale \n\u001b[1;32m--> 229\u001b[0m     coords_torch \u001b[38;5;241m=\u001b[39m \u001b[43mtorch\u001b[49m\u001b[38;5;241;43m.\u001b[39;49m\u001b[43mas_tensor\u001b[49m\u001b[43m(\u001b[49m\u001b[43mpoints\u001b[49m\u001b[43m,\u001b[49m\u001b[43m \u001b[49m\u001b[43mdtype\u001b[49m\u001b[38;5;241;43m=\u001b[39;49m\u001b[43mtorch\u001b[49m\u001b[38;5;241;43m.\u001b[39;49m\u001b[43mfloat\u001b[49m\u001b[43m,\u001b[49m\u001b[43m \u001b[49m\u001b[43mdevice\u001b[49m\u001b[38;5;241;43m=\u001b[39;49m\u001b[43mdevice\u001b[49m\u001b[43m)\u001b[49m\n\u001b[0;32m    230\u001b[0m     labels_torch \u001b[38;5;241m=\u001b[39m torch\u001b[38;5;241m.\u001b[39mas_tensor(labels, dtype\u001b[38;5;241m=\u001b[39mtorch\u001b[38;5;241m.\u001b[39mint, device\u001b[38;5;241m=\u001b[39mdevice)\n\u001b[0;32m    231\u001b[0m     \u001b[38;5;66;03m#coords_torch, labels_torch = coords_torch[None, :, :], labels_torch[None, :]\u001b[39;00m\n",
      "\u001b[1;31mKeyboardInterrupt\u001b[0m: "
     ]
    }
   ],
   "source": [
    "# TRAINING LOOP\n",
    "b_lr = 0.01\n",
    "if args.if_warmup:\n",
    "    b_lr = 0.01\n",
    "\n",
    "epochs = 64\n",
    "batch_size = 5\n",
    "\n",
    "optimizer = optim.AdamW(sam.parameters(), lr=b_lr, betas=(0.9, 0.999), eps=1e-08, weight_decay=0.1, amsgrad=False)\n",
    "optimizer.zero_grad()\n",
    "scheduler = optim.lr_scheduler.StepLR(optimizer, step_size=7, gamma=0.7) #learning rate decay\n",
    "\n",
    "criterion1 = monai.losses.DiceLoss(sigmoid=True, squared_pred=True, reduction='mean')\n",
    "criterion2 = nn.BCEWithLogitsLoss()\n",
    "iter_num = 0\n",
    "max_iterations = epochs * train_points\n",
    "writer = SummaryWriter(checkpoints_path + '/log')\n",
    "\n",
    "pbar = tqdm(range(epochs))\n",
    "val_largest_dsc = 0\n",
    "last_update_epoch = 0\n",
    "print('Start training')\n",
    "\n",
    "mask_downscale_f = Upsample(scale_factor=0.5)\n",
    "\n",
    "#args.if_warmup = True\n",
    "args.warmup_period = 20\n",
    "\n",
    "\n",
    "is_warmup_over = not args.if_warmup\n",
    "train_data.divide_into_batches(batch_size)\n",
    "print(\"Number of batches: \",len(train_data.batches))\n",
    "print(\"Batches pr epoch: \",len(train_data.batches))\n",
    "\n",
    "\n",
    "\n",
    "\n",
    "lrs = []\n",
    "lss = []\n",
    "\n",
    "\n",
    "for epoch in pbar:\n",
    "    print('Epoch num {}'.format(epoch))\n",
    "    sam.train()\n",
    "    train_loss = 0\n",
    "    train_data.divide_into_batches(batch_size)\n",
    "\n",
    "    \n",
    "    if args.if_warmup and epoch < args.warmup_period:\n",
    "            \n",
    "            # s = ((2*args.warmup_period)+1) / (epoch+1 )\n",
    "            # scalar = min(max(s,2.5),8)\n",
    "            l = [0.9,0.8,0.75,0.72,0.7,0.68,0.66,0.64,0.62,0.6,0.58,0.56,0.54,0.52,0.5,0.48,0.46,0.44,0.42,0.4]\n",
    "            scalar = l[epoch]\n",
    "            lr_ = b_lr * (5*scalar)\n",
    "            for param_group in optimizer.param_groups:\n",
    "                param_group['lr'] = lr_\n",
    "            # set also for scheduler\n",
    "            for param_group in scheduler.optimizer.param_groups:\n",
    "                param_group['lr'] = lr_\n",
    "\n",
    "    elif args.if_warmup and epoch == args.warmup_period:\n",
    "        is_warmup_over = True\n",
    "        b_lr = 0.01\n",
    "        print('**Warmup is over**')\n",
    "        for param_group in optimizer.param_groups:\n",
    "            param_group['lr'] = b_lr\n",
    "        # set also for scheduler\n",
    "        for param_group in scheduler.optimizer.param_groups:\n",
    "            param_group['lr'] = b_lr\n",
    "\n",
    "\n",
    "    b_bar = tqdm(range(len(train_data.batches)))\n",
    "\n",
    "    for i in b_bar:\n",
    "\n",
    "        batch = train_data.batches[i]\n",
    "        imgs = batch['image']\n",
    "        msks = batch['mask']\n",
    "        points = batch['points']\n",
    "        labels = batch['p_labels']\n",
    "\n",
    "\n",
    "        if args.if_update_encoder:\n",
    "            img_emb = sammy.encode_img(imgs)\n",
    "        else:\n",
    "            with torch.no_grad():\n",
    "                img_emb = sammy.encode_img(imgs)\n",
    "        \n",
    "        sparse_emb, dense_emb = sammy.encode_promts(points=points, labels=labels)\n",
    "\n",
    "\n",
    "\n",
    "\n",
    "        _,pred = sammy.decode_features(img_emb, sparse_emb, dense_emb)\n",
    "\n",
    "        \n",
    "\n",
    "\n",
    "        msks = torch.tensor(msks).float().cuda()\n",
    "        # from Bx512x512 to Bx1x512x512\n",
    "        msks = msks.unsqueeze(1)\n",
    "        # from 512x512 to 256x256\n",
    "        msks = mask_downscale_f(msks)\n",
    "        \n",
    "        \n",
    "        \n",
    "        loss_dice =  criterion1(pred,msks)\n",
    "        loss_ce = criterion2(pred,msks)\n",
    "        loss =  loss_dice + loss_ce\n",
    "\n",
    "\n",
    "        loss.backward()\n",
    "        optimizer.step()\n",
    "        optimizer.zero_grad(set_to_none=True)\n",
    "\n",
    "        train_loss += loss.item()\n",
    "        iter_num+=1\n",
    "\n",
    "        if is_warmup_over:\n",
    "            writer.add_scalar('info/lr', scheduler.get_last_lr(), iter_num)\n",
    "        else:\n",
    "            writer.add_scalar('info/lr', lr_, iter_num)\n",
    "        writer.add_scalar('info/total_loss', loss, iter_num)\n",
    "        writer.add_scalar('info/loss_ce', loss_ce, iter_num)\n",
    "        #writer.add_scalar('info/loss_dice', loss_dice, iter_num)\n",
    "    \n",
    "\n",
    "    \n",
    "\n",
    "    train_loss /= (i+1)\n",
    "    #pbar.set_description('Epoch num {}| train loss {} | lr {} \\n'.format(epoch,train_loss,optimizer.param_groups[0]['lr']))\n",
    "    print('Epoch num {}| train loss {} | lr_opt {} | lr_sch {}\\n'.format(epoch,train_loss,optimizer.param_groups[0]['lr'],scheduler.get_last_lr()))\n",
    "\n",
    "    lss.append(train_loss)\n",
    "    lrs.append(optimizer.param_groups[0]['lr'])\n",
    "    if len(lss) > 3:\n",
    "        b_lr = adjust_lr(lss, lrs)\n",
    "        #print(\"adjust_lr:\",b_lr)\n",
    "        if b_lr != optimizer.param_groups[0]['lr']:\n",
    "            for param_group in optimizer.param_groups:\n",
    "                param_group['lr'] = b_lr\n",
    "            lss = []\n",
    "            lrs = []\n",
    "        else:\n",
    "            lss.pop(0)\n",
    "            lrs.pop(0)\n",
    "\n",
    "        \n",
    "        \n",
    "\n",
    "\n",
    "    # if is_warmup_over:\n",
    "    #     scheduler.step()\n",
    "\n",
    "\n",
    "\n",
    "    if epoch > 5 and not epoch%2==0:\n",
    "        \n",
    "        eval_loss=0\n",
    "        dsc = 0\n",
    "        sam.eval()\n",
    "        with torch.no_grad():\n",
    "            train_data.divide_into_batches(batch_size)\n",
    "            for i in range(len(train_data.batches)):\n",
    "                batch = train_data.batches[i]\n",
    "                imgs = batch['image']\n",
    "                msks = batch['mask']\n",
    "                points = batch['points']\n",
    "                labels = batch['p_labels']\n",
    "\n",
    "                img_emb = sammy.encode_img(imgs)\n",
    "                \n",
    "                sparse_emb, dense_emb = sammy.encode_promts(points=points, labels=labels)\n",
    "                _,pred = sammy.decode_features(img_emb, sparse_emb, dense_emb)\n",
    "\n",
    "                msks = torch.tensor(msks).float().cuda()\n",
    "                # from Bx512x512 to Bx1x512x512\n",
    "                msks = msks.unsqueeze(1)\n",
    "                # from 512x512 to 256x256\n",
    "                msks = mask_downscale_f(msks)\n",
    "                \n",
    "                loss_dice =  criterion1(pred,msks)\n",
    "                loss_ce = criterion2(pred,msks)\n",
    "                loss =  loss_dice + loss_ce\n",
    "                \n",
    "                eval_loss +=loss.item()\n",
    "                dsc_batch = 1-loss_dice\n",
    "                dsc+=dsc_batch\n",
    "                #print(dsc_batch)\n",
    "\n",
    "            eval_loss /= (i+1)\n",
    "            dsc /= (i+1)\n",
    "            \n",
    "            writer.add_scalar('eval/loss', eval_loss, epoch)\n",
    "            writer.add_scalar('eval/dice', dsc, epoch)\n",
    "            \n",
    "            print('Eval Epoch num {} | val loss {} | dsc {} \\n'.format(epoch,eval_loss,dsc))\n",
    "            if dsc>val_largest_dsc:\n",
    "                val_largest_dsc = dsc\n",
    "                last_update_epoch = epoch\n",
    "                print('largest DSC now: {}'.format(dsc))\n",
    "                torch.save(sam.state_dict(),checkpoints_path + '/checkpoint_best.pth')\n",
    "            elif (epoch-last_update_epoch)>20:\n",
    "                # the network haven't been updated for 20 epochs\n",
    "                print('Training finished###########')\n",
    "                break\n",
    "writer.close()"
   ]
  },
  {
   "cell_type": "code",
   "execution_count": 7,
   "metadata": {},
   "outputs": [
    {
     "name": "stdout",
     "output_type": "stream",
     "text": [
      "Eval Loss: 0.38904473185539246, DSC: 0.7918639779090881\n"
     ]
    },
    {
     "name": "stderr",
     "output_type": "stream",
     "text": [
      "c:\\Users\\newma\\AppData\\Local\\Programs\\Python\\Python310\\lib\\site-packages\\monai\\losses\\dice.py:156: UserWarning: single channel prediction, `to_onehot_y=True` ignored.\n",
      "  warnings.warn(\"single channel prediction, `to_onehot_y=True` ignored.\")\n"
     ]
    }
   ],
   "source": [
    "from shit import test_model\n",
    "test_model(sam,sammy)"
   ]
  },
  {
   "cell_type": "code",
   "execution_count": 91,
   "metadata": {},
   "outputs": [
    {
     "data": {
      "text/plain": [
       "<matplotlib.image.AxesImage at 0x1d34bb5dde0>"
      ]
     },
     "execution_count": 91,
     "metadata": {},
     "output_type": "execute_result"
    },
    {
     "data": {
      "image/png": "[encoded data removed]",
      "text/plain": [
       "<Figure size 640x480 with 1 Axes>"
      ]
     },
     "metadata": {},
     "output_type": "display_data"
    }
   ],
   "source": [
    "p = pred[1][0].detach().cpu().numpy()\n",
    "m = msks[1][0].detach().cpu().numpy()\n",
    "p = np.where(p > 0.5, 1, 0)\n",
    "m = np.where(m > 0, 1, 0)\n",
    "im = np.full((256,256,3),100)\n",
    "# color green where m == p == 1\n",
    "im[np.where((m==1) & (p==1))] = [0,255,0]\n",
    "# color red where m == 1 and p == 0\n",
    "im[np.where((m==1) & (p==0))] = [255,0,0]\n",
    "# color blue where m == 0 and p == 1\n",
    "im[np.where((m==0) & (p==1))] = [0,0,255]\n",
    "\n",
    "\n",
    "# plot the mask\n",
    "plt.imshow(im)"
   ]
  },
  {
   "cell_type": "code",
   "execution_count": null,
   "metadata": {},
   "outputs": [],
   "source": [
    "def visualize_true_mask(mask,points, p_labels):\n",
    "    f = Upsample(scale_factor=0.5)\n",
    "\n",
    "    tru = mask\n",
    "    \n",
    "    points = points * 0.5\n",
    "    lbls = p_labels\n",
    "    \n",
    "\n",
    "    tru = f(torch.tensor(tru)[None,None, :, :].float()).numpy()\n",
    "    tru = tru[0][0]\n",
    "    \n",
    "    # plot only true mask\n",
    "    fig, axs = plt.subplots(1, 1, figsize=(10,10))\n",
    "    axs.imshow(tru, cmap='gray')\n",
    "    \n",
    "    #scatter points\n",
    "    for i in range(len(points)):\n",
    "        if lbls[i] == 1:\n",
    "            axs.scatter(points[i][1], points[i][0], c='blue')#, s = 2)\n",
    "        else:\n",
    "            axs.scatter(points[i][1], points[i][0], c='red')#, s = 2)\n",
    "\n",
    "    "
   ]
  },
  {
   "cell_type": "code",
   "execution_count": null,
   "metadata": {},
   "outputs": [],
   "source": [
    "def visualize_predictions(true_mask, low_res_preds, points, p_labels):\n",
    "    f = Upsample(scale_factor=0.5)\n",
    "    # tru = org_data['mask'][0]\n",
    "    # ponts = org_data['points'][0]\n",
    "    # ponts = ponts * 0.5\n",
    "    # lbls = org_data['p_labels'][0]\n",
    "\n",
    "    tru = true_mask\n",
    "    ponts = points\n",
    "    ponts = ponts * 0.5\n",
    "    lbls = p_labels\n",
    "    \n",
    "\n",
    "    tru = f(torch.tensor(tru)[None,None, :, :].float()).numpy()\n",
    "    tru = tru[0][0]\n",
    "    preds = low_res_masks[0].detach().cpu().numpy()\n",
    "    preds = np.where(preds > 0.5, 1, 0)\n",
    "    print(tru.shape)\n",
    "    print(preds[0].shape)\n",
    "\n",
    "    # plot three subplots each for tru and a class prediction\n",
    "    fig, axs = plt.subplots(3,1)\n",
    "    fig.suptitle('Predictions for Image 1')\n",
    "    axs[0,].set_title('Prediction 1')\n",
    "    tNp = tru + preds[0]*5\n",
    "    axs[0].imshow(tNp)\n",
    "    # scatter points   \n",
    "    for i in range(len(ponts)):\n",
    "        if lbls[i] == 1:\n",
    "            axs[0].scatter(ponts[i][1], ponts[i][0], c='blue', s = 2)\n",
    "        else:\n",
    "            axs[0].scatter(ponts[i][1], ponts[i][0], c='red', s = 2)\n",
    "\n",
    "\n",
    "    axs[1].set_title('Prediction 2')\n",
    "    tNp = tru + preds[1]*5\n",
    "    axs[1].imshow(tNp)\n",
    "    # scatter points\n",
    "    for i in range(len(ponts)):\n",
    "        if lbls[i] == 1:\n",
    "            axs[1].scatter(ponts[i][1], ponts[i][0], c='blue', s = 2)\n",
    "        else:\n",
    "            axs[1].scatter(ponts[i][1], ponts[i][0], c='red', s = 2)\n",
    "\n",
    "\n",
    "    axs[2].set_title('Prediction 3')\n",
    "    tNp = tru + preds[2]*5\n",
    "    axs[2].imshow(tNp)\n",
    "    # scatter points with size 2pxs\n",
    "    for i in range(len(ponts)):\n",
    "        if lbls[i] == 1:\n",
    "            axs[2].scatter(ponts[i][1], ponts[i][0], c='blue', s = 2)\n",
    "        else:\n",
    "            axs[2].scatter(ponts[i][1], ponts[i][0], c='red', s = 2)\n",
    "    plt.show()\n",
    "\n",
    "\n",
    "\n",
    "\n",
    "\n",
    "\n",
    "# # 3 masks for 3 classes\n",
    "# img1_masks = low_res_masks[0]\n",
    "# # # # plot low res masks\n",
    "# plt.imshow(img1_masks[].detach().cpu().numpy())\n",
    "# plt.show()"
   ]
  }
 ],
 "metadata": {
  "accelerator": "GPU",
  "colab": {
   "gpuType": "T4",
   "provenance": []
  },
  "kernelspec": {
   "display_name": "Python 3",
   "name": "python3"
  },
  "language_info": {
   "codemirror_mode": {
    "name": "ipython",
    "version": 3
   },
   "file_extension": ".py",
   "mimetype": "text/x-python",
   "name": "python",
   "nbconvert_exporter": "python",
   "pygments_lexer": "ipython3",
   "version": "3.10.10"
  },
  "widgets": {
   "application/vnd.jupyter.widget-state+json": {
    "3a3663b3d63a4c4cac421d8fd4746051": {
     "model_module": "@jupyter-widgets/controls",
     "model_module_version": "1.5.0",
     "model_name": "HTMLModel",
     "state": {
      "_dom_classes": [],
      "_model_module": "@jupyter-widgets/controls",
      "_model_module_version": "1.5.0",
      "_model_name": "HTMLModel",
      "_view_count": null,
      "_view_module": "@jupyter-widgets/controls",
      "_view_module_version": "1.5.0",
      "_view_name": "HTMLView",
      "description": "",
      "description_tooltip": null,
      "layout": "IPY_MODEL_7ffd23cd526d49bbb04bb3fb3713d38c",
      "placeholder": "​",
      "style": "IPY_MODEL_e3bd26913d7d48ba8622d17d290ed9b9",
      "value": "preprocessor_config.json: 100%"
     }
    },
    "4988b977dc674fde92fe781df557bd9a": {
     "model_module": "@jupyter-widgets/controls",
     "model_module_version": "1.5.0",
     "model_name": "ProgressStyleModel",
     "state": {
      "_model_module": "@jupyter-widgets/controls",
      "_model_module_version": "1.5.0",
      "_model_name": "ProgressStyleModel",
      "_view_count": null,
      "_view_module": "@jupyter-widgets/base",
      "_view_module_version": "1.2.0",
      "_view_name": "StyleView",
      "bar_color": null,
      "description_width": ""
     }
    },
    "762364a1ca11410894f2ba1104b3b81f": {
     "model_module": "@jupyter-widgets/controls",
     "model_module_version": "1.5.0",
     "model_name": "HTMLModel",
     "state": {
      "_dom_classes": [],
      "_model_module": "@jupyter-widgets/controls",
      "_model_module_version": "1.5.0",
      "_model_name": "HTMLModel",
      "_view_count": null,
      "_view_module": "@jupyter-widgets/controls",
      "_view_module_version": "1.5.0",
      "_view_name": "HTMLView",
      "description": "",
      "description_tooltip": null,
      "layout": "IPY_MODEL_a0caf5e9e72d4b029a7bb4d10baed9e8",
      "placeholder": "​",
      "style": "IPY_MODEL_937b51bfed124a47a46c4773998531f5",
      "value": " 466/466 [00:00&lt;00:00, 33.8kB/s]"
     }
    },
    "7ab0cc445a37426c89c5710c15db6227": {
     "model_module": "@jupyter-widgets/controls",
     "model_module_version": "1.5.0",
     "model_name": "HBoxModel",
     "state": {
      "_dom_classes": [],
      "_model_module": "@jupyter-widgets/controls",
      "_model_module_version": "1.5.0",
      "_model_name": "HBoxModel",
      "_view_count": null,
      "_view_module": "@jupyter-widgets/controls",
      "_view_module_version": "1.5.0",
      "_view_name": "HBoxView",
      "box_style": "",
      "children": [
       "IPY_MODEL_3a3663b3d63a4c4cac421d8fd4746051",
       "IPY_MODEL_ab8c2f638a7e49bc95f5f3675cdfb737",
       "IPY_MODEL_762364a1ca11410894f2ba1104b3b81f"
      ],
      "layout": "IPY_MODEL_8aa7ec419c4a4c7db62e6fcc1df27498"
     }
    },
    "7ffd23cd526d49bbb04bb3fb3713d38c": {
     "model_module": "@jupyter-widgets/base",
     "model_module_version": "1.2.0",
     "model_name": "LayoutModel",
     "state": {
      "_model_module": "@jupyter-widgets/base",
      "_model_module_version": "1.2.0",
      "_model_name": "LayoutModel",
      "_view_count": null,
      "_view_module": "@jupyter-widgets/base",
      "_view_module_version": "1.2.0",
      "_view_name": "LayoutView",
      "align_content": null,
      "align_items": null,
      "align_self": null,
      "border": null,
      "bottom": null,
      "display": null,
      "flex": null,
      "flex_flow": null,
      "grid_area": null,
      "grid_auto_columns": null,
      "grid_auto_flow": null,
      "grid_auto_rows": null,
      "grid_column": null,
      "grid_gap": null,
      "grid_row": null,
      "grid_template_areas": null,
      "grid_template_columns": null,
      "grid_template_rows": null,
      "height": null,
      "justify_content": null,
      "justify_items": null,
      "left": null,
      "margin": null,
      "max_height": null,
      "max_width": null,
      "min_height": null,
      "min_width": null,
      "object_fit": null,
      "object_position": null,
      "order": null,
      "overflow": null,
      "overflow_x": null,
      "overflow_y": null,
      "padding": null,
      "right": null,
      "top": null,
      "visibility": null,
      "width": null
     }
    },
    "8aa7ec419c4a4c7db62e6fcc1df27498": {
     "model_module": "@jupyter-widgets/base",
     "model_module_version": "1.2.0",
     "model_name": "LayoutModel",
     "state": {
      "_model_module": "@jupyter-widgets/base",
      "_model_module_version": "1.2.0",
      "_model_name": "LayoutModel",
      "_view_count": null,
      "_view_module": "@jupyter-widgets/base",
      "_view_module_version": "1.2.0",
      "_view_name": "LayoutView",
      "align_content": null,
      "align_items": null,
      "align_self": null,
      "border": null,
      "bottom": null,
      "display": null,
      "flex": null,
      "flex_flow": null,
      "grid_area": null,
      "grid_auto_columns": null,
      "grid_auto_flow": null,
      "grid_auto_rows": null,
      "grid_column": null,
      "grid_gap": null,
      "grid_row": null,
      "grid_template_areas": null,
      "grid_template_columns": null,
      "grid_template_rows": null,
      "height": null,
      "justify_content": null,
      "justify_items": null,
      "left": null,
      "margin": null,
      "max_height": null,
      "max_width": null,
      "min_height": null,
      "min_width": null,
      "object_fit": null,
      "object_position": null,
      "order": null,
      "overflow": null,
      "overflow_x": null,
      "overflow_y": null,
      "padding": null,
      "right": null,
      "top": null,
      "visibility": null,
      "width": null
     }
    },
    "937b51bfed124a47a46c4773998531f5": {
     "model_module": "@jupyter-widgets/controls",
     "model_module_version": "1.5.0",
     "model_name": "DescriptionStyleModel",
     "state": {
      "_model_module": "@jupyter-widgets/controls",
      "_model_module_version": "1.5.0",
      "_model_name": "DescriptionStyleModel",
      "_view_count": null,
      "_view_module": "@jupyter-widgets/base",
      "_view_module_version": "1.2.0",
      "_view_name": "StyleView",
      "description_width": ""
     }
    },
    "a0caf5e9e72d4b029a7bb4d10baed9e8": {
     "model_module": "@jupyter-widgets/base",
     "model_module_version": "1.2.0",
     "model_name": "LayoutModel",
     "state": {
      "_model_module": "@jupyter-widgets/base",
      "_model_module_version": "1.2.0",
      "_model_name": "LayoutModel",
      "_view_count": null,
      "_view_module": "@jupyter-widgets/base",
      "_view_module_version": "1.2.0",
      "_view_name": "LayoutView",
      "align_content": null,
      "align_items": null,
      "align_self": null,
      "border": null,
      "bottom": null,
      "display": null,
      "flex": null,
      "flex_flow": null,
      "grid_area": null,
      "grid_auto_columns": null,
      "grid_auto_flow": null,
      "grid_auto_rows": null,
      "grid_column": null,
      "grid_gap": null,
      "grid_row": null,
      "grid_template_areas": null,
      "grid_template_columns": null,
      "grid_template_rows": null,
      "height": null,
      "justify_content": null,
      "justify_items": null,
      "left": null,
      "margin": null,
      "max_height": null,
      "max_width": null,
      "min_height": null,
      "min_width": null,
      "object_fit": null,
      "object_position": null,
      "order": null,
      "overflow": null,
      "overflow_x": null,
      "overflow_y": null,
      "padding": null,
      "right": null,
      "top": null,
      "visibility": null,
      "width": null
     }
    },
    "ab8c2f638a7e49bc95f5f3675cdfb737": {
     "model_module": "@jupyter-widgets/controls",
     "model_module_version": "1.5.0",
     "model_name": "FloatProgressModel",
     "state": {
      "_dom_classes": [],
      "_model_module": "@jupyter-widgets/controls",
      "_model_module_version": "1.5.0",
      "_model_name": "FloatProgressModel",
      "_view_count": null,
      "_view_module": "@jupyter-widgets/controls",
      "_view_module_version": "1.5.0",
      "_view_name": "ProgressView",
      "bar_style": "success",
      "description": "",
      "description_tooltip": null,
      "layout": "IPY_MODEL_df9e5b3a11c642c5b32b84a693751ac3",
      "max": 466,
      "min": 0,
      "orientation": "horizontal",
      "style": "IPY_MODEL_4988b977dc674fde92fe781df557bd9a",
      "value": 466
     }
    },
    "df9e5b3a11c642c5b32b84a693751ac3": {
     "model_module": "@jupyter-widgets/base",
     "model_module_version": "1.2.0",
     "model_name": "LayoutModel",
     "state": {
      "_model_module": "@jupyter-widgets/base",
      "_model_module_version": "1.2.0",
      "_model_name": "LayoutModel",
      "_view_count": null,
      "_view_module": "@jupyter-widgets/base",
      "_view_module_version": "1.2.0",
      "_view_name": "LayoutView",
      "align_content": null,
      "align_items": null,
      "align_self": null,
      "border": null,
      "bottom": null,
      "display": null,
      "flex": null,
      "flex_flow": null,
      "grid_area": null,
      "grid_auto_columns": null,
      "grid_auto_flow": null,
      "grid_auto_rows": null,
      "grid_column": null,
      "grid_gap": null,
      "grid_row": null,
      "grid_template_areas": null,
      "grid_template_columns": null,
      "grid_template_rows": null,
      "height": null,
      "justify_content": null,
      "justify_items": null,
      "left": null,
      "margin": null,
      "max_height": null,
      "max_width": null,
      "min_height": null,
      "min_width": null,
      "object_fit": null,
      "object_position": null,
      "order": null,
      "overflow": null,
      "overflow_x": null,
      "overflow_y": null,
      "padding": null,
      "right": null,
      "top": null,
      "visibility": null,
      "width": null
     }
    },
    "e3bd26913d7d48ba8622d17d290ed9b9": {
     "model_module": "@jupyter-widgets/controls",
     "model_module_version": "1.5.0",
     "model_name": "DescriptionStyleModel",
     "state": {
      "_model_module": "@jupyter-widgets/controls",
      "_model_module_version": "1.5.0",
      "_model_name": "DescriptionStyleModel",
      "_view_count": null,
      "_view_module": "@jupyter-widgets/base",
      "_view_module_version": "1.2.0",
      "_view_name": "StyleView",
      "description_width": ""
     }
    }
   }
  }
 },
 "nbformat": 4,
 "nbformat_minor": 0
}
