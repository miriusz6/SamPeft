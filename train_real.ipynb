{
 "cells": [
  {
   "cell_type": "markdown",
   "metadata": {},
   "source": [
    "Imports:"
   ]
  },
  {
   "cell_type": "code",
   "execution_count": 1,
   "metadata": {},
   "outputs": [
    {
     "name": "stderr",
     "output_type": "stream",
     "text": [
      "c:\\Users\\newma\\AppData\\Local\\Programs\\Python\\Python310\\lib\\site-packages\\timm\\models\\layers\\__init__.py:48: FutureWarning: Importing from timm.models.layers is deprecated, please import via timm.layers\n",
      "  warnings.warn(f\"Importing from {__name__} is deprecated, please import via timm.layers\", FutureWarning)\n",
      "c:\\Users\\newma\\AppData\\Local\\Programs\\Python\\Python310\\lib\\site-packages\\timm\\models\\registry.py:4: FutureWarning: Importing from timm.models.registry is deprecated, please import via timm.models\n",
      "  warnings.warn(f\"Importing from {__name__} is deprecated, please import via timm.models\", FutureWarning)\n",
      "c:\\KU\\SamPeft\\finetuneSAM\\models\\sam\\modeling\\tiny_vit_sam.py:760: UserWarning: Overwriting tiny_vit_5m_224 in registry with finetuneSAM.models.sam.modeling.tiny_vit_sam.tiny_vit_5m_224. This is because the name being registered conflicts with an existing name. Please check if this is not expected.\n",
      "  return register_model(fn_wrapper)\n",
      "c:\\KU\\SamPeft\\finetuneSAM\\models\\sam\\modeling\\tiny_vit_sam.py:760: UserWarning: Overwriting tiny_vit_11m_224 in registry with finetuneSAM.models.sam.modeling.tiny_vit_sam.tiny_vit_11m_224. This is because the name being registered conflicts with an existing name. Please check if this is not expected.\n",
      "  return register_model(fn_wrapper)\n",
      "c:\\KU\\SamPeft\\finetuneSAM\\models\\sam\\modeling\\tiny_vit_sam.py:760: UserWarning: Overwriting tiny_vit_21m_224 in registry with finetuneSAM.models.sam.modeling.tiny_vit_sam.tiny_vit_21m_224. This is because the name being registered conflicts with an existing name. Please check if this is not expected.\n",
      "  return register_model(fn_wrapper)\n",
      "c:\\KU\\SamPeft\\finetuneSAM\\models\\sam\\modeling\\tiny_vit_sam.py:760: UserWarning: Overwriting tiny_vit_21m_384 in registry with finetuneSAM.models.sam.modeling.tiny_vit_sam.tiny_vit_21m_384. This is because the name being registered conflicts with an existing name. Please check if this is not expected.\n",
      "  return register_model(fn_wrapper)\n",
      "c:\\KU\\SamPeft\\finetuneSAM\\models\\sam\\modeling\\tiny_vit_sam.py:760: UserWarning: Overwriting tiny_vit_21m_512 in registry with finetuneSAM.models.sam.modeling.tiny_vit_sam.tiny_vit_21m_512. This is because the name being registered conflicts with an existing name. Please check if this is not expected.\n",
      "  return register_model(fn_wrapper)\n"
     ]
    }
   ],
   "source": [
    "from train_for_real import *"
   ]
  },
  {
   "cell_type": "code",
   "execution_count": 2,
   "metadata": {},
   "outputs": [
    {
     "name": "stderr",
     "output_type": "stream",
     "text": [
      "c:\\KU\\SamPeft\\finetuneSAM\\models\\sam\\build_sam.py:158: FutureWarning: You are using `torch.load` with `weights_only=False` (the current default value), which uses the default pickle module implicitly. It is possible to construct malicious pickle data which will execute arbitrary code during unpickling (See https://github.com/pytorch/pytorch/blob/main/SECURITY.md#untrusted-models for more details). In a future release, the default value for `weights_only` will be flipped to `True`. This limits the functions that could be executed during unpickling. Arbitrary objects will no longer be allowed to be loaded via this mode unless they are explicitly allowlisted by the user via `torch.serialization.add_safe_globals`. We recommend you start setting `weights_only=True` for any use case where you don't have full control of the loaded file. Please open an issue on GitHub for any issues related to this experimental feature.\n",
      "  state_dict = torch.load(f)\n"
     ]
    }
   ],
   "source": [
    "from finetuneSAM.cfg import parse_args\n",
    "#Fine-Tune Sam\n",
    "args =  parse_args()\n",
    "\n",
    "\n",
    "# setting if_mask_decoder_adapter = True puts adapters inside 2-way transformer blocks\n",
    "# this does not change the number of decoder 2-way transformer blocks (def = 2)\n",
    "# decoder_adapt_depth denotes how many of the two 2-way transformer blocks are adapted\n",
    "\n",
    "\n",
    "# setting if_encoder_adapter = True puts adapters inside TinyViTBlocks in the encoder\n",
    "# this does not change the number of encoder TinyViTBlocks (def = 4)\n",
    "# encoder_adapt_depth (e.g. [1,2]) denotes how deep blocks will be adapted\n",
    "\n",
    "args.finetune_type = \"vanilla\"\n",
    "args.finetune_type = \"adapter\"# \"vanilla\"\n",
    "#args.if_mask_decoder_adapter = True\n",
    "#args.image_size = 512\n",
    "#args.decoder_adapt_depth = 1\n",
    "args.num_cls = 3\n",
    "\n",
    "\n",
    "sam = load_model(args)\n",
    "\n",
    "\n"
   ]
  },
  {
   "cell_type": "code",
   "execution_count": 3,
   "metadata": {},
   "outputs": [
    {
     "name": "stdout",
     "output_type": "stream",
     "text": [
      "distance applied:  45\n",
      "distance applied:  45\n",
      "distance applied:  45\n",
      "distance applied:  45\n",
      "2\n"
     ]
    }
   ],
   "source": [
    "import pickle\n",
    "org_data = load_data()\n",
    "\n",
    "# save dta as pickle\n",
    "with open('data_w_ps.pkl', 'wb') as file:\n",
    "    pickle.dump(org_data, file)\n",
    "\n",
    "\n",
    "with open('data_w_ps.pkl', 'rb') as file:\n",
    "    org_data = pickle.load(file)\n",
    "\n",
    "sammy = Sammy(sam, (512,512))\n",
    "print(len(org_data['image']))\n"
   ]
  },
  {
   "cell_type": "code",
   "execution_count": 4,
   "metadata": {},
   "outputs": [],
   "source": [
    "batch_imgs = org_data['image'][0:2]\n",
    "batch_masks = org_data['mask'][0:2]\n",
    "batch_points = org_data['points'][0:2]\n",
    "batch_p_labels = org_data['p_labels'][0:2]\n",
    "features = sammy.encode_img(batch_imgs)\n",
    "sparse_embeddings, dense_embeddings = sammy.encode_promts(batch_points, batch_p_labels)\n",
    "iou_predictions, low_res_masks = sammy.decode_features(features, sparse_embeddings, dense_embeddings)\n",
    "\n",
    "\n",
    "\n",
    "\n"
   ]
  },
  {
   "cell_type": "code",
   "execution_count": 41,
   "metadata": {},
   "outputs": [],
   "source": [
    "\n",
    "def visualize_predictions(true_mask, low_res_preds, points, p_labels):\n",
    "    f = Upsample(scale_factor=0.5)\n",
    "    # tru = org_data['mask'][0]\n",
    "    # ponts = org_data['points'][0]\n",
    "    # ponts = ponts * 0.5\n",
    "    # lbls = org_data['p_labels'][0]\n",
    "\n",
    "    tru = true_mask\n",
    "    ponts = points\n",
    "    ponts = ponts * 0.5\n",
    "    lbls = p_labels\n",
    "    \n",
    "\n",
    "    tru = f(torch.tensor(tru)[None,None, :, :].float()).numpy()\n",
    "    tru = tru[0][0]\n",
    "    preds = low_res_masks[0].detach().cpu().numpy()\n",
    "    preds = np.where(preds > 0.5, 1, 0)\n",
    "    print(tru.shape)\n",
    "    print(preds[0].shape)\n",
    "\n",
    "    # plot three subplots each for tru and a class prediction\n",
    "    fig, axs = plt.subplots(3,1)\n",
    "    fig.suptitle('Predictions for Image 1')\n",
    "    axs[0,].set_title('Prediction 1')\n",
    "    tNp = tru + preds[0]*5\n",
    "    axs[0].imshow(tNp)\n",
    "    # scatter points   \n",
    "    for i in range(len(ponts)):\n",
    "        if lbls[i] == 1:\n",
    "            axs[0].scatter(ponts[i][0], ponts[i][1], c='blue', s = 2)\n",
    "        else:\n",
    "            axs[0].scatter(ponts[i][0], ponts[i][1], c='red', s = 2)\n",
    "\n",
    "\n",
    "    axs[1].set_title('Prediction 2')\n",
    "    tNp = tru + preds[1]*5\n",
    "    axs[1].imshow(tNp)\n",
    "    # scatter points\n",
    "    for i in range(len(ponts)):\n",
    "        if lbls[i] == 1:\n",
    "            axs[1].scatter(ponts[i][0], ponts[i][1], c='blue', s = 2)\n",
    "        else:\n",
    "            axs[1].scatter(ponts[i][0], ponts[i][1], c='red', s = 2)\n",
    "\n",
    "\n",
    "    axs[2].set_title('Prediction 3')\n",
    "    tNp = tru + preds[2]*5\n",
    "    axs[2].imshow(tNp)\n",
    "    # scatter points with size 2pxs\n",
    "    for i in range(len(ponts)):\n",
    "        if lbls[i] == 1:\n",
    "            axs[2].scatter(ponts[i][0], ponts[i][1], c='blue', s = 2)\n",
    "        else:\n",
    "            axs[2].scatter(ponts[i][0], ponts[i][1], c='red', s = 2)\n",
    "    plt.show()\n",
    "\n",
    "\n",
    "\n",
    "\n",
    "\n",
    "\n",
    "# # 3 masks for 3 classes\n",
    "# img1_masks = low_res_masks[0]\n",
    "# # # # plot low res masks\n",
    "# plt.imshow(img1_masks[].detach().cpu().numpy())\n",
    "# plt.show()"
   ]
  },
  {
   "cell_type": "code",
   "execution_count": 43,
   "metadata": {},
   "outputs": [
    {
     "name": "stdout",
     "output_type": "stream",
     "text": [
      "(256, 256)\n",
      "(256, 256)\n"
     ]
    },
    {
     "data": {
      "image/png": "[encoded data removed]",
      "text/plain": [
       "<Figure size 640x480 with 3 Axes>"
      ]
     },
     "metadata": {},
     "output_type": "display_data"
    }
   ],
   "source": [
    "visualize_predictions(batch_masks[1], low_res_masks[1], batch_points[1], batch_p_labels[1])"
   ]
  },
  {
   "cell_type": "code",
   "execution_count": 6,
   "metadata": {},
   "outputs": [],
   "source": [
    "# #Scientific computing \n",
    "# import numpy as np\n",
    "# #Pytorch packages\n",
    "# import torch\n",
    "from torch import nn\n",
    "import torch.optim as optim\n",
    "from tensorboardX import SummaryWriter\n",
    "#Visulization\n",
    "from tqdm import tqdm\n",
    "import monai\n"
   ]
  },
  {
   "cell_type": "code",
   "execution_count": null,
   "metadata": {},
   "outputs": [
    {
     "name": "stdout",
     "output_type": "stream",
     "text": [
      "Train points: 64\n"
     ]
    },
    {
     "name": "stderr",
     "output_type": "stream",
     "text": [
      "  0%|          | 0/32 [00:00<?, ?it/s]"
     ]
    },
    {
     "name": "stdout",
     "output_type": "stream",
     "text": [
      "Start training\n",
      "Epoch num 0\n"
     ]
    },
    {
     "name": "stderr",
     "output_type": "stream",
     "text": [
      "Epoch num 0| train loss 0.8428937420248985 \n",
      "Epoch num 0| train loss 0.8428937420248985 \n",
      ":   3%|▎         | 1/32 [00:10<05:12, 10.09s/it]"
     ]
    },
    {
     "name": "stdout",
     "output_type": "stream",
     "text": [
      "Eval Epoch num 0 | val loss 0.8664942756295204 | dsc 0.4677097797393799 \n",
      "\n",
      "largest DSC now: 0.4677097797393799\n",
      "Epoch num 1\n"
     ]
    },
    {
     "name": "stderr",
     "output_type": "stream",
     "text": [
      "Epoch num 1| train loss 0.8419468402862549 \n",
      "Epoch num 1| train loss 0.8419468402862549 s/it]\n",
      ":   6%|▋         | 2/32 [00:17<04:23,  8.80s/it]"
     ]
    },
    {
     "name": "stdout",
     "output_type": "stream",
     "text": [
      "Epoch num 2\n"
     ]
    },
    {
     "name": "stderr",
     "output_type": "stream",
     "text": [
      "Epoch num 2| train loss 0.8418556293472648 \n",
      "Epoch num 2| train loss 0.8418556293472648 s/it]\n",
      ":   9%|▉         | 3/32 [00:27<04:22,  9.04s/it]"
     ]
    },
    {
     "name": "stdout",
     "output_type": "stream",
     "text": [
      "Eval Epoch num 2 | val loss 0.8670331723988056 | dsc 0.4686797261238098 \n",
      "\n",
      "largest DSC now: 0.4686797261238098\n",
      "Epoch num 3\n"
     ]
    },
    {
     "name": "stderr",
     "output_type": "stream",
     "text": [
      "Epoch num 3| train loss 0.8422230537980795 \n",
      "Epoch num 3| train loss 0.8422230537980795 s/it]\n",
      ":  12%|█▎        | 4/32 [00:35<04:02,  8.65s/it]"
     ]
    },
    {
     "name": "stdout",
     "output_type": "stream",
     "text": [
      "Epoch num 4\n"
     ]
    },
    {
     "name": "stderr",
     "output_type": "stream",
     "text": [
      "Epoch num 4| train loss 0.8404996562749147 \n",
      "Epoch num 4| train loss 0.8404996562749147 s/it]\n",
      ":  16%|█▌        | 5/32 [00:44<04:02,  8.98s/it]"
     ]
    },
    {
     "name": "stdout",
     "output_type": "stream",
     "text": [
      "Eval Epoch num 4 | val loss 0.8662577979266644 | dsc 0.4704669415950775 \n",
      "\n",
      "largest DSC now: 0.4704669415950775\n",
      "Epoch num 5\n"
     ]
    },
    {
     "name": "stderr",
     "output_type": "stream",
     "text": [
      "Epoch num 5| train loss 0.8404936362057924 \n",
      "Epoch num 5| train loss 0.8404936362057924 s/it]\n",
      ":  19%|█▉        | 6/32 [00:52<03:43,  8.60s/it]"
     ]
    },
    {
     "name": "stdout",
     "output_type": "stream",
     "text": [
      "Epoch num 6\n"
     ]
    },
    {
     "name": "stderr",
     "output_type": "stream",
     "text": [
      "Epoch num 6| train loss 0.8386591915041208 \n",
      "Epoch num 6| train loss 0.8386591915041208 s/it]\n",
      ":  22%|██▏       | 7/32 [01:02<03:43,  8.95s/it]"
     ]
    },
    {
     "name": "stdout",
     "output_type": "stream",
     "text": [
      "Eval Epoch num 6 | val loss 0.8652823865413666 | dsc 0.47362765669822693 \n",
      "\n",
      "largest DSC now: 0.47362765669822693\n",
      "Epoch num 7\n"
     ]
    },
    {
     "name": "stderr",
     "output_type": "stream",
     "text": [
      "Epoch num 7| train loss 0.8369312956929207 \n",
      "Epoch num 7| train loss 0.8369312956929207 s/it]\n",
      ":  25%|██▌       | 8/32 [01:10<03:26,  8.60s/it]"
     ]
    },
    {
     "name": "stdout",
     "output_type": "stream",
     "text": [
      "Epoch num 8\n"
     ]
    },
    {
     "name": "stderr",
     "output_type": "stream",
     "text": [
      "Epoch num 8| train loss 0.837428005412221 \n",
      "Epoch num 8| train loss 0.837428005412221 0s/it] \n",
      ":  28%|██▊       | 9/32 [01:19<03:24,  8.88s/it]"
     ]
    },
    {
     "name": "stdout",
     "output_type": "stream",
     "text": [
      "Eval Epoch num 8 | val loss 0.8672641441226006 | dsc 0.47201529145240784 \n",
      "\n",
      "Epoch num 9\n"
     ]
    },
    {
     "name": "stderr",
     "output_type": "stream",
     "text": [
      "Epoch num 9| train loss 0.8372627403587103 \n",
      "Epoch num 9| train loss 0.8372627403587103 s/it]\n",
      ":  31%|███▏      | 10/32 [01:27<03:08,  8.57s/it]"
     ]
    },
    {
     "name": "stdout",
     "output_type": "stream",
     "text": [
      "Epoch num 10\n"
     ]
    },
    {
     "name": "stderr",
     "output_type": "stream",
     "text": [
      "Epoch num 10| train loss 0.8371526254341006 \n",
      "Epoch num 10| train loss 0.8371526254341006 s/it]\n",
      ":  34%|███▍      | 11/32 [01:37<03:05,  8.85s/it]"
     ]
    },
    {
     "name": "stdout",
     "output_type": "stream",
     "text": [
      "Eval Epoch num 10 | val loss 0.8669195845723152 | dsc 0.46986180543899536 \n",
      "\n",
      "Epoch num 11\n"
     ]
    },
    {
     "name": "stderr",
     "output_type": "stream",
     "text": [
      "Epoch num 11| train loss 0.8370154462754726 \n",
      "Epoch num 11| train loss 0.8370154462754726 s/it]\n",
      ":  38%|███▊      | 12/32 [01:45<02:51,  8.57s/it]"
     ]
    },
    {
     "name": "stdout",
     "output_type": "stream",
     "text": [
      "Epoch num 12\n"
     ]
    },
    {
     "name": "stderr",
     "output_type": "stream",
     "text": [
      "Epoch num 12| train loss 0.8346148692071438 \n",
      "Epoch num 12| train loss 0.8346148692071438 s/it]\n",
      ":  41%|████      | 13/32 [01:54<02:50,  8.95s/it]"
     ]
    },
    {
     "name": "stdout",
     "output_type": "stream",
     "text": [
      "Eval Epoch num 12 | val loss 0.8647603094577789 | dsc 0.47533756494522095 \n",
      "\n",
      "largest DSC now: 0.47533756494522095\n",
      "Epoch num 13\n"
     ]
    },
    {
     "name": "stderr",
     "output_type": "stream",
     "text": [
      "Epoch num 13| train loss 0.8354831291362643 \n",
      "Epoch num 13| train loss 0.8354831291362643 s/it]\n",
      ":  44%|████▍     | 14/32 [02:02<02:34,  8.60s/it]"
     ]
    },
    {
     "name": "stdout",
     "output_type": "stream",
     "text": [
      "Epoch num 14\n"
     ]
    },
    {
     "name": "stderr",
     "output_type": "stream",
     "text": [
      "Epoch num 14| train loss 0.8338388577103615 \n",
      "Epoch num 14| train loss 0.8338388577103615 s/it]\n",
      ":  47%|████▋     | 15/32 [02:12<02:31,  8.92s/it]"
     ]
    },
    {
     "name": "stdout",
     "output_type": "stream",
     "text": [
      "Eval Epoch num 14 | val loss 0.8637801371514797 | dsc 0.479053258895874 \n",
      "\n",
      "largest DSC now: 0.479053258895874\n",
      "Epoch num 15\n"
     ]
    },
    {
     "name": "stderr",
     "output_type": "stream",
     "text": [
      "Epoch num 15| train loss 0.8364048665389419 \n",
      "Epoch num 15| train loss 0.8364048665389419 s/it]\n",
      ":  50%|█████     | 16/32 [02:20<02:17,  8.59s/it]"
     ]
    },
    {
     "name": "stdout",
     "output_type": "stream",
     "text": [
      "Epoch num 16\n"
     ]
    },
    {
     "name": "stderr",
     "output_type": "stream",
     "text": [
      "Epoch num 16| train loss 0.8351644575595856 \n",
      "Epoch num 16| train loss 0.8351644575595856 s/it]\n",
      ":  53%|█████▎    | 17/32 [02:29<02:12,  8.85s/it]"
     ]
    },
    {
     "name": "stdout",
     "output_type": "stream",
     "text": [
      "Eval Epoch num 16 | val loss 0.865853238850832 | dsc 0.47116783261299133 \n",
      "\n",
      "Epoch num 17\n"
     ]
    },
    {
     "name": "stderr",
     "output_type": "stream",
     "text": [
      "Epoch num 17| train loss 0.8347692349925637 \n",
      "Epoch num 17| train loss 0.8347692349925637 s/it]\n",
      ":  56%|█████▋    | 18/32 [02:37<02:00,  8.62s/it]"
     ]
    },
    {
     "name": "stdout",
     "output_type": "stream",
     "text": [
      "Epoch num 18\n"
     ]
    },
    {
     "name": "stderr",
     "output_type": "stream",
     "text": [
      "Epoch num 18| train loss 0.8331492720171809 \n",
      "Epoch num 18| train loss 0.8331492720171809 s/it]\n",
      ":  59%|█████▉    | 19/32 [02:47<01:55,  8.91s/it]"
     ]
    },
    {
     "name": "stdout",
     "output_type": "stream",
     "text": [
      "Eval Epoch num 18 | val loss 0.8644380457699299 | dsc 0.47476479411125183 \n",
      "\n",
      "Epoch num 19\n"
     ]
    },
    {
     "name": "stderr",
     "output_type": "stream",
     "text": [
      "Epoch num 19| train loss 0.8323844745755196 \n",
      "Epoch num 19| train loss 0.8323844745755196 s/it]\n",
      ":  62%|██████▎   | 20/32 [02:55<01:42,  8.57s/it]"
     ]
    },
    {
     "name": "stdout",
     "output_type": "stream",
     "text": [
      "Epoch num 20\n"
     ]
    },
    {
     "name": "stderr",
     "output_type": "stream",
     "text": [
      "Epoch num 20| train loss 0.8322675079107285 \n",
      "Epoch num 20| train loss 0.8322675079107285 s/it]\n",
      ":  66%|██████▌   | 21/32 [03:04<01:36,  8.80s/it]"
     ]
    },
    {
     "name": "stdout",
     "output_type": "stream",
     "text": [
      "Eval Epoch num 20 | val loss 0.8641957640647888 | dsc 0.4762236177921295 \n",
      "\n",
      "Epoch num 21\n"
     ]
    },
    {
     "name": "stderr",
     "output_type": "stream",
     "text": [
      "Epoch num 21| train loss 0.8321861820295453 \n",
      "Epoch num 21| train loss 0.8321861820295453 s/it]\n",
      ":  69%|██████▉   | 22/32 [03:12<01:24,  8.49s/it]"
     ]
    },
    {
     "name": "stdout",
     "output_type": "stream",
     "text": [
      "Epoch num 22\n"
     ]
    },
    {
     "name": "stderr",
     "output_type": "stream",
     "text": [
      "Epoch num 22| train loss 0.8319104369729757 \n",
      "Epoch num 22| train loss 0.8319104369729757 s/it]\n",
      ":  72%|███████▏  | 23/32 [03:21<01:19,  8.80s/it]"
     ]
    },
    {
     "name": "stdout",
     "output_type": "stream",
     "text": [
      "Eval Epoch num 22 | val loss 0.8653239943087101 | dsc 0.4733722507953644 \n",
      "\n",
      "Epoch num 23\n"
     ]
    },
    {
     "name": "stderr",
     "output_type": "stream",
     "text": [
      "Epoch num 23| train loss 0.8318500090390444 \n",
      "Epoch num 23| train loss 0.8318500090390444 s/it]\n",
      ":  75%|███████▌  | 24/32 [03:29<01:07,  8.43s/it]"
     ]
    },
    {
     "name": "stdout",
     "output_type": "stream",
     "text": [
      "Epoch num 24\n"
     ]
    },
    {
     "name": "stderr",
     "output_type": "stream",
     "text": [
      "Epoch num 24| train loss 0.829756086692214 \n",
      "Epoch num 24| train loss 0.829756086692214 3s/it] \n",
      ":  78%|███████▊  | 25/32 [03:38<01:00,  8.61s/it]"
     ]
    },
    {
     "name": "stdout",
     "output_type": "stream",
     "text": [
      "Eval Epoch num 24 | val loss 0.8658473193645477 | dsc 0.4743642210960388 \n",
      "\n",
      "Epoch num 25\n"
     ]
    },
    {
     "name": "stderr",
     "output_type": "stream",
     "text": [
      "Epoch num 25| train loss 0.830324973911047 \n",
      "Epoch num 25| train loss 0.830324973911047 1s/it]\n",
      ":  81%|████████▏ | 26/32 [03:45<00:49,  8.31s/it]"
     ]
    },
    {
     "name": "stdout",
     "output_type": "stream",
     "text": [
      "Epoch num 26\n"
     ]
    },
    {
     "name": "stderr",
     "output_type": "stream",
     "text": [
      "Epoch num 26| train loss 0.8317833580076694 \n",
      "Epoch num 26| train loss 0.8317833580076694 s/it]\n",
      ":  84%|████████▍ | 27/32 [03:55<00:43,  8.63s/it]"
     ]
    },
    {
     "name": "stdout",
     "output_type": "stream",
     "text": [
      "Eval Epoch num 26 | val loss 0.8674727603793144 | dsc 0.47102394700050354 \n",
      "\n",
      "Epoch num 27\n"
     ]
    },
    {
     "name": "stderr",
     "output_type": "stream",
     "text": [
      "Epoch num 27| train loss 0.8309591049328446 \n",
      "Epoch num 27| train loss 0.8309591049328446 s/it]\n",
      ":  88%|████████▊ | 28/32 [04:02<00:33,  8.33s/it]"
     ]
    },
    {
     "name": "stdout",
     "output_type": "stream",
     "text": [
      "Epoch num 28\n"
     ]
    },
    {
     "name": "stderr",
     "output_type": "stream",
     "text": [
      "Epoch num 28| train loss 0.8287690430879593 \n",
      "Epoch num 28| train loss 0.8287690430879593 s/it]\n",
      ":  91%|█████████ | 29/32 [04:12<00:25,  8.58s/it]"
     ]
    },
    {
     "name": "stdout",
     "output_type": "stream",
     "text": [
      "Eval Epoch num 28 | val loss 0.8642044998705387 | dsc 0.47576963901519775 \n",
      "\n",
      "Epoch num 29\n"
     ]
    },
    {
     "name": "stderr",
     "output_type": "stream",
     "text": [
      "Epoch num 29| train loss 0.8289056895300746 \n",
      "Epoch num 29| train loss 0.8289056895300746 s/it]\n",
      ":  94%|█████████▍| 30/32 [04:19<00:16,  8.34s/it]"
     ]
    },
    {
     "name": "stdout",
     "output_type": "stream",
     "text": [
      "Epoch num 30\n"
     ]
    },
    {
     "name": "stderr",
     "output_type": "stream",
     "text": [
      "Epoch num 30| train loss 0.8286013305187225 \n",
      "Epoch num 30| train loss 0.8286013305187225 s/it]\n",
      ":  97%|█████████▋| 31/32 [04:29<00:08,  8.61s/it]"
     ]
    },
    {
     "name": "stdout",
     "output_type": "stream",
     "text": [
      "Eval Epoch num 30 | val loss 0.8640174381434917 | dsc 0.477622389793396 \n",
      "\n",
      "Epoch num 31\n"
     ]
    },
    {
     "name": "stderr",
     "output_type": "stream",
     "text": [
      "Epoch num 31| train loss 0.828446744941175 \n",
      "Epoch num 31| train loss 0.828446744941175 1s/it] \n",
      "Epoch num 31| train loss 0.828446744941175 4s/it]\n",
      ": 100%|██████████| 32/32 [04:36<00:00,  8.65s/it]\n"
     ]
    }
   ],
   "source": [
    "from finetuneSAM.utils.dsc import dice_coeff_multi_class\n",
    "\n",
    "sam = sam\n",
    "data = {\"image\":[],\"mask\":[],\"t_points\":[],\"bg_points\":[]}\n",
    "data['image'] = org_data['image'].copy()\n",
    "data['mask'] = org_data['mask'].copy()\n",
    "data['t_points'] = org_data['t_points'].copy()\n",
    "data['bg_points'] = org_data['bg_points'].copy()\n",
    "\n",
    "train_points = len(data['image'])\n",
    "checkpoints_path = 'checkpoints'\n",
    "\n",
    "\n",
    "val_percentage = 0.15\n",
    "val_points = int(train_points*val_percentage)\n",
    "train_points = train_points - val_points\n",
    "print('Train points:',train_points)\n",
    "\n",
    "val_data = {\"image\":[],\"mask\":[],\"t_points\":[],\"bg_points\":[]}\n",
    "for i in range(val_points):\n",
    "    rnd_indx = np.random.randint(0,len(data[\"image\"])-1)\n",
    "    val_data[\"image\"].append(data[\"image\"].pop(rnd_indx))\n",
    "    val_data[\"mask\"].append(data[\"mask\"].pop(rnd_indx))\n",
    "    val_data[\"t_points\"].append(data[\"t_points\"].pop(rnd_indx))\n",
    "    val_data[\"bg_points\"].append(data[\"bg_points\"].pop(rnd_indx))\n",
    "    \n",
    "\n",
    "if args.finetune_type == 'adapter':\n",
    "    for n, value in sam.named_parameters():\n",
    "        if \"Adapter\" not in n: # only update parameters in adapter\n",
    "            value.requires_grad = False\n",
    "    print('if update encoder:',args.if_update_encoder)\n",
    "    print('if image encoder adapter:',args.if_encoder_adapter)\n",
    "    print('if mask decoder adapter:',args.if_mask_decoder_adapter)\n",
    "    if args.if_encoder_adapter:\n",
    "        print('added adapter layers:',args.encoder_adapter_depths)\n",
    "    \n",
    "# elif args.finetune_type == 'vanilla' and args.if_update_encoder==False:   \n",
    "#     print('if update encoder:',args.if_update_encoder)\n",
    "#     for n, value in sam.image_encoder.named_parameters():\n",
    "#         value.requires_grad = False\n",
    "# elif args.finetune_type == 'lora':\n",
    "#     print('if update encoder:',args.if_update_encoder)\n",
    "#     print('if image encoder lora:',args.if_encoder_lora_layer)\n",
    "#     print('if mask decoder lora:',args.if_decoder_lora_layer)\n",
    "#     sam = LoRA_Sam(args,sam,r=4).sam\n",
    "sam.to('cuda')\n",
    "b_lr = args.lr\n",
    "epochs = 32\n",
    "batch_size = 5\n",
    "\n",
    "def randomly_divide_into_batches(data,batch_size):\n",
    "    num_batches = len(data)//batch_size\n",
    "    if len(data)%batch_size!=0:\n",
    "        num_batches+=1\n",
    "    batches = []\n",
    "    for i in range(num_batches):\n",
    "        batches.append(data[i*batch_size:(i+1)*batch_size])\n",
    "    return batches\n",
    "\n",
    "b_lr = 1e-3\n",
    "optimizer = optim.AdamW(sam.parameters(), lr=b_lr, betas=(0.9, 0.999), eps=1e-08, weight_decay=0.1, amsgrad=False)\n",
    "optimizer.zero_grad()\n",
    "scheduler = optim.lr_scheduler.StepLR(optimizer, step_size=10, gamma=0.5) #learning rate decay\n",
    "criterion1 = monai.losses.DiceLoss(sigmoid=True, squared_pred=True, to_onehot_y=True,reduction='mean')\n",
    "criterion2 = nn.CrossEntropyLoss()\n",
    "iter_num = 0\n",
    "max_iterations = epochs * train_points\n",
    "writer = SummaryWriter(checkpoints_path + '/log')\n",
    "\n",
    "pbar = tqdm(range(epochs))\n",
    "val_largest_dsc = 0\n",
    "last_update_epoch = 0\n",
    "print('Start training')\n",
    "for epoch in pbar:\n",
    "    print('Epoch num {}'.format(epoch))\n",
    "    sam.train()\n",
    "    train_loss = 0\n",
    "    for i in range(train_points):\n",
    "        \n",
    "        imgs = data['image'][i]\n",
    "        msks = data['mask'][i]\n",
    "        t_ps = data['t_points'][i]\n",
    "        bg_ps = data['bg_points'][i]\n",
    "\n",
    "        sammy.set_image(imgs)\n",
    "\n",
    "        if args.if_update_encoder:\n",
    "            #img_emb = sam.image_encoder(imgs)\n",
    "            img_emb = sammy.encode_img()\n",
    "        else:\n",
    "            with torch.no_grad():\n",
    "                #img_emb = sam.image_encoder(imgs)\n",
    "                img_emb = sammy.encode_img()\n",
    "        \n",
    "        sparse_emb, dense_emb = sammy.encode_promts(t_ps,bg_ps)\n",
    "        pred, _,_ = sammy.decode_features(img_emb, sparse_emb, dense_emb)\n",
    "\n",
    "        msks_t = torch.tensor([msks])\n",
    "        msks_t = torch.squeeze(msks_t.long(),1).cuda()\n",
    "        pred_t = pred.argmax(dim=1)\n",
    "\n",
    "        loss_dice =  1 - dice_coeff_multi_class(pred_t, msks_t,2)\n",
    "        loss_ce = criterion2(pred,torch.tensor([msks]).long().cuda())\n",
    "        loss =  loss_dice + loss_ce\n",
    "\n",
    "        # print(' dice loss:',loss_dice)\n",
    "        # print(' ce loss:',loss_ce)\n",
    "        \n",
    "        loss.backward()\n",
    "        optimizer.step()\n",
    "        optimizer.zero_grad(set_to_none=True)\n",
    "\n",
    "        \n",
    "        if args.if_warmup and iter_num < args.warmup_period:\n",
    "            lr_ = args.lr * ((iter_num + 1) / args.warmup_period)\n",
    "            for param_group in optimizer.param_groups:\n",
    "                param_group['lr'] = lr_\n",
    "\n",
    "        else:\n",
    "            if args.if_warmup:\n",
    "                shift_iter = iter_num - args.warmup_period\n",
    "                assert shift_iter >= 0, f'Shift iter is {shift_iter}, smaller than zero'\n",
    "                lr_ = args.lr * (1.0 - shift_iter / max_iterations) ** 0.9  # learning rate adjustment depends on the max iterations\n",
    "                for param_group in optimizer.param_groups:\n",
    "                    param_group['lr'] = lr_\n",
    "            else:\n",
    "                lr_ = args.lr\n",
    "\n",
    "        train_loss += loss.item()\n",
    "        iter_num+=1\n",
    "        writer.add_scalar('info/lr', lr_, iter_num)\n",
    "        writer.add_scalar('info/total_loss', loss, iter_num)\n",
    "        writer.add_scalar('info/loss_ce', loss_ce, iter_num)\n",
    "        #writer.add_scalar('info/loss_dice', loss_dice, iter_num)\n",
    "\n",
    "    train_loss /= (i+1)\n",
    "    pbar.set_description('Epoch num {}| train loss {} \\n'.format(epoch,train_loss))\n",
    "\n",
    "    if epoch%2==0:\n",
    "        \n",
    "        eval_loss=0\n",
    "        dsc = 0\n",
    "        sam.eval()\n",
    "        with torch.no_grad():\n",
    "            for i in range(val_points):\n",
    "                #print('Validation point num {}'.format(i))\n",
    "                imgs = val_data['image'][i]\n",
    "                msks = val_data['mask'][i]\n",
    "                sammy.set_image(imgs)\n",
    "\n",
    "                        #img_emb = sam.image_encoder(imgs)\n",
    "                img_emb = sammy.encode_img()\n",
    "                \n",
    "                sparse_emb, dense_emb = sammy.encode_promts(data['t_points'][i], data['bg_points'][i])\n",
    "                \n",
    "                pred, _,_ = sammy.decode_features(img_emb, sparse_emb, dense_emb)\n",
    "                \n",
    "                msks_t = torch.tensor([msks])\n",
    "                msks_t = torch.squeeze(msks_t.long(),1).cuda()\n",
    "                pred_t = pred.argmax(dim=1)\n",
    "                loss_dice =  1 - dice_coeff_multi_class(pred_t, msks_t,2)\n",
    "                loss_ce = criterion2(pred,torch.tensor([msks]).long().cuda())\n",
    "                loss = loss_dice + loss_ce\n",
    "                \n",
    "                eval_loss +=loss.item()\n",
    "                dsc_batch = dice_coeff_multi_class(pred_t, msks_t,2)\n",
    "                dsc+=dsc_batch\n",
    "                #print(dsc_batch)\n",
    "\n",
    "            eval_loss /= (i+1)\n",
    "            dsc /= (i+1)\n",
    "            \n",
    "            writer.add_scalar('eval/loss', eval_loss, epoch)\n",
    "            writer.add_scalar('eval/dice', dsc, epoch)\n",
    "            \n",
    "            print('Eval Epoch num {} | val loss {} | dsc {} \\n'.format(epoch,eval_loss,dsc))\n",
    "            if dsc>val_largest_dsc:\n",
    "                val_largest_dsc = dsc\n",
    "                last_update_epoch = epoch\n",
    "                print('largest DSC now: {}'.format(dsc))\n",
    "                torch.save(sam.state_dict(),checkpoints_path + '/checkpoint_best.pth')\n",
    "            elif (epoch-last_update_epoch)>20:\n",
    "                # the network haven't been updated for 20 epochs\n",
    "                print('Training finished###########')\n",
    "                break\n",
    "writer.close()"
   ]
  },
  {
   "cell_type": "code",
   "execution_count": 7,
   "metadata": {},
   "outputs": [
    {
     "name": "stdout",
     "output_type": "stream",
     "text": [
      "torch.Size([5, 3, 512, 512])\n",
      "torch.Size([5, 3, 1024, 1024])\n"
     ]
    }
   ],
   "source": [
    "batch = np.ones((5,512,512,3))\n",
    "batch_tr = torch.tensor(batch)\n",
    "batch_tr = batch_tr.permute(0,3,1,2)\n",
    "\n",
    "f = Upsample(scale_factor=2.0)\n",
    "\n",
    "print(batch_tr.shape)\n",
    "\n",
    "batch_up = f(batch_tr)\n",
    "\n",
    "print(batch_up.shape)\n",
    "\n"
   ]
  },
  {
   "cell_type": "code",
   "execution_count": 10,
   "metadata": {},
   "outputs": [
    {
     "data": {
      "text/plain": [
       "array([[[[2., 2.],\n",
       "         [2., 2.],\n",
       "         [2., 2.],\n",
       "         [2., 2.],\n",
       "         [2., 2.],\n",
       "         [2., 2.],\n",
       "         [2., 2.],\n",
       "         [2., 2.],\n",
       "         [2., 2.],\n",
       "         [2., 2.]],\n",
       "\n",
       "        [[2., 2.],\n",
       "         [2., 2.],\n",
       "         [2., 2.],\n",
       "         [2., 2.],\n",
       "         [2., 2.],\n",
       "         [2., 2.],\n",
       "         [2., 2.],\n",
       "         [2., 2.],\n",
       "         [2., 2.],\n",
       "         [2., 2.]]],\n",
       "\n",
       "\n",
       "       [[[2., 2.],\n",
       "         [2., 2.],\n",
       "         [2., 2.],\n",
       "         [2., 2.],\n",
       "         [2., 2.],\n",
       "         [2., 2.],\n",
       "         [2., 2.],\n",
       "         [2., 2.],\n",
       "         [2., 2.],\n",
       "         [2., 2.]],\n",
       "\n",
       "        [[2., 2.],\n",
       "         [2., 2.],\n",
       "         [2., 2.],\n",
       "         [2., 2.],\n",
       "         [2., 2.],\n",
       "         [2., 2.],\n",
       "         [2., 2.],\n",
       "         [2., 2.],\n",
       "         [2., 2.],\n",
       "         [2., 2.]]],\n",
       "\n",
       "\n",
       "       [[[2., 2.],\n",
       "         [2., 2.],\n",
       "         [2., 2.],\n",
       "         [2., 2.],\n",
       "         [2., 2.],\n",
       "         [2., 2.],\n",
       "         [2., 2.],\n",
       "         [2., 2.],\n",
       "         [2., 2.],\n",
       "         [2., 2.]],\n",
       "\n",
       "        [[2., 2.],\n",
       "         [2., 2.],\n",
       "         [2., 2.],\n",
       "         [2., 2.],\n",
       "         [2., 2.],\n",
       "         [2., 2.],\n",
       "         [2., 2.],\n",
       "         [2., 2.],\n",
       "         [2., 2.],\n",
       "         [2., 2.]]],\n",
       "\n",
       "\n",
       "       [[[2., 2.],\n",
       "         [2., 2.],\n",
       "         [2., 2.],\n",
       "         [2., 2.],\n",
       "         [2., 2.],\n",
       "         [2., 2.],\n",
       "         [2., 2.],\n",
       "         [2., 2.],\n",
       "         [2., 2.],\n",
       "         [2., 2.]],\n",
       "\n",
       "        [[2., 2.],\n",
       "         [2., 2.],\n",
       "         [2., 2.],\n",
       "         [2., 2.],\n",
       "         [2., 2.],\n",
       "         [2., 2.],\n",
       "         [2., 2.],\n",
       "         [2., 2.],\n",
       "         [2., 2.],\n",
       "         [2., 2.]]],\n",
       "\n",
       "\n",
       "       [[[2., 2.],\n",
       "         [2., 2.],\n",
       "         [2., 2.],\n",
       "         [2., 2.],\n",
       "         [2., 2.],\n",
       "         [2., 2.],\n",
       "         [2., 2.],\n",
       "         [2., 2.],\n",
       "         [2., 2.],\n",
       "         [2., 2.]],\n",
       "\n",
       "        [[2., 2.],\n",
       "         [2., 2.],\n",
       "         [2., 2.],\n",
       "         [2., 2.],\n",
       "         [2., 2.],\n",
       "         [2., 2.],\n",
       "         [2., 2.],\n",
       "         [2., 2.],\n",
       "         [2., 2.],\n",
       "         [2., 2.]]]])"
      ]
     },
     "execution_count": 10,
     "metadata": {},
     "output_type": "execute_result"
    }
   ],
   "source": [
    "# B x Plane x N x 2\n",
    "pss = np.ones((5,2,10,2))\n",
    "pss*2\n",
    "# B x Plane * N x 2\n",
    "pss_all = np.ones((5,20,2))\n",
    "\n",
    "\n",
    "lblss = np.ones((5,20))\n",
    "\n",
    "\n"
   ]
  }
 ],
 "metadata": {
  "accelerator": "GPU",
  "colab": {
   "gpuType": "T4",
   "provenance": []
  },
  "kernelspec": {
   "display_name": "Python 3",
   "name": "python3"
  },
  "language_info": {
   "codemirror_mode": {
    "name": "ipython",
    "version": 3
   },
   "file_extension": ".py",
   "mimetype": "text/x-python",
   "name": "python",
   "nbconvert_exporter": "python",
   "pygments_lexer": "ipython3",
   "version": "3.10.8"
  },
  "widgets": {
   "application/vnd.jupyter.widget-state+json": {
    "3a3663b3d63a4c4cac421d8fd4746051": {
     "model_module": "@jupyter-widgets/controls",
     "model_module_version": "1.5.0",
     "model_name": "HTMLModel",
     "state": {
      "_dom_classes": [],
      "_model_module": "@jupyter-widgets/controls",
      "_model_module_version": "1.5.0",
      "_model_name": "HTMLModel",
      "_view_count": null,
      "_view_module": "@jupyter-widgets/controls",
      "_view_module_version": "1.5.0",
      "_view_name": "HTMLView",
      "description": "",
      "description_tooltip": null,
      "layout": "IPY_MODEL_7ffd23cd526d49bbb04bb3fb3713d38c",
      "placeholder": "​",
      "style": "IPY_MODEL_e3bd26913d7d48ba8622d17d290ed9b9",
      "value": "preprocessor_config.json: 100%"
     }
    },
    "4988b977dc674fde92fe781df557bd9a": {
     "model_module": "@jupyter-widgets/controls",
     "model_module_version": "1.5.0",
     "model_name": "ProgressStyleModel",
     "state": {
      "_model_module": "@jupyter-widgets/controls",
      "_model_module_version": "1.5.0",
      "_model_name": "ProgressStyleModel",
      "_view_count": null,
      "_view_module": "@jupyter-widgets/base",
      "_view_module_version": "1.2.0",
      "_view_name": "StyleView",
      "bar_color": null,
      "description_width": ""
     }
    },
    "762364a1ca11410894f2ba1104b3b81f": {
     "model_module": "@jupyter-widgets/controls",
     "model_module_version": "1.5.0",
     "model_name": "HTMLModel",
     "state": {
      "_dom_classes": [],
      "_model_module": "@jupyter-widgets/controls",
      "_model_module_version": "1.5.0",
      "_model_name": "HTMLModel",
      "_view_count": null,
      "_view_module": "@jupyter-widgets/controls",
      "_view_module_version": "1.5.0",
      "_view_name": "HTMLView",
      "description": "",
      "description_tooltip": null,
      "layout": "IPY_MODEL_a0caf5e9e72d4b029a7bb4d10baed9e8",
      "placeholder": "​",
      "style": "IPY_MODEL_937b51bfed124a47a46c4773998531f5",
      "value": " 466/466 [00:00&lt;00:00, 33.8kB/s]"
     }
    },
    "7ab0cc445a37426c89c5710c15db6227": {
     "model_module": "@jupyter-widgets/controls",
     "model_module_version": "1.5.0",
     "model_name": "HBoxModel",
     "state": {
      "_dom_classes": [],
      "_model_module": "@jupyter-widgets/controls",
      "_model_module_version": "1.5.0",
      "_model_name": "HBoxModel",
      "_view_count": null,
      "_view_module": "@jupyter-widgets/controls",
      "_view_module_version": "1.5.0",
      "_view_name": "HBoxView",
      "box_style": "",
      "children": [
       "IPY_MODEL_3a3663b3d63a4c4cac421d8fd4746051",
       "IPY_MODEL_ab8c2f638a7e49bc95f5f3675cdfb737",
       "IPY_MODEL_762364a1ca11410894f2ba1104b3b81f"
      ],
      "layout": "IPY_MODEL_8aa7ec419c4a4c7db62e6fcc1df27498"
     }
    },
    "7ffd23cd526d49bbb04bb3fb3713d38c": {
     "model_module": "@jupyter-widgets/base",
     "model_module_version": "1.2.0",
     "model_name": "LayoutModel",
     "state": {
      "_model_module": "@jupyter-widgets/base",
      "_model_module_version": "1.2.0",
      "_model_name": "LayoutModel",
      "_view_count": null,
      "_view_module": "@jupyter-widgets/base",
      "_view_module_version": "1.2.0",
      "_view_name": "LayoutView",
      "align_content": null,
      "align_items": null,
      "align_self": null,
      "border": null,
      "bottom": null,
      "display": null,
      "flex": null,
      "flex_flow": null,
      "grid_area": null,
      "grid_auto_columns": null,
      "grid_auto_flow": null,
      "grid_auto_rows": null,
      "grid_column": null,
      "grid_gap": null,
      "grid_row": null,
      "grid_template_areas": null,
      "grid_template_columns": null,
      "grid_template_rows": null,
      "height": null,
      "justify_content": null,
      "justify_items": null,
      "left": null,
      "margin": null,
      "max_height": null,
      "max_width": null,
      "min_height": null,
      "min_width": null,
      "object_fit": null,
      "object_position": null,
      "order": null,
      "overflow": null,
      "overflow_x": null,
      "overflow_y": null,
      "padding": null,
      "right": null,
      "top": null,
      "visibility": null,
      "width": null
     }
    },
    "8aa7ec419c4a4c7db62e6fcc1df27498": {
     "model_module": "@jupyter-widgets/base",
     "model_module_version": "1.2.0",
     "model_name": "LayoutModel",
     "state": {
      "_model_module": "@jupyter-widgets/base",
      "_model_module_version": "1.2.0",
      "_model_name": "LayoutModel",
      "_view_count": null,
      "_view_module": "@jupyter-widgets/base",
      "_view_module_version": "1.2.0",
      "_view_name": "LayoutView",
      "align_content": null,
      "align_items": null,
      "align_self": null,
      "border": null,
      "bottom": null,
      "display": null,
      "flex": null,
      "flex_flow": null,
      "grid_area": null,
      "grid_auto_columns": null,
      "grid_auto_flow": null,
      "grid_auto_rows": null,
      "grid_column": null,
      "grid_gap": null,
      "grid_row": null,
      "grid_template_areas": null,
      "grid_template_columns": null,
      "grid_template_rows": null,
      "height": null,
      "justify_content": null,
      "justify_items": null,
      "left": null,
      "margin": null,
      "max_height": null,
      "max_width": null,
      "min_height": null,
      "min_width": null,
      "object_fit": null,
      "object_position": null,
      "order": null,
      "overflow": null,
      "overflow_x": null,
      "overflow_y": null,
      "padding": null,
      "right": null,
      "top": null,
      "visibility": null,
      "width": null
     }
    },
    "937b51bfed124a47a46c4773998531f5": {
     "model_module": "@jupyter-widgets/controls",
     "model_module_version": "1.5.0",
     "model_name": "DescriptionStyleModel",
     "state": {
      "_model_module": "@jupyter-widgets/controls",
      "_model_module_version": "1.5.0",
      "_model_name": "DescriptionStyleModel",
      "_view_count": null,
      "_view_module": "@jupyter-widgets/base",
      "_view_module_version": "1.2.0",
      "_view_name": "StyleView",
      "description_width": ""
     }
    },
    "a0caf5e9e72d4b029a7bb4d10baed9e8": {
     "model_module": "@jupyter-widgets/base",
     "model_module_version": "1.2.0",
     "model_name": "LayoutModel",
     "state": {
      "_model_module": "@jupyter-widgets/base",
      "_model_module_version": "1.2.0",
      "_model_name": "LayoutModel",
      "_view_count": null,
      "_view_module": "@jupyter-widgets/base",
      "_view_module_version": "1.2.0",
      "_view_name": "LayoutView",
      "align_content": null,
      "align_items": null,
      "align_self": null,
      "border": null,
      "bottom": null,
      "display": null,
      "flex": null,
      "flex_flow": null,
      "grid_area": null,
      "grid_auto_columns": null,
      "grid_auto_flow": null,
      "grid_auto_rows": null,
      "grid_column": null,
      "grid_gap": null,
      "grid_row": null,
      "grid_template_areas": null,
      "grid_template_columns": null,
      "grid_template_rows": null,
      "height": null,
      "justify_content": null,
      "justify_items": null,
      "left": null,
      "margin": null,
      "max_height": null,
      "max_width": null,
      "min_height": null,
      "min_width": null,
      "object_fit": null,
      "object_position": null,
      "order": null,
      "overflow": null,
      "overflow_x": null,
      "overflow_y": null,
      "padding": null,
      "right": null,
      "top": null,
      "visibility": null,
      "width": null
     }
    },
    "ab8c2f638a7e49bc95f5f3675cdfb737": {
     "model_module": "@jupyter-widgets/controls",
     "model_module_version": "1.5.0",
     "model_name": "FloatProgressModel",
     "state": {
      "_dom_classes": [],
      "_model_module": "@jupyter-widgets/controls",
      "_model_module_version": "1.5.0",
      "_model_name": "FloatProgressModel",
      "_view_count": null,
      "_view_module": "@jupyter-widgets/controls",
      "_view_module_version": "1.5.0",
      "_view_name": "ProgressView",
      "bar_style": "success",
      "description": "",
      "description_tooltip": null,
      "layout": "IPY_MODEL_df9e5b3a11c642c5b32b84a693751ac3",
      "max": 466,
      "min": 0,
      "orientation": "horizontal",
      "style": "IPY_MODEL_4988b977dc674fde92fe781df557bd9a",
      "value": 466
     }
    },
    "df9e5b3a11c642c5b32b84a693751ac3": {
     "model_module": "@jupyter-widgets/base",
     "model_module_version": "1.2.0",
     "model_name": "LayoutModel",
     "state": {
      "_model_module": "@jupyter-widgets/base",
      "_model_module_version": "1.2.0",
      "_model_name": "LayoutModel",
      "_view_count": null,
      "_view_module": "@jupyter-widgets/base",
      "_view_module_version": "1.2.0",
      "_view_name": "LayoutView",
      "align_content": null,
      "align_items": null,
      "align_self": null,
      "border": null,
      "bottom": null,
      "display": null,
      "flex": null,
      "flex_flow": null,
      "grid_area": null,
      "grid_auto_columns": null,
      "grid_auto_flow": null,
      "grid_auto_rows": null,
      "grid_column": null,
      "grid_gap": null,
      "grid_row": null,
      "grid_template_areas": null,
      "grid_template_columns": null,
      "grid_template_rows": null,
      "height": null,
      "justify_content": null,
      "justify_items": null,
      "left": null,
      "margin": null,
      "max_height": null,
      "max_width": null,
      "min_height": null,
      "min_width": null,
      "object_fit": null,
      "object_position": null,
      "order": null,
      "overflow": null,
      "overflow_x": null,
      "overflow_y": null,
      "padding": null,
      "right": null,
      "top": null,
      "visibility": null,
      "width": null
     }
    },
    "e3bd26913d7d48ba8622d17d290ed9b9": {
     "model_module": "@jupyter-widgets/controls",
     "model_module_version": "1.5.0",
     "model_name": "DescriptionStyleModel",
     "state": {
      "_model_module": "@jupyter-widgets/controls",
      "_model_module_version": "1.5.0",
      "_model_name": "DescriptionStyleModel",
      "_view_count": null,
      "_view_module": "@jupyter-widgets/base",
      "_view_module_version": "1.2.0",
      "_view_name": "StyleView",
      "description_width": ""
     }
    }
   }
  }
 },
 "nbformat": 4,
 "nbformat_minor": 0
}
