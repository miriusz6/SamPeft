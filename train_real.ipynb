{
 "cells": [
  {
   "cell_type": "markdown",
   "metadata": {},
   "source": [
    "Imports:"
   ]
  },
  {
   "cell_type": "code",
   "execution_count": 1,
   "metadata": {},
   "outputs": [
    {
     "name": "stderr",
     "output_type": "stream",
     "text": [
      "c:\\Users\\mariusz\\AppData\\Local\\Programs\\Python\\Python310\\lib\\site-packages\\tqdm\\auto.py:21: TqdmWarning: IProgress not found. Please update jupyter and ipywidgets. See https://ipywidgets.readthedocs.io/en/stable/user_install.html\n",
      "  from .autonotebook import tqdm as notebook_tqdm\n",
      "c:\\Users\\mariusz\\AppData\\Local\\Programs\\Python\\Python310\\lib\\site-packages\\timm\\models\\layers\\__init__.py:48: FutureWarning: Importing from timm.models.layers is deprecated, please import via timm.layers\n",
      "  warnings.warn(f\"Importing from {__name__} is deprecated, please import via timm.layers\", FutureWarning)\n",
      "c:\\Users\\mariusz\\AppData\\Local\\Programs\\Python\\Python310\\lib\\site-packages\\timm\\models\\registry.py:4: FutureWarning: Importing from timm.models.registry is deprecated, please import via timm.models\n",
      "  warnings.warn(f\"Importing from {__name__} is deprecated, please import via timm.models\", FutureWarning)\n",
      "c:\\SamPeft\\finetuneSAM\\models\\sam\\modeling\\tiny_vit_sam.py:760: UserWarning: Overwriting tiny_vit_5m_224 in registry with finetuneSAM.models.sam.modeling.tiny_vit_sam.tiny_vit_5m_224. This is because the name being registered conflicts with an existing name. Please check if this is not expected.\n",
      "  return register_model(fn_wrapper)\n",
      "c:\\SamPeft\\finetuneSAM\\models\\sam\\modeling\\tiny_vit_sam.py:760: UserWarning: Overwriting tiny_vit_11m_224 in registry with finetuneSAM.models.sam.modeling.tiny_vit_sam.tiny_vit_11m_224. This is because the name being registered conflicts with an existing name. Please check if this is not expected.\n",
      "  return register_model(fn_wrapper)\n",
      "c:\\SamPeft\\finetuneSAM\\models\\sam\\modeling\\tiny_vit_sam.py:760: UserWarning: Overwriting tiny_vit_21m_224 in registry with finetuneSAM.models.sam.modeling.tiny_vit_sam.tiny_vit_21m_224. This is because the name being registered conflicts with an existing name. Please check if this is not expected.\n",
      "  return register_model(fn_wrapper)\n",
      "c:\\SamPeft\\finetuneSAM\\models\\sam\\modeling\\tiny_vit_sam.py:760: UserWarning: Overwriting tiny_vit_21m_384 in registry with finetuneSAM.models.sam.modeling.tiny_vit_sam.tiny_vit_21m_384. This is because the name being registered conflicts with an existing name. Please check if this is not expected.\n",
      "  return register_model(fn_wrapper)\n",
      "c:\\SamPeft\\finetuneSAM\\models\\sam\\modeling\\tiny_vit_sam.py:760: UserWarning: Overwriting tiny_vit_21m_512 in registry with finetuneSAM.models.sam.modeling.tiny_vit_sam.tiny_vit_21m_512. This is because the name being registered conflicts with an existing name. Please check if this is not expected.\n",
      "  return register_model(fn_wrapper)\n"
     ]
    }
   ],
   "source": [
    "from train_for_real import *\n",
    "import pickle"
   ]
  },
  {
   "cell_type": "code",
   "execution_count": 2,
   "metadata": {},
   "outputs": [
    {
     "name": "stderr",
     "output_type": "stream",
     "text": [
      "c:\\SamPeft\\finetuneSAM\\models\\sam\\build_sam.py:158: FutureWarning: You are using `torch.load` with `weights_only=False` (the current default value), which uses the default pickle module implicitly. It is possible to construct malicious pickle data which will execute arbitrary code during unpickling (See https://github.com/pytorch/pytorch/blob/main/SECURITY.md#untrusted-models for more details). In a future release, the default value for `weights_only` will be flipped to `True`. This limits the functions that could be executed during unpickling. Arbitrary objects will no longer be allowed to be loaded via this mode unless they are explicitly allowlisted by the user via `torch.serialization.add_safe_globals`. We recommend you start setting `weights_only=True` for any use case where you don't have full control of the loaded file. Please open an issue on GitHub for any issues related to this experimental feature.\n",
      "  state_dict = torch.load(f)\n"
     ]
    }
   ],
   "source": [
    "from finetuneSAM.cfg import parse_args\n",
    "#Fine-Tune Sam\n",
    "args =  parse_args()\n",
    "\n",
    "\n",
    "# setting if_mask_decoder_adapter = True puts adapters inside 2-way transformer blocks\n",
    "# this does not change the number of decoder 2-way transformer blocks (def = 2)\n",
    "# decoder_adapt_depth denotes how many of the two 2-way transformer blocks are adapted\n",
    "\n",
    "\n",
    "# setting if_encoder_adapter = True puts adapters inside TinyViTBlocks in the encoder\n",
    "# this does not change the number of encoder TinyViTBlocks (def = 4)\n",
    "# encoder_adapt_depth (e.g. [1,2]) denotes how deep blocks will be adapted\n",
    "\n",
    "args.finetune_type = \"vanilla\"\n",
    "#args.finetune_type = \"adapter\"# \"vanilla\"\n",
    "#args.if_mask_decoder_adapter = True\n",
    "#args.image_size = 512\n",
    "#args.decoder_adapt_depth = 1\n",
    "args.num_cls = 3\n",
    "\n",
    "\n",
    "sam = load_model(args)\n",
    "\n",
    "\n"
   ]
  },
  {
   "cell_type": "code",
   "execution_count": 3,
   "metadata": {},
   "outputs": [
    {
     "name": "stdout",
     "output_type": "stream",
     "text": [
      "2\n"
     ]
    }
   ],
   "source": [
    "\n",
    "# # org_data = load_data()\n",
    "\n",
    "# #save dta as pickle\n",
    "# with open('data_w_ps.pkl', 'wb') as file:\n",
    "#     pickle.dump(org_data, file)\n",
    "\n",
    "\n",
    "with open('data_w_ps.pkl', 'rb') as file:\n",
    "    org_data = pickle.load(file)\n",
    "\n",
    "sammy = Sammy(sam, (512,512))\n",
    "print(len(org_data['image']))\n"
   ]
  },
  {
   "cell_type": "code",
   "execution_count": 5,
   "metadata": {},
   "outputs": [],
   "source": [
    "org_data = EyeData(org_data)"
   ]
  },
  {
   "cell_type": "code",
   "execution_count": 6,
   "metadata": {},
   "outputs": [],
   "source": [
    "org_data.divide_into_batches(2)\n",
    "batch = org_data.batches[0]\n",
    "batch_imgs = batch['image']\n",
    "batch_points = batch['points']\n",
    "batch_p_labels = batch['p_labels']\n",
    "batch_masks = batch['mask']\n",
    "features = sammy.encode_img(batch_imgs)\n",
    "sparse_embeddings, dense_embeddings = sammy.encode_promts(batch_points, batch_p_labels)\n",
    "iou_predictions, low_res_masks = sammy.decode_features(features, sparse_embeddings, dense_embeddings)\n",
    "\n",
    "\n",
    "\n",
    "\n"
   ]
  },
  {
   "cell_type": "code",
   "execution_count": null,
   "metadata": {},
   "outputs": [],
   "source": [
    "def visualize_true_mask(mask,points, p_labels):\n",
    "    f = Upsample(scale_factor=0.5)\n",
    "\n",
    "    tru = mask\n",
    "    \n",
    "    points = points * 0.5\n",
    "    lbls = p_labels\n",
    "    \n",
    "\n",
    "    tru = f(torch.tensor(tru)[None,None, :, :].float()).numpy()\n",
    "    tru = tru[0][0]\n",
    "    \n",
    "    # plot only true mask\n",
    "    fig, axs = plt.subplots(1, 1, figsize=(10,10))\n",
    "    axs.imshow(tru, cmap='gray')\n",
    "    \n",
    "    #scatter points\n",
    "    for i in range(len(points)):\n",
    "        if lbls[i] == 1:\n",
    "            axs.scatter(points[i][1], points[i][0], c='blue')#, s = 2)\n",
    "        else:\n",
    "            axs.scatter(points[i][1], points[i][0], c='red')#, s = 2)\n",
    "\n",
    "    "
   ]
  },
  {
   "cell_type": "code",
   "execution_count": null,
   "metadata": {},
   "outputs": [
    {
     "data": {
      "image/png": "[encoded data removed]",
      "text/plain": [
       "<Figure size 1000x1000 with 1 Axes>"
      ]
     },
     "metadata": {},
     "output_type": "display_data"
    }
   ],
   "source": [
    "visualize_true_mask(batch_masks[0], batch_points[0], batch_p_labels[0])"
   ]
  },
  {
   "cell_type": "code",
   "execution_count": 8,
   "metadata": {},
   "outputs": [],
   "source": [
    "\n",
    "def visualize_predictions(true_mask, low_res_preds, points, p_labels):\n",
    "    f = Upsample(scale_factor=0.5)\n",
    "    # tru = org_data['mask'][0]\n",
    "    # ponts = org_data['points'][0]\n",
    "    # ponts = ponts * 0.5\n",
    "    # lbls = org_data['p_labels'][0]\n",
    "\n",
    "    tru = true_mask\n",
    "    ponts = points\n",
    "    ponts = ponts * 0.5\n",
    "    lbls = p_labels\n",
    "    \n",
    "\n",
    "    tru = f(torch.tensor(tru)[None,None, :, :].float()).numpy()\n",
    "    tru = tru[0][0]\n",
    "    preds = low_res_masks[0].detach().cpu().numpy()\n",
    "    preds = np.where(preds > 0.5, 1, 0)\n",
    "    print(tru.shape)\n",
    "    print(preds[0].shape)\n",
    "\n",
    "    # plot three subplots each for tru and a class prediction\n",
    "    fig, axs = plt.subplots(3,1)\n",
    "    fig.suptitle('Predictions for Image 1')\n",
    "    axs[0,].set_title('Prediction 1')\n",
    "    tNp = tru + preds[0]*5\n",
    "    axs[0].imshow(tNp)\n",
    "    # scatter points   \n",
    "    for i in range(len(ponts)):\n",
    "        if lbls[i] == 1:\n",
    "            axs[0].scatter(ponts[i][1], ponts[i][0], c='blue', s = 2)\n",
    "        else:\n",
    "            axs[0].scatter(ponts[i][1], ponts[i][0], c='red', s = 2)\n",
    "\n",
    "\n",
    "    axs[1].set_title('Prediction 2')\n",
    "    tNp = tru + preds[1]*5\n",
    "    axs[1].imshow(tNp)\n",
    "    # scatter points\n",
    "    for i in range(len(ponts)):\n",
    "        if lbls[i] == 1:\n",
    "            axs[1].scatter(ponts[i][1], ponts[i][0], c='blue', s = 2)\n",
    "        else:\n",
    "            axs[1].scatter(ponts[i][1], ponts[i][0], c='red', s = 2)\n",
    "\n",
    "\n",
    "    axs[2].set_title('Prediction 3')\n",
    "    tNp = tru + preds[2]*5\n",
    "    axs[2].imshow(tNp)\n",
    "    # scatter points with size 2pxs\n",
    "    for i in range(len(ponts)):\n",
    "        if lbls[i] == 1:\n",
    "            axs[2].scatter(ponts[i][1], ponts[i][0], c='blue', s = 2)\n",
    "        else:\n",
    "            axs[2].scatter(ponts[i][1], ponts[i][0], c='red', s = 2)\n",
    "    plt.show()\n",
    "\n",
    "\n",
    "\n",
    "\n",
    "\n",
    "\n",
    "# # 3 masks for 3 classes\n",
    "# img1_masks = low_res_masks[0]\n",
    "# # # # plot low res masks\n",
    "# plt.imshow(img1_masks[].detach().cpu().numpy())\n",
    "# plt.show()"
   ]
  },
  {
   "cell_type": "code",
   "execution_count": 9,
   "metadata": {},
   "outputs": [
    {
     "name": "stdout",
     "output_type": "stream",
     "text": [
      "(256, 256)\n",
      "(256, 256)\n"
     ]
    },
    {
     "ename": "IndexError",
     "evalue": "index 1 is out of bounds for axis 0 with size 1",
     "output_type": "error",
     "traceback": [
      "\u001b[1;31m---------------------------------------------------------------------------\u001b[0m",
      "\u001b[1;31mIndexError\u001b[0m                                Traceback (most recent call last)",
      "Cell \u001b[1;32mIn[9], line 1\u001b[0m\n\u001b[1;32m----> 1\u001b[0m \u001b[43mvisualize_predictions\u001b[49m\u001b[43m(\u001b[49m\u001b[43mbatch_masks\u001b[49m\u001b[43m[\u001b[49m\u001b[38;5;241;43m0\u001b[39;49m\u001b[43m]\u001b[49m\u001b[43m,\u001b[49m\u001b[43m \u001b[49m\u001b[43mlow_res_masks\u001b[49m\u001b[43m[\u001b[49m\u001b[38;5;241;43m0\u001b[39;49m\u001b[43m]\u001b[49m\u001b[43m,\u001b[49m\u001b[43m \u001b[49m\u001b[43mbatch_points\u001b[49m\u001b[43m[\u001b[49m\u001b[38;5;241;43m0\u001b[39;49m\u001b[43m]\u001b[49m\u001b[43m,\u001b[49m\u001b[43m \u001b[49m\u001b[43mbatch_p_labels\u001b[49m\u001b[43m[\u001b[49m\u001b[38;5;241;43m0\u001b[39;49m\u001b[43m]\u001b[49m\u001b[43m)\u001b[49m\n",
      "Cell \u001b[1;32mIn[8], line 36\u001b[0m, in \u001b[0;36mvisualize_predictions\u001b[1;34m(true_mask, low_res_preds, points, p_labels)\u001b[0m\n\u001b[0;32m     32\u001b[0m         axs[\u001b[38;5;241m0\u001b[39m]\u001b[38;5;241m.\u001b[39mscatter(ponts[i][\u001b[38;5;241m1\u001b[39m], ponts[i][\u001b[38;5;241m0\u001b[39m], c\u001b[38;5;241m=\u001b[39m\u001b[38;5;124m'\u001b[39m\u001b[38;5;124mred\u001b[39m\u001b[38;5;124m'\u001b[39m, s \u001b[38;5;241m=\u001b[39m \u001b[38;5;241m2\u001b[39m)\n\u001b[0;32m     35\u001b[0m axs[\u001b[38;5;241m1\u001b[39m]\u001b[38;5;241m.\u001b[39mset_title(\u001b[38;5;124m'\u001b[39m\u001b[38;5;124mPrediction 2\u001b[39m\u001b[38;5;124m'\u001b[39m)\n\u001b[1;32m---> 36\u001b[0m tNp \u001b[38;5;241m=\u001b[39m tru \u001b[38;5;241m+\u001b[39m \u001b[43mpreds\u001b[49m\u001b[43m[\u001b[49m\u001b[38;5;241;43m1\u001b[39;49m\u001b[43m]\u001b[49m\u001b[38;5;241m*\u001b[39m\u001b[38;5;241m5\u001b[39m\n\u001b[0;32m     37\u001b[0m axs[\u001b[38;5;241m1\u001b[39m]\u001b[38;5;241m.\u001b[39mimshow(tNp)\n\u001b[0;32m     38\u001b[0m \u001b[38;5;66;03m# scatter points\u001b[39;00m\n",
      "\u001b[1;31mIndexError\u001b[0m: index 1 is out of bounds for axis 0 with size 1"
     ]
    },
    {
     "data": {
      "image/png": "[encoded data removed]",
      "text/plain": [
       "<Figure size 640x480 with 3 Axes>"
      ]
     },
     "metadata": {},
     "output_type": "display_data"
    }
   ],
   "source": [
    "visualize_predictions(batch_masks[0], low_res_masks[0], batch_points[0], batch_p_labels[0])"
   ]
  },
  {
   "cell_type": "code",
   "execution_count": 5,
   "metadata": {},
   "outputs": [],
   "source": [
    "# #Scientific computing \n",
    "# import numpy as np\n",
    "# #Pytorch packages\n",
    "# import torch\n",
    "from torch import nn\n",
    "import torch.optim as optim\n",
    "from tensorboardX import SummaryWriter\n",
    "#Visulization\n",
    "from tqdm import tqdm\n",
    "import monai\n"
   ]
  },
  {
   "cell_type": "code",
   "execution_count": 7,
   "metadata": {},
   "outputs": [
    {
     "name": "stdout",
     "output_type": "stream",
     "text": [
      "Train points: 2\n"
     ]
    },
    {
     "name": "stderr",
     "output_type": "stream",
     "text": [
      "  0%|          | 0/32 [00:00<?, ?it/s]"
     ]
    },
    {
     "name": "stdout",
     "output_type": "stream",
     "text": [
      "Start training\n",
      "Epoch num 0\n"
     ]
    },
    {
     "name": "stderr",
     "output_type": "stream",
     "text": [
      "  0%|          | 0/32 [00:07<?, ?it/s]"
     ]
    },
    {
     "name": "stdout",
     "output_type": "stream",
     "text": [
      "pred shape: torch.Size([2, 1, 256, 256])\n",
      "msks shape: (2, 512, 512)\n",
      "msks downscaled shape: (2, 512, 512)\n",
      "pred_t shape: torch.Size([2, 256, 256])\n",
      "msks_t_down shape: torch.Size([2, 256, 256])\n"
     ]
    },
    {
     "name": "stderr",
     "output_type": "stream",
     "text": [
      "\n"
     ]
    },
    {
     "ename": "ValueError",
     "evalue": "loss is nan",
     "output_type": "error",
     "traceback": [
      "\u001b[1;31m---------------------------------------------------------------------------\u001b[0m",
      "\u001b[1;31mValueError\u001b[0m                                Traceback (most recent call last)",
      "Cell \u001b[1;32mIn[7], line 118\u001b[0m\n\u001b[0;32m    113\u001b[0m \u001b[38;5;66;03m# print(' dice loss:',loss_dice)\u001b[39;00m\n\u001b[0;32m    114\u001b[0m \u001b[38;5;66;03m# print(' ce loss:',loss_ce)\u001b[39;00m\n\u001b[0;32m    115\u001b[0m \n\u001b[0;32m    116\u001b[0m \u001b[38;5;66;03m# throw exception if loss is nan\u001b[39;00m\n\u001b[0;32m    117\u001b[0m \u001b[38;5;28;01mif\u001b[39;00m \u001b[38;5;28;01mTrue\u001b[39;00m:\n\u001b[1;32m--> 118\u001b[0m     \u001b[38;5;28;01mraise\u001b[39;00m \u001b[38;5;167;01mValueError\u001b[39;00m(\u001b[38;5;124m'\u001b[39m\u001b[38;5;124mloss is nan\u001b[39m\u001b[38;5;124m'\u001b[39m)\n\u001b[0;32m    120\u001b[0m loss\u001b[38;5;241m.\u001b[39mbackward()\n\u001b[0;32m    121\u001b[0m optimizer\u001b[38;5;241m.\u001b[39mstep()\n",
      "\u001b[1;31mValueError\u001b[0m: loss is nan"
     ]
    }
   ],
   "source": [
    "from finetuneSAM.utils.dsc import dice_coeff_multi_class\n",
    "\n",
    "sam = sam\n",
    "with open('data_w_ps.pkl', 'rb') as file:\n",
    "    data = pickle.load(file)\n",
    "\n",
    "train_points = len(data['image'])\n",
    "checkpoints_path = 'checkpoints'\n",
    "\n",
    "\n",
    "val_percentage = 0.15\n",
    "val_points = int(train_points*val_percentage)\n",
    "train_points = train_points - val_points\n",
    "print('Train points:',train_points)\n",
    "\n",
    "val_data = {\"image\":[],\"mask\":[],\"points\":[],\"p_labels\":[]}\n",
    "for i in range(val_points):\n",
    "    rnd_indx = np.random.randint(0,len(data[\"image\"])-1)\n",
    "    val_data[\"image\"].append(data[\"image\"].pop(rnd_indx))\n",
    "    val_data[\"mask\"].append(data[\"mask\"].pop(rnd_indx))\n",
    "    val_data['points'].append(data['points'].pop(rnd_indx))\n",
    "    val_data['p_labels'].append(data['p_labels'].pop(rnd_indx))\n",
    "    \n",
    "train_data = data\n",
    "\n",
    "train_data = EyeData(train_data)\n",
    "\n",
    "val_data = EyeData(val_data)\n",
    "    \n",
    "\n",
    "if args.finetune_type == 'adapter':\n",
    "    for n, value in sam.named_parameters():\n",
    "        if \"Adapter\" not in n: # only update parameters in adapter\n",
    "            value.requires_grad = False\n",
    "    print('if update encoder:',args.if_update_encoder)\n",
    "    print('if image encoder adapter:',args.if_encoder_adapter)\n",
    "    print('if mask decoder adapter:',args.if_mask_decoder_adapter)\n",
    "    if args.if_encoder_adapter:\n",
    "        print('added adapter layers:',args.encoder_adapter_depths)\n",
    "    \n",
    "# elif args.finetune_type == 'vanilla' and args.if_update_encoder==False:   \n",
    "#     print('if update encoder:',args.if_update_encoder)\n",
    "#     for n, value in sam.image_encoder.named_parameters():\n",
    "#         value.requires_grad = False\n",
    "# elif args.finetune_type == 'lora':\n",
    "#     print('if update encoder:',args.if_update_encoder)\n",
    "#     print('if image encoder lora:',args.if_encoder_lora_layer)\n",
    "#     print('if mask decoder lora:',args.if_decoder_lora_layer)\n",
    "#     sam = LoRA_Sam(args,sam,r=4).sam\n",
    "sam.to('cuda')\n",
    "b_lr = args.lr\n",
    "epochs = 32\n",
    "batch_size = 2\n",
    "\n",
    "b_lr = 1e-3\n",
    "optimizer = optim.AdamW(sam.parameters(), lr=b_lr, betas=(0.9, 0.999), eps=1e-08, weight_decay=0.1, amsgrad=False)\n",
    "optimizer.zero_grad()\n",
    "scheduler = optim.lr_scheduler.StepLR(optimizer, step_size=10, gamma=0.5) #learning rate decay\n",
    "criterion1 = monai.losses.DiceLoss(sigmoid=True, squared_pred=True, to_onehot_y=True,reduction='mean')\n",
    "criterion2 = nn.CrossEntropyLoss()\n",
    "iter_num = 0\n",
    "max_iterations = epochs * train_points\n",
    "writer = SummaryWriter(checkpoints_path + '/log')\n",
    "\n",
    "pbar = tqdm(range(epochs))\n",
    "val_largest_dsc = 0\n",
    "last_update_epoch = 0\n",
    "print('Start training')\n",
    "\n",
    "mask_downscale_f = Upsample(scale_factor=0.5)\n",
    "\n",
    "for epoch in pbar:\n",
    "    print('Epoch num {}'.format(epoch))\n",
    "    sam.train()\n",
    "    train_loss = 0\n",
    "    train_data.divide_into_batches(batch_size)\n",
    "    for i in range(len(train_data.batches)):\n",
    "        batch = train_data.batches[i]\n",
    "        imgs = batch['image']\n",
    "        msks = batch['mask']\n",
    "        points = batch['points']\n",
    "        labels = batch['p_labels']\n",
    "\n",
    "\n",
    "        if args.if_update_encoder:\n",
    "            #img_emb = sam.image_encoder(imgs)\n",
    "            img_emb = sammy.encode_img(imgs)\n",
    "        else:\n",
    "            with torch.no_grad():\n",
    "                #img_emb = sam.image_encoder(imgs)\n",
    "                img_emb = sammy.encode_img(imgs)\n",
    "        \n",
    "        sparse_emb, dense_emb = sammy.encode_promts(points=points, labels=labels)\n",
    "        _,pred = sammy.decode_features(img_emb, sparse_emb, dense_emb)\n",
    "\n",
    "\n",
    "        print('pred shape:',pred.shape)\n",
    "        print('msks shape:',msks.shape)\n",
    "        msks_t = torch.tensor(msks).float().cuda()\n",
    "        msks_t_down = mask_downscale_f(msks_t[None,:,:,:]).long()[0]\n",
    "        \n",
    "        \n",
    "        print('msks downscaled shape:',msks.shape)\n",
    "        pred_t = pred.argmax(dim=1)\n",
    "        \n",
    "        print('pred_t shape:',pred_t.shape)\n",
    "        print('msks_t_down shape:',msks_t_down.shape)\n",
    "\n",
    "        loss_dice =  1 - dice_coeff_multi_class(pred_t, msks_t_down,2)\n",
    "        loss_ce = criterion2(pred,msks_t_down)\n",
    "        loss =  loss_dice + loss_ce\n",
    "\n",
    "        # print(' dice loss:',loss_dice)\n",
    "        # print(' ce loss:',loss_ce)\n",
    "        \n",
    "        # throw exception if loss is nan\n",
    "        if True:\n",
    "            raise ValueError('loss is nan')\n",
    "        \n",
    "        loss.backward()\n",
    "        optimizer.step()\n",
    "        optimizer.zero_grad(set_to_none=True)\n",
    "\n",
    "        \n",
    "        if args.if_warmup and iter_num < args.warmup_period:\n",
    "            lr_ = args.lr * ((iter_num + 1) / args.warmup_period)\n",
    "            for param_group in optimizer.param_groups:\n",
    "                param_group['lr'] = lr_\n",
    "\n",
    "        else:\n",
    "            if args.if_warmup:\n",
    "                shift_iter = iter_num - args.warmup_period\n",
    "                assert shift_iter >= 0, f'Shift iter is {shift_iter}, smaller than zero'\n",
    "                lr_ = args.lr * (1.0 - shift_iter / max_iterations) ** 0.9  # learning rate adjustment depends on the max iterations\n",
    "                for param_group in optimizer.param_groups:\n",
    "                    param_group['lr'] = lr_\n",
    "            else:\n",
    "                lr_ = args.lr\n",
    "\n",
    "        train_loss += loss.item()\n",
    "        iter_num+=1\n",
    "        writer.add_scalar('info/lr', lr_, iter_num)\n",
    "        writer.add_scalar('info/total_loss', loss, iter_num)\n",
    "        writer.add_scalar('info/loss_ce', loss_ce, iter_num)\n",
    "        #writer.add_scalar('info/loss_dice', loss_dice, iter_num)\n",
    "\n",
    "    train_loss /= (i+1)\n",
    "    pbar.set_description('Epoch num {}| train loss {} \\n'.format(epoch,train_loss))\n",
    "\n",
    "    if epoch%2==0:\n",
    "        \n",
    "        eval_loss=0\n",
    "        dsc = 0\n",
    "        sam.eval()\n",
    "        with torch.no_grad():\n",
    "            for i in range(val_points):\n",
    "                #print('Validation point num {}'.format(i))\n",
    "                imgs = val_data['image'][i]\n",
    "                msks = val_data['mask'][i]\n",
    "                sammy.set_image(imgs)\n",
    "\n",
    "                        #img_emb = sam.image_encoder(imgs)\n",
    "                img_emb = sammy.encode_img()\n",
    "                \n",
    "                sparse_emb, dense_emb = sammy.encode_promts(data['t_points'][i], data['bg_points'][i])\n",
    "                \n",
    "                pred, _,_ = sammy.decode_features(img_emb, sparse_emb, dense_emb)\n",
    "                \n",
    "                msks_t = torch.tensor([msks])\n",
    "                msks_t = torch.squeeze(msks_t.long(),1).cuda()\n",
    "                pred_t = pred.argmax(dim=1)\n",
    "                loss_dice =  1 - dice_coeff_multi_class(pred_t, msks_t,2)\n",
    "                loss_ce = criterion2(pred,torch.tensor([msks]).long().cuda())\n",
    "                loss = loss_dice + loss_ce\n",
    "                \n",
    "                eval_loss +=loss.item()\n",
    "                dsc_batch = dice_coeff_multi_class(pred_t, msks_t,2)\n",
    "                dsc+=dsc_batch\n",
    "                #print(dsc_batch)\n",
    "\n",
    "            eval_loss /= (i+1)\n",
    "            dsc /= (i+1)\n",
    "            \n",
    "            writer.add_scalar('eval/loss', eval_loss, epoch)\n",
    "            writer.add_scalar('eval/dice', dsc, epoch)\n",
    "            \n",
    "            print('Eval Epoch num {} | val loss {} | dsc {} \\n'.format(epoch,eval_loss,dsc))\n",
    "            if dsc>val_largest_dsc:\n",
    "                val_largest_dsc = dsc\n",
    "                last_update_epoch = epoch\n",
    "                print('largest DSC now: {}'.format(dsc))\n",
    "                torch.save(sam.state_dict(),checkpoints_path + '/checkpoint_best.pth')\n",
    "            elif (epoch-last_update_epoch)>20:\n",
    "                # the network haven't been updated for 20 epochs\n",
    "                print('Training finished###########')\n",
    "                break\n",
    "writer.close()"
   ]
  },
  {
   "cell_type": "code",
   "execution_count": null,
   "metadata": {},
   "outputs": [],
   "source": [
    "criterion2 = nn.CrossEntropyLoss()\n"
   ]
  },
  {
   "cell_type": "code",
   "execution_count": 60,
   "metadata": {},
   "outputs": [
    {
     "data": {
      "text/plain": [
       "tensor(10.0000)"
      ]
     },
     "execution_count": 60,
     "metadata": {},
     "output_type": "execute_result"
    }
   ],
   "source": [
    "c  = nn.BCEWithLogitsLoss()\n",
    "input = np.ones((15,512,512))*(-10)\n",
    "tru = np.ones((15,512,512))\n",
    "#criterion2(torch.tensor(input),torch.tensor(tru).long())\n",
    "a =torch.tensor(input).float()\n",
    "b = torch.tensor(tru).float()\n",
    "c(a,b)"
   ]
  },
  {
   "cell_type": "code",
   "execution_count": 48,
   "metadata": {},
   "outputs": [
    {
     "data": {
      "text/plain": [
       "tensor(3.8147e-06)"
      ]
     },
     "execution_count": 48,
     "metadata": {},
     "output_type": "execute_result"
    }
   ],
   "source": [
    "input = np.zeros((15,512,512))\n",
    "tru = np.ones((15,512,512))\n",
    "#criterion2(torch.tensor(input),torch.tensor(tru).long())\n",
    "a =torch.tensor(input).float()\n",
    "b = torch.tensor(tru).float()\n",
    "dice_coeff_multi_class(a,b,1)"
   ]
  },
  {
   "cell_type": "code",
   "execution_count": 73,
   "metadata": {},
   "outputs": [
    {
     "name": "stderr",
     "output_type": "stream",
     "text": [
      "c:\\Users\\mariusz\\AppData\\Local\\Programs\\Python\\Python310\\lib\\site-packages\\monai\\losses\\dice.py:156: UserWarning: single channel prediction, `to_onehot_y=True` ignored.\n",
      "  warnings.warn(\"single channel prediction, `to_onehot_y=True` ignored.\")\n"
     ]
    },
    {
     "data": {
      "text/plain": [
       "tensor(0.9999)"
      ]
     },
     "execution_count": 73,
     "metadata": {},
     "output_type": "execute_result"
    }
   ],
   "source": [
    "import monai.losses\n",
    "\n",
    "\n",
    "m = monai.losses.DiceLoss(sigmoid=True, squared_pred=True, to_onehot_y=True,reduction='mean')\n",
    "input = np.ones((15,1,512,512))*10*(-1)\n",
    "tru = np.ones((15,1,512,512))\n",
    "#criterion2(torch.tensor(input),torch.tensor(tru).long())\n",
    "a =torch.tensor(input).float()\n",
    "b = torch.tensor(tru).float()\n",
    "m(a,b)"
   ]
  },
  {
   "cell_type": "code",
   "execution_count": 80,
   "metadata": {},
   "outputs": [
    {
     "name": "stderr",
     "output_type": "stream",
     "text": [
      "C:\\Users\\mariusz\\AppData\\Local\\Temp\\ipykernel_18932\\790036749.py:3: UserWarning: To copy construct from a tensor, it is recommended to use sourceTensor.clone().detach() or sourceTensor.clone().detach().requires_grad_(True), rather than torch.tensor(sourceTensor).\n",
      "  input = torch.unsqueeze(torch.tensor(input),1)\n"
     ]
    },
    {
     "data": {
      "text/plain": [
       "torch.Size([15, 1, 512, 512])"
      ]
     },
     "execution_count": 80,
     "metadata": {},
     "output_type": "execute_result"
    }
   ],
   "source": [
    "\n",
    "input = np.zeros((15,1,512,512))\n",
    "input = torch.squeeze(torch.tensor(input))\n",
    "input = torch.unsqueeze(torch.tensor(input),1)\n",
    "input.shape\n"
   ]
  }
 ],
 "metadata": {
  "accelerator": "GPU",
  "colab": {
   "gpuType": "T4",
   "provenance": []
  },
  "kernelspec": {
   "display_name": "Python 3",
   "name": "python3"
  },
  "language_info": {
   "codemirror_mode": {
    "name": "ipython",
    "version": 3
   },
   "file_extension": ".py",
   "mimetype": "text/x-python",
   "name": "python",
   "nbconvert_exporter": "python",
   "pygments_lexer": "ipython3",
   "version": "3.10.10"
  },
  "widgets": {
   "application/vnd.jupyter.widget-state+json": {
    "3a3663b3d63a4c4cac421d8fd4746051": {
     "model_module": "@jupyter-widgets/controls",
     "model_module_version": "1.5.0",
     "model_name": "HTMLModel",
     "state": {
      "_dom_classes": [],
      "_model_module": "@jupyter-widgets/controls",
      "_model_module_version": "1.5.0",
      "_model_name": "HTMLModel",
      "_view_count": null,
      "_view_module": "@jupyter-widgets/controls",
      "_view_module_version": "1.5.0",
      "_view_name": "HTMLView",
      "description": "",
      "description_tooltip": null,
      "layout": "IPY_MODEL_7ffd23cd526d49bbb04bb3fb3713d38c",
      "placeholder": "​",
      "style": "IPY_MODEL_e3bd26913d7d48ba8622d17d290ed9b9",
      "value": "preprocessor_config.json: 100%"
     }
    },
    "4988b977dc674fde92fe781df557bd9a": {
     "model_module": "@jupyter-widgets/controls",
     "model_module_version": "1.5.0",
     "model_name": "ProgressStyleModel",
     "state": {
      "_model_module": "@jupyter-widgets/controls",
      "_model_module_version": "1.5.0",
      "_model_name": "ProgressStyleModel",
      "_view_count": null,
      "_view_module": "@jupyter-widgets/base",
      "_view_module_version": "1.2.0",
      "_view_name": "StyleView",
      "bar_color": null,
      "description_width": ""
     }
    },
    "762364a1ca11410894f2ba1104b3b81f": {
     "model_module": "@jupyter-widgets/controls",
     "model_module_version": "1.5.0",
     "model_name": "HTMLModel",
     "state": {
      "_dom_classes": [],
      "_model_module": "@jupyter-widgets/controls",
      "_model_module_version": "1.5.0",
      "_model_name": "HTMLModel",
      "_view_count": null,
      "_view_module": "@jupyter-widgets/controls",
      "_view_module_version": "1.5.0",
      "_view_name": "HTMLView",
      "description": "",
      "description_tooltip": null,
      "layout": "IPY_MODEL_a0caf5e9e72d4b029a7bb4d10baed9e8",
      "placeholder": "​",
      "style": "IPY_MODEL_937b51bfed124a47a46c4773998531f5",
      "value": " 466/466 [00:00&lt;00:00, 33.8kB/s]"
     }
    },
    "7ab0cc445a37426c89c5710c15db6227": {
     "model_module": "@jupyter-widgets/controls",
     "model_module_version": "1.5.0",
     "model_name": "HBoxModel",
     "state": {
      "_dom_classes": [],
      "_model_module": "@jupyter-widgets/controls",
      "_model_module_version": "1.5.0",
      "_model_name": "HBoxModel",
      "_view_count": null,
      "_view_module": "@jupyter-widgets/controls",
      "_view_module_version": "1.5.0",
      "_view_name": "HBoxView",
      "box_style": "",
      "children": [
       "IPY_MODEL_3a3663b3d63a4c4cac421d8fd4746051",
       "IPY_MODEL_ab8c2f638a7e49bc95f5f3675cdfb737",
       "IPY_MODEL_762364a1ca11410894f2ba1104b3b81f"
      ],
      "layout": "IPY_MODEL_8aa7ec419c4a4c7db62e6fcc1df27498"
     }
    },
    "7ffd23cd526d49bbb04bb3fb3713d38c": {
     "model_module": "@jupyter-widgets/base",
     "model_module_version": "1.2.0",
     "model_name": "LayoutModel",
     "state": {
      "_model_module": "@jupyter-widgets/base",
      "_model_module_version": "1.2.0",
      "_model_name": "LayoutModel",
      "_view_count": null,
      "_view_module": "@jupyter-widgets/base",
      "_view_module_version": "1.2.0",
      "_view_name": "LayoutView",
      "align_content": null,
      "align_items": null,
      "align_self": null,
      "border": null,
      "bottom": null,
      "display": null,
      "flex": null,
      "flex_flow": null,
      "grid_area": null,
      "grid_auto_columns": null,
      "grid_auto_flow": null,
      "grid_auto_rows": null,
      "grid_column": null,
      "grid_gap": null,
      "grid_row": null,
      "grid_template_areas": null,
      "grid_template_columns": null,
      "grid_template_rows": null,
      "height": null,
      "justify_content": null,
      "justify_items": null,
      "left": null,
      "margin": null,
      "max_height": null,
      "max_width": null,
      "min_height": null,
      "min_width": null,
      "object_fit": null,
      "object_position": null,
      "order": null,
      "overflow": null,
      "overflow_x": null,
      "overflow_y": null,
      "padding": null,
      "right": null,
      "top": null,
      "visibility": null,
      "width": null
     }
    },
    "8aa7ec419c4a4c7db62e6fcc1df27498": {
     "model_module": "@jupyter-widgets/base",
     "model_module_version": "1.2.0",
     "model_name": "LayoutModel",
     "state": {
      "_model_module": "@jupyter-widgets/base",
      "_model_module_version": "1.2.0",
      "_model_name": "LayoutModel",
      "_view_count": null,
      "_view_module": "@jupyter-widgets/base",
      "_view_module_version": "1.2.0",
      "_view_name": "LayoutView",
      "align_content": null,
      "align_items": null,
      "align_self": null,
      "border": null,
      "bottom": null,
      "display": null,
      "flex": null,
      "flex_flow": null,
      "grid_area": null,
      "grid_auto_columns": null,
      "grid_auto_flow": null,
      "grid_auto_rows": null,
      "grid_column": null,
      "grid_gap": null,
      "grid_row": null,
      "grid_template_areas": null,
      "grid_template_columns": null,
      "grid_template_rows": null,
      "height": null,
      "justify_content": null,
      "justify_items": null,
      "left": null,
      "margin": null,
      "max_height": null,
      "max_width": null,
      "min_height": null,
      "min_width": null,
      "object_fit": null,
      "object_position": null,
      "order": null,
      "overflow": null,
      "overflow_x": null,
      "overflow_y": null,
      "padding": null,
      "right": null,
      "top": null,
      "visibility": null,
      "width": null
     }
    },
    "937b51bfed124a47a46c4773998531f5": {
     "model_module": "@jupyter-widgets/controls",
     "model_module_version": "1.5.0",
     "model_name": "DescriptionStyleModel",
     "state": {
      "_model_module": "@jupyter-widgets/controls",
      "_model_module_version": "1.5.0",
      "_model_name": "DescriptionStyleModel",
      "_view_count": null,
      "_view_module": "@jupyter-widgets/base",
      "_view_module_version": "1.2.0",
      "_view_name": "StyleView",
      "description_width": ""
     }
    },
    "a0caf5e9e72d4b029a7bb4d10baed9e8": {
     "model_module": "@jupyter-widgets/base",
     "model_module_version": "1.2.0",
     "model_name": "LayoutModel",
     "state": {
      "_model_module": "@jupyter-widgets/base",
      "_model_module_version": "1.2.0",
      "_model_name": "LayoutModel",
      "_view_count": null,
      "_view_module": "@jupyter-widgets/base",
      "_view_module_version": "1.2.0",
      "_view_name": "LayoutView",
      "align_content": null,
      "align_items": null,
      "align_self": null,
      "border": null,
      "bottom": null,
      "display": null,
      "flex": null,
      "flex_flow": null,
      "grid_area": null,
      "grid_auto_columns": null,
      "grid_auto_flow": null,
      "grid_auto_rows": null,
      "grid_column": null,
      "grid_gap": null,
      "grid_row": null,
      "grid_template_areas": null,
      "grid_template_columns": null,
      "grid_template_rows": null,
      "height": null,
      "justify_content": null,
      "justify_items": null,
      "left": null,
      "margin": null,
      "max_height": null,
      "max_width": null,
      "min_height": null,
      "min_width": null,
      "object_fit": null,
      "object_position": null,
      "order": null,
      "overflow": null,
      "overflow_x": null,
      "overflow_y": null,
      "padding": null,
      "right": null,
      "top": null,
      "visibility": null,
      "width": null
     }
    },
    "ab8c2f638a7e49bc95f5f3675cdfb737": {
     "model_module": "@jupyter-widgets/controls",
     "model_module_version": "1.5.0",
     "model_name": "FloatProgressModel",
     "state": {
      "_dom_classes": [],
      "_model_module": "@jupyter-widgets/controls",
      "_model_module_version": "1.5.0",
      "_model_name": "FloatProgressModel",
      "_view_count": null,
      "_view_module": "@jupyter-widgets/controls",
      "_view_module_version": "1.5.0",
      "_view_name": "ProgressView",
      "bar_style": "success",
      "description": "",
      "description_tooltip": null,
      "layout": "IPY_MODEL_df9e5b3a11c642c5b32b84a693751ac3",
      "max": 466,
      "min": 0,
      "orientation": "horizontal",
      "style": "IPY_MODEL_4988b977dc674fde92fe781df557bd9a",
      "value": 466
     }
    },
    "df9e5b3a11c642c5b32b84a693751ac3": {
     "model_module": "@jupyter-widgets/base",
     "model_module_version": "1.2.0",
     "model_name": "LayoutModel",
     "state": {
      "_model_module": "@jupyter-widgets/base",
      "_model_module_version": "1.2.0",
      "_model_name": "LayoutModel",
      "_view_count": null,
      "_view_module": "@jupyter-widgets/base",
      "_view_module_version": "1.2.0",
      "_view_name": "LayoutView",
      "align_content": null,
      "align_items": null,
      "align_self": null,
      "border": null,
      "bottom": null,
      "display": null,
      "flex": null,
      "flex_flow": null,
      "grid_area": null,
      "grid_auto_columns": null,
      "grid_auto_flow": null,
      "grid_auto_rows": null,
      "grid_column": null,
      "grid_gap": null,
      "grid_row": null,
      "grid_template_areas": null,
      "grid_template_columns": null,
      "grid_template_rows": null,
      "height": null,
      "justify_content": null,
      "justify_items": null,
      "left": null,
      "margin": null,
      "max_height": null,
      "max_width": null,
      "min_height": null,
      "min_width": null,
      "object_fit": null,
      "object_position": null,
      "order": null,
      "overflow": null,
      "overflow_x": null,
      "overflow_y": null,
      "padding": null,
      "right": null,
      "top": null,
      "visibility": null,
      "width": null
     }
    },
    "e3bd26913d7d48ba8622d17d290ed9b9": {
     "model_module": "@jupyter-widgets/controls",
     "model_module_version": "1.5.0",
     "model_name": "DescriptionStyleModel",
     "state": {
      "_model_module": "@jupyter-widgets/controls",
      "_model_module_version": "1.5.0",
      "_model_name": "DescriptionStyleModel",
      "_view_count": null,
      "_view_module": "@jupyter-widgets/base",
      "_view_module_version": "1.2.0",
      "_view_name": "StyleView",
      "description_width": ""
     }
    }
   }
  }
 },
 "nbformat": 4,
 "nbformat_minor": 0
}
