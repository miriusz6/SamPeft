{
 "cells": [
  {
   "cell_type": "markdown",
   "metadata": {},
   "source": [
    "Imports:"
   ]
  },
  {
   "cell_type": "code",
   "execution_count": 1,
   "metadata": {},
   "outputs": [
    {
     "name": "stderr",
     "output_type": "stream",
     "text": [
      "c:\\Users\\newma\\AppData\\Local\\Programs\\Python\\Python310\\lib\\site-packages\\timm\\models\\layers\\__init__.py:48: FutureWarning: Importing from timm.models.layers is deprecated, please import via timm.layers\n",
      "  warnings.warn(f\"Importing from {__name__} is deprecated, please import via timm.layers\", FutureWarning)\n",
      "c:\\Users\\newma\\AppData\\Local\\Programs\\Python\\Python310\\lib\\site-packages\\timm\\models\\registry.py:4: FutureWarning: Importing from timm.models.registry is deprecated, please import via timm.models\n",
      "  warnings.warn(f\"Importing from {__name__} is deprecated, please import via timm.models\", FutureWarning)\n",
      "c:\\KU\\SamPeft\\finetuneSAM\\models\\sam\\modeling\\tiny_vit_sam.py:760: UserWarning: Overwriting tiny_vit_5m_224 in registry with finetuneSAM.models.sam.modeling.tiny_vit_sam.tiny_vit_5m_224. This is because the name being registered conflicts with an existing name. Please check if this is not expected.\n",
      "  return register_model(fn_wrapper)\n",
      "c:\\KU\\SamPeft\\finetuneSAM\\models\\sam\\modeling\\tiny_vit_sam.py:760: UserWarning: Overwriting tiny_vit_11m_224 in registry with finetuneSAM.models.sam.modeling.tiny_vit_sam.tiny_vit_11m_224. This is because the name being registered conflicts with an existing name. Please check if this is not expected.\n",
      "  return register_model(fn_wrapper)\n",
      "c:\\KU\\SamPeft\\finetuneSAM\\models\\sam\\modeling\\tiny_vit_sam.py:760: UserWarning: Overwriting tiny_vit_21m_224 in registry with finetuneSAM.models.sam.modeling.tiny_vit_sam.tiny_vit_21m_224. This is because the name being registered conflicts with an existing name. Please check if this is not expected.\n",
      "  return register_model(fn_wrapper)\n",
      "c:\\KU\\SamPeft\\finetuneSAM\\models\\sam\\modeling\\tiny_vit_sam.py:760: UserWarning: Overwriting tiny_vit_21m_384 in registry with finetuneSAM.models.sam.modeling.tiny_vit_sam.tiny_vit_21m_384. This is because the name being registered conflicts with an existing name. Please check if this is not expected.\n",
      "  return register_model(fn_wrapper)\n",
      "c:\\KU\\SamPeft\\finetuneSAM\\models\\sam\\modeling\\tiny_vit_sam.py:760: UserWarning: Overwriting tiny_vit_21m_512 in registry with finetuneSAM.models.sam.modeling.tiny_vit_sam.tiny_vit_21m_512. This is because the name being registered conflicts with an existing name. Please check if this is not expected.\n",
      "  return register_model(fn_wrapper)\n"
     ]
    }
   ],
   "source": [
    "from train_for_real import *\n",
    "import pickle\n",
    "\n",
    "from torch import nn\n",
    "import torch.optim as optim\n",
    "from tensorboardX import SummaryWriter\n",
    "#Visulization\n",
    "#from tqdm import tqdm\n",
    "from tqdm.notebook import tqdm\n",
    "import monai\n",
    "# finetuneSAM\\models\\sam_LoRa.py\n",
    "from finetuneSAM.models.sam_LoRa import LoRA_Sam\n",
    "\n",
    "# import plt\n",
    "import matplotlib.pyplot as plt\n",
    "\n",
    "from shit import test_model, adjust_lr\n",
    "\n",
    "from model_settings import get_args\n"
   ]
  },
  {
   "cell_type": "code",
   "execution_count": 2,
   "metadata": {},
   "outputs": [
    {
     "name": "stderr",
     "output_type": "stream",
     "text": [
      "c:\\KU\\SamPeft\\finetuneSAM\\models\\sam\\build_sam.py:158: FutureWarning: You are using `torch.load` with `weights_only=False` (the current default value), which uses the default pickle module implicitly. It is possible to construct malicious pickle data which will execute arbitrary code during unpickling (See https://github.com/pytorch/pytorch/blob/main/SECURITY.md#untrusted-models for more details). In a future release, the default value for `weights_only` will be flipped to `True`. This limits the functions that could be executed during unpickling. Arbitrary objects will no longer be allowed to be loaded via this mode unless they are explicitly allowlisted by the user via `torch.serialization.add_safe_globals`. We recommend you start setting `weights_only=True` for any use case where you don't have full control of the loaded file. Please open an issue on GitHub for any issues related to this experimental feature.\n",
      "  state_dict = torch.load(f)\n"
     ]
    },
    {
     "name": "stdout",
     "output_type": "stream",
     "text": [
      "if update encoder: True\n",
      "if image encoder lora: True\n",
      "if mask decoder lora: True\n",
      "Total trainable parameters: 115840\n",
      "Training points: 18\n",
      "Validation points: 2\n"
     ]
    }
   ],
   "source": [
    "# model setting\n",
    "setting = 6\n",
    "\n",
    "args =  get_args(setting)\n",
    "sam = load_model(args)\n",
    "\n",
    "\n",
    "with open('test_data.pkl', 'rb') as file:\n",
    "    data = pickle.load(file)\n",
    "\n",
    "train_points = len(data['image'])\n",
    "checkpoints_path = 'checkpoints'\n",
    "\n",
    "    \n",
    "val_percentage = 0.1\n",
    "val_points = int(train_points*val_percentage)\n",
    "train_points = train_points - val_points\n",
    "\n",
    "val_data = {\"image\":[],\"mask\":[],\"points\":[],\"p_labels\":[]}\n",
    "for i in range(val_points):\n",
    "    rnd_indx = np.random.randint(0,len(data[\"image\"])-1)\n",
    "    val_data[\"image\"].append(data[\"image\"].pop(rnd_indx))\n",
    "    val_data[\"mask\"].append(data[\"mask\"].pop(rnd_indx))\n",
    "    val_data['points'].append(data['points'].pop(rnd_indx))\n",
    "    val_data['p_labels'].append(data['p_labels'].pop(rnd_indx))\n",
    "    \n",
    "train_data = data\n",
    "\n",
    "train_data = EyeData(train_data)\n",
    "\n",
    "val_data = EyeData(val_data)\n",
    "\n",
    "\n",
    "#args.finetune_type = 'vanilla'\n",
    "\n",
    "if args.finetune_type == 'adapter':\n",
    "        for n, value in sam.named_parameters():\n",
    "            if \"Adapter\" not in n: # only update parameters in adapter\n",
    "                value.requires_grad = False\n",
    "        print('if update encoder:',args.if_update_encoder)\n",
    "        print('if image encoder adapter:',args.if_encoder_adapter)\n",
    "        print('if mask decoder adapter:',args.if_mask_decoder_adapter)\n",
    "        if args.if_encoder_adapter:\n",
    "            print('added adapter layers:',args.encoder_adapter_depths)\n",
    "elif args.finetune_type == 'lora':\n",
    "    print('if update encoder:',args.if_update_encoder)\n",
    "    print('if image encoder lora:',args.if_encoder_lora_layer)\n",
    "    print('if mask decoder lora:',args.if_decoder_lora_layer)\n",
    "    for n, value in sam.named_parameters():\n",
    "        value.requires_grad = False\n",
    "    sam = LoRA_Sam(args,sam,r=2).sam\n",
    "\n",
    "sam.to('cuda')\n",
    "\n",
    "# count trainable parameters\n",
    "total_params = sum(p.numel() for p in sam.parameters() if p.requires_grad)\n",
    "print('Total trainable parameters:',total_params)\n",
    "\n",
    "print(\"Training points:\",len(train_data))\n",
    "print(\"Validation points:\",len(val_data))  \n",
    "\n",
    "sammy = Sammy(sam, (512,512))"
   ]
  },
  {
   "cell_type": "code",
   "execution_count": 4,
   "metadata": {},
   "outputs": [
    {
     "name": "stderr",
     "output_type": "stream",
     "text": [
      "  0%|          | 0/2 [00:00<?, ?it/s]"
     ]
    },
    {
     "name": "stdout",
     "output_type": "stream",
     "text": [
      "distance applied:  95\n"
     ]
    },
    {
     "name": "stderr",
     "output_type": "stream",
     "text": [
      " 50%|█████     | 1/2 [00:06<00:06,  6.35s/it]"
     ]
    },
    {
     "name": "stdout",
     "output_type": "stream",
     "text": [
      "distance applied:  95\n",
      "distance applied:  95\n"
     ]
    },
    {
     "name": "stderr",
     "output_type": "stream",
     "text": [
      "100%|██████████| 2/2 [00:12<00:00,  6.32s/it]"
     ]
    },
    {
     "name": "stdout",
     "output_type": "stream",
     "text": [
      "distance applied:  95\n"
     ]
    },
    {
     "name": "stderr",
     "output_type": "stream",
     "text": [
      "\n"
     ]
    }
   ],
   "source": [
    "from train_for_real import _load_data\n",
    "#data\\DataSmall\\train\\image\n",
    "d_0 = _load_data(img_path=\"\\data/DataSmall/train/image/\", mask_path=\"\\data/DataSmall/train/mask/\")\n",
    "d_0 = EyeData(d_0)\n",
    "\n",
    "with open('small_data_1.pkl', 'wb' ) as file:\n",
    "    pickle.dump(d_0,file)"
   ]
  },
  {
   "cell_type": "code",
   "execution_count": 6,
   "metadata": {},
   "outputs": [],
   "source": [
    "with open('small_data_15.pkl', 'rb') as file:\n",
    "    small_data_15 = pickle.load(file)\n",
    "\n",
    "small_data_15 = EyeData(small_data_15)\n",
    "small_data_15.divide_into_batches(2,augment=False)"
   ]
  },
  {
   "cell_type": "code",
   "execution_count": 8,
   "metadata": {},
   "outputs": [
    {
     "name": "stdout",
     "output_type": "stream",
     "text": [
      "Dice: tensor(0.7263, device='cuda:0')\n",
      "BCE: tensor(1.6721, device='cuda:0')\n",
      "IoU: tensor([[0.9276],\n",
      "        [0.8953]], device='cuda:0')\n"
     ]
    }
   ],
   "source": [
    "mini_b = small_data_15.batches[0]\n",
    "imgs,ps,lbls, masks = mini_b['image'],mini_b['points'],mini_b['p_labels'],mini_b['mask']\n",
    "ret = sammy.predict_w_score(input_images= imgs, points= ps, labels=lbls, masks=masks, visualize=True)\n",
    "dice, bcee, iou = ret['loss_dice'], ret['loss_bce'], ret['iou']\n",
    "print('Dice:',dice)\n",
    "print('BCE:',bcee)\n",
    "print('IoU:',iou)"
   ]
  },
  {
   "cell_type": "code",
   "execution_count": 9,
   "metadata": {},
   "outputs": [
    {
     "data": {
      "text/plain": [
       "<matplotlib.image.AxesImage at 0x208870e7e50>"
      ]
     },
     "execution_count": 9,
     "metadata": {},
     "output_type": "execute_result"
    },
    {
     "data": {
      "image/png": "[encoded data removed]",
      "text/plain": [
       "<Figure size 1000x1000 with 1 Axes>"
      ]
     },
     "metadata": {},
     "output_type": "display_data"
    }
   ],
   "source": [
    "result = ret['visual'][1]\n",
    "# plot\n",
    "plt.figure(figsize=(10,10))\n",
    "plt.imshow(result)"
   ]
  },
  {
   "cell_type": "code",
   "execution_count": null,
   "metadata": {},
   "outputs": [
    {
     "name": "stderr",
     "output_type": "stream",
     "text": [
      "c:\\KU\\SamPeft\\finetuneSAM\\models\\sam\\modeling\\tiny_vit_sam.py:372: TracerWarning: Converting a tensor to a Python boolean might cause the trace to be incorrect. We can't record the data flow of Python values, so this value will be treated as a constant in the future. This means that the trace might not generalize to other inputs!\n",
      "  assert L == H * W, \"input feature has wrong size\"\n",
      "c:\\KU\\SamPeft\\finetuneSAM\\models\\sam\\modeling\\tiny_vit_sam.py:153: TracerWarning: Using len to get tensor shape might cause the trace to be incorrect. Recommended usage would be tensor.shape[0]. Passing a tensor of different shape might lead to errors or silently give incorrect results.\n",
      "  B = len(x)\n"
     ]
    }
   ],
   "source": [
    "ims = torch.rand(1,3,1024,1024)\n",
    "ims = ims.float().cuda()\n",
    "writer = SummaryWriter(checkpoints_path +'/'+ str(setting)+ '/graph')\n",
    "writer.add_graph(sam.image_encoder, ims)\n",
    "writer.close()\n"
   ]
  },
  {
   "cell_type": "code",
   "execution_count": null,
   "metadata": {},
   "outputs": [
    {
     "data": {
      "application/vnd.jupyter.widget-view+json": {
       "model_id": "8e9344ec277647a6ac2f2baa063acb9b",
       "version_major": 2,
       "version_minor": 0
      },
      "text/plain": [
       "  0%|          | 0/80 [00:00<?, ?it/s]"
      ]
     },
     "metadata": {},
     "output_type": "display_data"
    },
    {
     "name": "stdout",
     "output_type": "stream",
     "text": [
      "Start training\n",
      "Number of batches:  32\n",
      "Elems pr batch:  2\n",
      "Epoch num 0\n"
     ]
    },
    {
     "data": {
      "application/vnd.jupyter.widget-view+json": {
       "model_id": "a33c39d8a04f4a0d9f5330aac9516bff",
       "version_major": 2,
       "version_minor": 0
      },
      "text/plain": [
       "  0%|          | 0/32 [00:00<?, ?it/s]"
      ]
     },
     "metadata": {},
     "output_type": "display_data"
    },
    {
     "name": "stdout",
     "output_type": "stream",
     "text": [
      "Epoch num 0| train loss 0.976 | lr_opt 0.01 \n",
      "\n",
      "Epoch num 1\n"
     ]
    },
    {
     "data": {
      "application/vnd.jupyter.widget-view+json": {
       "model_id": "7f2919117bf24229b7303c2f5fe560f7",
       "version_major": 2,
       "version_minor": 0
      },
      "text/plain": [
       "  0%|          | 0/32 [00:00<?, ?it/s]"
      ]
     },
     "metadata": {},
     "output_type": "display_data"
    },
    {
     "name": "stdout",
     "output_type": "stream",
     "text": [
      "Epoch num 1| train loss 0.638 | lr_opt 0.01 \n",
      "\n",
      "Epoch num 2\n"
     ]
    },
    {
     "data": {
      "application/vnd.jupyter.widget-view+json": {
       "model_id": "94b20c33321f4de79cd32578329a2440",
       "version_major": 2,
       "version_minor": 0
      },
      "text/plain": [
       "  0%|          | 0/32 [00:00<?, ?it/s]"
      ]
     },
     "metadata": {},
     "output_type": "display_data"
    },
    {
     "name": "stdout",
     "output_type": "stream",
     "text": [
      "Epoch num 2| train loss 0.5784 | lr_opt 0.01 \n",
      "\n",
      "Epoch num 3\n"
     ]
    },
    {
     "data": {
      "application/vnd.jupyter.widget-view+json": {
       "model_id": "1c3254841f80422f89d4d5305bb4e991",
       "version_major": 2,
       "version_minor": 0
      },
      "text/plain": [
       "  0%|          | 0/32 [00:00<?, ?it/s]"
      ]
     },
     "metadata": {},
     "output_type": "display_data"
    },
    {
     "name": "stdout",
     "output_type": "stream",
     "text": [
      "Epoch num 3| train loss 0.5239 | lr_opt 0.01 \n",
      "\n",
      "No adjustment:  0.0571\n",
      "Epoch num 4\n"
     ]
    },
    {
     "data": {
      "application/vnd.jupyter.widget-view+json": {
       "model_id": "088d6acc955543ff8f1405c6bab58a29",
       "version_major": 2,
       "version_minor": 0
      },
      "text/plain": [
       "  0%|          | 0/32 [00:00<?, ?it/s]"
      ]
     },
     "metadata": {},
     "output_type": "display_data"
    },
    {
     "name": "stdout",
     "output_type": "stream",
     "text": [
      "Epoch num 4| train loss 0.4981 | lr_opt 0.01 \n",
      "\n",
      "No adjustment:  0.0402\n",
      "Epoch num 5\n"
     ]
    },
    {
     "data": {
      "application/vnd.jupyter.widget-view+json": {
       "model_id": "73e32bb8d4f345d4b3d18bb0e903ac7e",
       "version_major": 2,
       "version_minor": 0
      },
      "text/plain": [
       "  0%|          | 0/32 [00:00<?, ?it/s]"
      ]
     },
     "metadata": {},
     "output_type": "display_data"
    },
    {
     "name": "stdout",
     "output_type": "stream",
     "text": [
      "Epoch num 5| train loss 0.4921 | lr_opt 0.01 \n",
      "\n",
      "No adjustment:  0.0159\n",
      "Eval Epoch num 5 | val loss 0.5 | dsc 0.7063438072800636 \n",
      "\n",
      "largest DSC now: 0.7063438072800636\n",
      "Epoch num 6\n"
     ]
    },
    {
     "data": {
      "application/vnd.jupyter.widget-view+json": {
       "model_id": "60989effbb2748068213c918e60b24b7",
       "version_major": 2,
       "version_minor": 0
      },
      "text/plain": [
       "  0%|          | 0/32 [00:00<?, ?it/s]"
      ]
     },
     "metadata": {},
     "output_type": "display_data"
    },
    {
     "name": "stdout",
     "output_type": "stream",
     "text": [
      "Epoch num 6| train loss 0.4903 | lr_opt 0.01 \n",
      "\n",
      "Level 2 adjustment:  0.0039  <  0.005\n",
      "Epoch num 7\n"
     ]
    },
    {
     "data": {
      "application/vnd.jupyter.widget-view+json": {
       "model_id": "56fafbed26c940b79c5bc6b68cdf8953",
       "version_major": 2,
       "version_minor": 0
      },
      "text/plain": [
       "  0%|          | 0/32 [00:00<?, ?it/s]"
      ]
     },
     "metadata": {},
     "output_type": "display_data"
    },
    {
     "name": "stdout",
     "output_type": "stream",
     "text": [
      "Epoch num 7| train loss 0.4739 | lr_opt 0.0025 \n",
      "\n",
      "Epoch num 8\n"
     ]
    },
    {
     "data": {
      "application/vnd.jupyter.widget-view+json": {
       "model_id": "0e65a7a1ba174666bb1c59c2794d355b",
       "version_major": 2,
       "version_minor": 0
      },
      "text/plain": [
       "  0%|          | 0/32 [00:00<?, ?it/s]"
      ]
     },
     "metadata": {},
     "output_type": "display_data"
    },
    {
     "name": "stdout",
     "output_type": "stream",
     "text": [
      "Epoch num 8| train loss 0.4697 | lr_opt 0.0025 \n",
      "\n",
      "Epoch num 9\n"
     ]
    },
    {
     "data": {
      "application/vnd.jupyter.widget-view+json": {
       "model_id": "6d653062d07142e3b102e1fad75dac06",
       "version_major": 2,
       "version_minor": 0
      },
      "text/plain": [
       "  0%|          | 0/32 [00:00<?, ?it/s]"
      ]
     },
     "metadata": {},
     "output_type": "display_data"
    },
    {
     "name": "stdout",
     "output_type": "stream",
     "text": [
      "Epoch num 9| train loss 0.4669 | lr_opt 0.0025 \n",
      "\n",
      "Epoch num 10\n"
     ]
    },
    {
     "data": {
      "application/vnd.jupyter.widget-view+json": {
       "model_id": "be9a9be798c34f6c9259fefb43848952",
       "version_major": 2,
       "version_minor": 0
      },
      "text/plain": [
       "  0%|          | 0/32 [00:00<?, ?it/s]"
      ]
     },
     "metadata": {},
     "output_type": "display_data"
    },
    {
     "name": "stdout",
     "output_type": "stream",
     "text": [
      "Epoch num 10| train loss 0.4648 | lr_opt 0.0025 \n",
      "\n",
      "Level 2 adjustment:  0.0024  <  0.005\n",
      "Eval Epoch num 10 | val loss 0.46 | dsc 0.7346392497420311 \n",
      "\n",
      "largest DSC now: 0.7346392497420311\n",
      "Epoch num 11\n"
     ]
    },
    {
     "data": {
      "application/vnd.jupyter.widget-view+json": {
       "model_id": "6bc31587d6c24783bffd8f55ff60b62a",
       "version_major": 2,
       "version_minor": 0
      },
      "text/plain": [
       "  0%|          | 0/32 [00:00<?, ?it/s]"
      ]
     },
     "metadata": {},
     "output_type": "display_data"
    },
    {
     "name": "stdout",
     "output_type": "stream",
     "text": [
      "Epoch num 11| train loss 0.4609 | lr_opt 0.000625 \n",
      "\n",
      "Epoch num 12\n"
     ]
    },
    {
     "data": {
      "application/vnd.jupyter.widget-view+json": {
       "model_id": "9a158a1fd2cd4461bc427c9022f35ceb",
       "version_major": 2,
       "version_minor": 0
      },
      "text/plain": [
       "  0%|          | 0/32 [00:00<?, ?it/s]"
      ]
     },
     "metadata": {},
     "output_type": "display_data"
    },
    {
     "name": "stdout",
     "output_type": "stream",
     "text": [
      "Epoch num 12| train loss 0.4588 | lr_opt 0.000625 \n",
      "\n",
      "Epoch num 13\n"
     ]
    },
    {
     "data": {
      "application/vnd.jupyter.widget-view+json": {
       "model_id": "04bb6340780d4dc8b084c2189157884a",
       "version_major": 2,
       "version_minor": 0
      },
      "text/plain": [
       "  0%|          | 0/32 [00:00<?, ?it/s]"
      ]
     },
     "metadata": {},
     "output_type": "display_data"
    },
    {
     "name": "stdout",
     "output_type": "stream",
     "text": [
      "Epoch num 13| train loss 0.4589 | lr_opt 0.000625 \n",
      "\n",
      "Epoch num 14\n"
     ]
    },
    {
     "data": {
      "application/vnd.jupyter.widget-view+json": {
       "model_id": "eb843f6c5b204eed93bd70b2e19fe6fd",
       "version_major": 2,
       "version_minor": 0
      },
      "text/plain": [
       "  0%|          | 0/32 [00:00<?, ?it/s]"
      ]
     },
     "metadata": {},
     "output_type": "display_data"
    },
    {
     "name": "stdout",
     "output_type": "stream",
     "text": [
      "Epoch num 14| train loss 0.4566 | lr_opt 0.000625 \n",
      "\n",
      "Level 2 adjustment:  0.0011  <  0.005\n",
      "Epoch num 15\n"
     ]
    },
    {
     "data": {
      "application/vnd.jupyter.widget-view+json": {
       "model_id": "330e071ed4084d5f80ec86f2cd7bd88e",
       "version_major": 2,
       "version_minor": 0
      },
      "text/plain": [
       "  0%|          | 0/32 [00:00<?, ?it/s]"
      ]
     },
     "metadata": {},
     "output_type": "display_data"
    },
    {
     "name": "stdout",
     "output_type": "stream",
     "text": [
      "Epoch num 15| train loss 0.4592 | lr_opt 0.00015625 \n",
      "\n",
      "Eval Epoch num 15 | val loss 0.47 | dsc 0.7233846634626389 \n",
      "\n",
      "Epoch num 16\n"
     ]
    },
    {
     "data": {
      "application/vnd.jupyter.widget-view+json": {
       "model_id": "524d3ba9c1a94cbb87cbb275d4342af9",
       "version_major": 2,
       "version_minor": 0
      },
      "text/plain": [
       "  0%|          | 0/32 [00:00<?, ?it/s]"
      ]
     },
     "metadata": {},
     "output_type": "display_data"
    },
    {
     "name": "stdout",
     "output_type": "stream",
     "text": [
      "Epoch num 16| train loss 0.457 | lr_opt 0.00015625 \n",
      "\n",
      "Epoch num 17\n"
     ]
    },
    {
     "data": {
      "application/vnd.jupyter.widget-view+json": {
       "model_id": "6d2eafaebc46405587335f1383fd0b70",
       "version_major": 2,
       "version_minor": 0
      },
      "text/plain": [
       "  0%|          | 0/32 [00:00<?, ?it/s]"
      ]
     },
     "metadata": {},
     "output_type": "display_data"
    },
    {
     "name": "stdout",
     "output_type": "stream",
     "text": [
      "Epoch num 17| train loss 0.4573 | lr_opt 0.00015625 \n",
      "\n",
      "Epoch num 18\n"
     ]
    },
    {
     "data": {
      "application/vnd.jupyter.widget-view+json": {
       "model_id": "4e4f17675e5d425aaac9b9d2c8f56b01",
       "version_major": 2,
       "version_minor": 0
      },
      "text/plain": [
       "  0%|          | 0/32 [00:00<?, ?it/s]"
      ]
     },
     "metadata": {},
     "output_type": "display_data"
    },
    {
     "name": "stdout",
     "output_type": "stream",
     "text": [
      "Epoch num 18| train loss 0.4588 | lr_opt 0.00015625 \n",
      "\n",
      "Level 2 adjustment:  0.0009  <  0.005\n",
      "Epoch num 19\n"
     ]
    },
    {
     "data": {
      "application/vnd.jupyter.widget-view+json": {
       "model_id": "ace7dcca5ecf46159bce53bca09855dd",
       "version_major": 2,
       "version_minor": 0
      },
      "text/plain": [
       "  0%|          | 0/32 [00:00<?, ?it/s]"
      ]
     },
     "metadata": {},
     "output_type": "display_data"
    },
    {
     "name": "stdout",
     "output_type": "stream",
     "text": [
      "Epoch num 19| train loss 0.4551 | lr_opt 3.90625e-05 \n",
      "\n",
      "Epoch num 20\n"
     ]
    },
    {
     "data": {
      "application/vnd.jupyter.widget-view+json": {
       "model_id": "b664bd75fd1349009a237b096e97e322",
       "version_major": 2,
       "version_minor": 0
      },
      "text/plain": [
       "  0%|          | 0/32 [00:00<?, ?it/s]"
      ]
     },
     "metadata": {},
     "output_type": "display_data"
    },
    {
     "name": "stdout",
     "output_type": "stream",
     "text": [
      "Epoch num 20| train loss 0.4566 | lr_opt 3.90625e-05 \n",
      "\n",
      "Eval Epoch num 20 | val loss 0.45 | dsc 0.7339359372854233 \n",
      "\n",
      "Epoch num 21\n"
     ]
    },
    {
     "data": {
      "application/vnd.jupyter.widget-view+json": {
       "model_id": "15f06db96dbc403cbffa11143af39277",
       "version_major": 2,
       "version_minor": 0
      },
      "text/plain": [
       "  0%|          | 0/32 [00:00<?, ?it/s]"
      ]
     },
     "metadata": {},
     "output_type": "display_data"
    },
    {
     "name": "stdout",
     "output_type": "stream",
     "text": [
      "Epoch num 21| train loss 0.4566 | lr_opt 3.90625e-05 \n",
      "\n",
      "***Warmup is over***\n",
      "Epoch num 22\n"
     ]
    },
    {
     "data": {
      "application/vnd.jupyter.widget-view+json": {
       "model_id": "be2b0956f7bd49819fddf8b405f5aeb7",
       "version_major": 2,
       "version_minor": 0
      },
      "text/plain": [
       "  0%|          | 0/32 [00:00<?, ?it/s]"
      ]
     },
     "metadata": {},
     "output_type": "display_data"
    },
    {
     "name": "stdout",
     "output_type": "stream",
     "text": [
      "Epoch num 22| train loss 0.4924 | lr_opt 0.01 \n",
      "\n",
      "Epoch num 23\n"
     ]
    },
    {
     "data": {
      "application/vnd.jupyter.widget-view+json": {
       "model_id": "daa7481f7c5e4daa9ecb2a18f33bb473",
       "version_major": 2,
       "version_minor": 0
      },
      "text/plain": [
       "  0%|          | 0/32 [00:00<?, ?it/s]"
      ]
     },
     "metadata": {},
     "output_type": "display_data"
    },
    {
     "name": "stdout",
     "output_type": "stream",
     "text": [
      "Epoch num 23| train loss 0.4795 | lr_opt 0.01 \n",
      "\n",
      "Epoch num 24\n"
     ]
    },
    {
     "data": {
      "application/vnd.jupyter.widget-view+json": {
       "model_id": "164de03fb4794891b23507d2c597ea6f",
       "version_major": 2,
       "version_minor": 0
      },
      "text/plain": [
       "  0%|          | 0/32 [00:00<?, ?it/s]"
      ]
     },
     "metadata": {},
     "output_type": "display_data"
    },
    {
     "name": "stdout",
     "output_type": "stream",
     "text": [
      "Epoch num 24| train loss 0.4708 | lr_opt 0.01 \n",
      "\n",
      "Epoch num 25\n"
     ]
    },
    {
     "data": {
      "application/vnd.jupyter.widget-view+json": {
       "model_id": "7099268ee77d4b36a8229afbc1e62e9f",
       "version_major": 2,
       "version_minor": 0
      },
      "text/plain": [
       "  0%|          | 0/32 [00:00<?, ?it/s]"
      ]
     },
     "metadata": {},
     "output_type": "display_data"
    },
    {
     "name": "stdout",
     "output_type": "stream",
     "text": [
      "Epoch num 25| train loss 0.4683 | lr_opt 0.01 \n",
      "\n",
      "Eval Epoch num 25 | val loss 0.47 | dsc 0.717493861913681 \n",
      "\n",
      "Epoch num 26\n"
     ]
    },
    {
     "data": {
      "application/vnd.jupyter.widget-view+json": {
       "model_id": "d653d33cfc4e4e1f8efa5d24676cccbf",
       "version_major": 2,
       "version_minor": 0
      },
      "text/plain": [
       "  0%|          | 0/32 [00:00<?, ?it/s]"
      ]
     },
     "metadata": {},
     "output_type": "display_data"
    },
    {
     "name": "stdout",
     "output_type": "stream",
     "text": [
      "Epoch num 26| train loss 0.4653 | lr_opt 0.01 \n",
      "\n",
      "Epoch num 27\n"
     ]
    },
    {
     "data": {
      "application/vnd.jupyter.widget-view+json": {
       "model_id": "15b0b1285a674241af9640256c7856fe",
       "version_major": 2,
       "version_minor": 0
      },
      "text/plain": [
       "  0%|          | 0/32 [00:00<?, ?it/s]"
      ]
     },
     "metadata": {},
     "output_type": "display_data"
    },
    {
     "name": "stdout",
     "output_type": "stream",
     "text": [
      "Epoch num 27| train loss 0.4611 | lr_opt 0.01 \n",
      "\n",
      "Epoch num 28\n"
     ]
    },
    {
     "data": {
      "application/vnd.jupyter.widget-view+json": {
       "model_id": "12e22f29438647b6bfedbaea1a59e809",
       "version_major": 2,
       "version_minor": 0
      },
      "text/plain": [
       "  0%|          | 0/32 [00:00<?, ?it/s]"
      ]
     },
     "metadata": {},
     "output_type": "display_data"
    },
    {
     "name": "stdout",
     "output_type": "stream",
     "text": [
      "Epoch num 28| train loss 0.4626 | lr_opt 0.01 \n",
      "\n",
      "Epoch num 29\n"
     ]
    },
    {
     "data": {
      "application/vnd.jupyter.widget-view+json": {
       "model_id": "d221f5bff0eb4574a53f4fbc2e0feffe",
       "version_major": 2,
       "version_minor": 0
      },
      "text/plain": [
       "  0%|          | 0/32 [00:00<?, ?it/s]"
      ]
     },
     "metadata": {},
     "output_type": "display_data"
    },
    {
     "name": "stdout",
     "output_type": "stream",
     "text": [
      "Epoch num 29| train loss 0.4655 | lr_opt 0.01 \n",
      "\n",
      "Epoch num 30\n"
     ]
    },
    {
     "data": {
      "application/vnd.jupyter.widget-view+json": {
       "model_id": "cb61e83a404648699451f8bca0786914",
       "version_major": 2,
       "version_minor": 0
      },
      "text/plain": [
       "  0%|          | 0/32 [00:00<?, ?it/s]"
      ]
     },
     "metadata": {},
     "output_type": "display_data"
    },
    {
     "name": "stdout",
     "output_type": "stream",
     "text": [
      "Epoch num 30| train loss 0.4612 | lr_opt 0.01 \n",
      "\n",
      "Eval Epoch num 30 | val loss 0.47 | dsc 0.7205570191144943 \n",
      "\n",
      "Epoch num 31\n"
     ]
    },
    {
     "data": {
      "application/vnd.jupyter.widget-view+json": {
       "model_id": "9edaffd22de54024b6ba46556ad3a09f",
       "version_major": 2,
       "version_minor": 0
      },
      "text/plain": [
       "  0%|          | 0/32 [00:00<?, ?it/s]"
      ]
     },
     "metadata": {},
     "output_type": "display_data"
    },
    {
     "name": "stdout",
     "output_type": "stream",
     "text": [
      "Epoch num 31| train loss 0.4611 | lr_opt 0.01 \n",
      "\n",
      "Epoch num 32\n"
     ]
    },
    {
     "data": {
      "application/vnd.jupyter.widget-view+json": {
       "model_id": "3ead362ea41646b8849154b8e91969f4",
       "version_major": 2,
       "version_minor": 0
      },
      "text/plain": [
       "  0%|          | 0/32 [00:00<?, ?it/s]"
      ]
     },
     "metadata": {},
     "output_type": "display_data"
    },
    {
     "name": "stdout",
     "output_type": "stream",
     "text": [
      "Epoch num 32| train loss 0.4492 | lr_opt 0.005 \n",
      "\n",
      "Epoch num 33\n"
     ]
    },
    {
     "data": {
      "application/vnd.jupyter.widget-view+json": {
       "model_id": "91c6ec0436874d568e5363e8436c4062",
       "version_major": 2,
       "version_minor": 0
      },
      "text/plain": [
       "  0%|          | 0/32 [00:00<?, ?it/s]"
      ]
     },
     "metadata": {},
     "output_type": "display_data"
    },
    {
     "name": "stdout",
     "output_type": "stream",
     "text": [
      "Epoch num 33| train loss 0.4474 | lr_opt 0.005 \n",
      "\n",
      "Epoch num 34\n"
     ]
    },
    {
     "data": {
      "application/vnd.jupyter.widget-view+json": {
       "model_id": "b838313f64ab4d71ac897f1934f42719",
       "version_major": 2,
       "version_minor": 0
      },
      "text/plain": [
       "  0%|          | 0/32 [00:00<?, ?it/s]"
      ]
     },
     "metadata": {},
     "output_type": "display_data"
    },
    {
     "name": "stdout",
     "output_type": "stream",
     "text": [
      "Epoch num 34| train loss 0.4445 | lr_opt 0.005 \n",
      "\n",
      "Epoch num 35\n"
     ]
    },
    {
     "data": {
      "application/vnd.jupyter.widget-view+json": {
       "model_id": "5a49352a471149ce93ec16a270e1c727",
       "version_major": 2,
       "version_minor": 0
      },
      "text/plain": [
       "  0%|          | 0/32 [00:00<?, ?it/s]"
      ]
     },
     "metadata": {},
     "output_type": "display_data"
    },
    {
     "name": "stdout",
     "output_type": "stream",
     "text": [
      "Epoch num 35| train loss 0.4454 | lr_opt 0.005 \n",
      "\n",
      "Eval Epoch num 35 | val loss 0.44 | dsc 0.7418146803975105 \n",
      "\n",
      "largest DSC now: 0.7418146803975105\n",
      "Epoch num 36\n"
     ]
    },
    {
     "data": {
      "application/vnd.jupyter.widget-view+json": {
       "model_id": "19c73226756447bb9043c96fa649cba8",
       "version_major": 2,
       "version_minor": 0
      },
      "text/plain": [
       "  0%|          | 0/32 [00:00<?, ?it/s]"
      ]
     },
     "metadata": {},
     "output_type": "display_data"
    },
    {
     "name": "stdout",
     "output_type": "stream",
     "text": [
      "Epoch num 36| train loss 0.4449 | lr_opt 0.005 \n",
      "\n",
      "Epoch num 37\n"
     ]
    },
    {
     "data": {
      "application/vnd.jupyter.widget-view+json": {
       "model_id": "09ed5d391365497ebbeeb70bf8bda3b2",
       "version_major": 2,
       "version_minor": 0
      },
      "text/plain": [
       "  0%|          | 0/32 [00:00<?, ?it/s]"
      ]
     },
     "metadata": {},
     "output_type": "display_data"
    },
    {
     "name": "stdout",
     "output_type": "stream",
     "text": [
      "Epoch num 37| train loss 0.4463 | lr_opt 0.005 \n",
      "\n",
      "Epoch num 38\n"
     ]
    },
    {
     "data": {
      "application/vnd.jupyter.widget-view+json": {
       "model_id": "757e13e97ba1489a9fa2163391532e22",
       "version_major": 2,
       "version_minor": 0
      },
      "text/plain": [
       "  0%|          | 0/32 [00:00<?, ?it/s]"
      ]
     },
     "metadata": {},
     "output_type": "display_data"
    },
    {
     "name": "stdout",
     "output_type": "stream",
     "text": [
      "Epoch num 38| train loss 0.4439 | lr_opt 0.005 \n",
      "\n",
      "Epoch num 39\n"
     ]
    },
    {
     "data": {
      "application/vnd.jupyter.widget-view+json": {
       "model_id": "17f9bc7907594a729c7a82ee2871db03",
       "version_major": 2,
       "version_minor": 0
      },
      "text/plain": [
       "  0%|          | 0/32 [00:00<?, ?it/s]"
      ]
     },
     "metadata": {},
     "output_type": "display_data"
    },
    {
     "name": "stdout",
     "output_type": "stream",
     "text": [
      "Epoch num 39| train loss 0.4456 | lr_opt 0.005 \n",
      "\n",
      "Epoch num 40\n"
     ]
    },
    {
     "data": {
      "application/vnd.jupyter.widget-view+json": {
       "model_id": "5864b233da4e487fa4f34505ed7ea4f7",
       "version_major": 2,
       "version_minor": 0
      },
      "text/plain": [
       "  0%|          | 0/32 [00:00<?, ?it/s]"
      ]
     },
     "metadata": {},
     "output_type": "display_data"
    },
    {
     "name": "stdout",
     "output_type": "stream",
     "text": [
      "Epoch num 40| train loss 0.4431 | lr_opt 0.005 \n",
      "\n",
      "Eval Epoch num 40 | val loss 0.44 | dsc 0.7432220503687859 \n",
      "\n",
      "largest DSC now: 0.7432220503687859\n",
      "Epoch num 41\n"
     ]
    },
    {
     "data": {
      "application/vnd.jupyter.widget-view+json": {
       "model_id": "9fe8579dbaa042759a0137ce662b1226",
       "version_major": 2,
       "version_minor": 0
      },
      "text/plain": [
       "  0%|          | 0/32 [00:00<?, ?it/s]"
      ]
     },
     "metadata": {},
     "output_type": "display_data"
    },
    {
     "name": "stdout",
     "output_type": "stream",
     "text": [
      "Epoch num 41| train loss 0.4417 | lr_opt 0.005 \n",
      "\n",
      "Epoch num 42\n"
     ]
    },
    {
     "data": {
      "application/vnd.jupyter.widget-view+json": {
       "model_id": "ababf18416484c6cbb39614c41228e4d",
       "version_major": 2,
       "version_minor": 0
      },
      "text/plain": [
       "  0%|          | 0/32 [00:00<?, ?it/s]"
      ]
     },
     "metadata": {},
     "output_type": "display_data"
    },
    {
     "name": "stdout",
     "output_type": "stream",
     "text": [
      "Epoch num 42| train loss 0.4392 | lr_opt 0.0025 \n",
      "\n",
      "Epoch num 43\n"
     ]
    },
    {
     "data": {
      "application/vnd.jupyter.widget-view+json": {
       "model_id": "2f356e4255b747c1b293e7ff989fcf23",
       "version_major": 2,
       "version_minor": 0
      },
      "text/plain": [
       "  0%|          | 0/32 [00:00<?, ?it/s]"
      ]
     },
     "metadata": {},
     "output_type": "display_data"
    },
    {
     "name": "stdout",
     "output_type": "stream",
     "text": [
      "Epoch num 43| train loss 0.4363 | lr_opt 0.0025 \n",
      "\n",
      "Epoch num 44\n"
     ]
    },
    {
     "data": {
      "application/vnd.jupyter.widget-view+json": {
       "model_id": "4b6f92697f0f4151b1646be5fa463b32",
       "version_major": 2,
       "version_minor": 0
      },
      "text/plain": [
       "  0%|          | 0/32 [00:00<?, ?it/s]"
      ]
     },
     "metadata": {},
     "output_type": "display_data"
    },
    {
     "name": "stdout",
     "output_type": "stream",
     "text": [
      "Epoch num 44| train loss 0.4378 | lr_opt 0.0025 \n",
      "\n",
      "Epoch num 45\n"
     ]
    },
    {
     "data": {
      "application/vnd.jupyter.widget-view+json": {
       "model_id": "cc526bf8dd1d47ed83157fca5f3abcea",
       "version_major": 2,
       "version_minor": 0
      },
      "text/plain": [
       "  0%|          | 0/32 [00:00<?, ?it/s]"
      ]
     },
     "metadata": {},
     "output_type": "display_data"
    },
    {
     "name": "stdout",
     "output_type": "stream",
     "text": [
      "Epoch num 45| train loss 0.4374 | lr_opt 0.0025 \n",
      "\n",
      "Eval Epoch num 45 | val loss 0.43 | dsc 0.7509407997131348 \n",
      "\n",
      "largest DSC now: 0.7509407997131348\n",
      "Epoch num 46\n"
     ]
    },
    {
     "data": {
      "application/vnd.jupyter.widget-view+json": {
       "model_id": "20157c3194ba4e898fca2fa385537aa3",
       "version_major": 2,
       "version_minor": 0
      },
      "text/plain": [
       "  0%|          | 0/32 [00:00<?, ?it/s]"
      ]
     },
     "metadata": {},
     "output_type": "display_data"
    },
    {
     "name": "stdout",
     "output_type": "stream",
     "text": [
      "Epoch num 46| train loss 0.4355 | lr_opt 0.0025 \n",
      "\n",
      "Epoch num 47\n"
     ]
    },
    {
     "data": {
      "application/vnd.jupyter.widget-view+json": {
       "model_id": "24cd5afe7be24ab8ba4ba6d6c1c1f2eb",
       "version_major": 2,
       "version_minor": 0
      },
      "text/plain": [
       "  0%|          | 0/32 [00:00<?, ?it/s]"
      ]
     },
     "metadata": {},
     "output_type": "display_data"
    },
    {
     "name": "stdout",
     "output_type": "stream",
     "text": [
      "Epoch num 47| train loss 0.4357 | lr_opt 0.0025 \n",
      "\n",
      "Epoch num 48\n"
     ]
    },
    {
     "data": {
      "application/vnd.jupyter.widget-view+json": {
       "model_id": "f7551735e69a4c84b8ca3a5a834e0554",
       "version_major": 2,
       "version_minor": 0
      },
      "text/plain": [
       "  0%|          | 0/32 [00:00<?, ?it/s]"
      ]
     },
     "metadata": {},
     "output_type": "display_data"
    },
    {
     "name": "stdout",
     "output_type": "stream",
     "text": [
      "Epoch num 48| train loss 0.4354 | lr_opt 0.0025 \n",
      "\n",
      "Epoch num 49\n"
     ]
    },
    {
     "data": {
      "application/vnd.jupyter.widget-view+json": {
       "model_id": "509374622dec418dbef4a4e86f061b84",
       "version_major": 2,
       "version_minor": 0
      },
      "text/plain": [
       "  0%|          | 0/32 [00:00<?, ?it/s]"
      ]
     },
     "metadata": {},
     "output_type": "display_data"
    },
    {
     "name": "stdout",
     "output_type": "stream",
     "text": [
      "Epoch num 49| train loss 0.4384 | lr_opt 0.0025 \n",
      "\n",
      "Epoch num 50\n"
     ]
    },
    {
     "data": {
      "application/vnd.jupyter.widget-view+json": {
       "model_id": "7adb498a52c7424c917f7ff99991a82b",
       "version_major": 2,
       "version_minor": 0
      },
      "text/plain": [
       "  0%|          | 0/32 [00:00<?, ?it/s]"
      ]
     },
     "metadata": {},
     "output_type": "display_data"
    },
    {
     "name": "stdout",
     "output_type": "stream",
     "text": [
      "Epoch num 50| train loss 0.435 | lr_opt 0.0025 \n",
      "\n",
      "Eval Epoch num 50 | val loss 0.43 | dsc 0.7513677850365639 \n",
      "\n",
      "largest DSC now: 0.7513677850365639\n",
      "Epoch num 51\n"
     ]
    },
    {
     "data": {
      "application/vnd.jupyter.widget-view+json": {
       "model_id": "b810fb9cecb74c6fac1910a031ea1ccc",
       "version_major": 2,
       "version_minor": 0
      },
      "text/plain": [
       "  0%|          | 0/32 [00:00<?, ?it/s]"
      ]
     },
     "metadata": {},
     "output_type": "display_data"
    },
    {
     "name": "stdout",
     "output_type": "stream",
     "text": [
      "Epoch num 51| train loss 0.4375 | lr_opt 0.0025 \n",
      "\n",
      "Epoch num 52\n"
     ]
    },
    {
     "data": {
      "application/vnd.jupyter.widget-view+json": {
       "model_id": "d99ca31062d24aa9afcce143988d1a2f",
       "version_major": 2,
       "version_minor": 0
      },
      "text/plain": [
       "  0%|          | 0/32 [00:00<?, ?it/s]"
      ]
     },
     "metadata": {},
     "output_type": "display_data"
    },
    {
     "name": "stdout",
     "output_type": "stream",
     "text": [
      "Epoch num 52| train loss 0.4296 | lr_opt 0.00125 \n",
      "\n",
      "Epoch num 53\n"
     ]
    },
    {
     "data": {
      "application/vnd.jupyter.widget-view+json": {
       "model_id": "905bafa6f3ff4143a742170dbf8eaf4d",
       "version_major": 2,
       "version_minor": 0
      },
      "text/plain": [
       "  0%|          | 0/32 [00:00<?, ?it/s]"
      ]
     },
     "metadata": {},
     "output_type": "display_data"
    },
    {
     "name": "stdout",
     "output_type": "stream",
     "text": [
      "Epoch num 53| train loss 0.432 | lr_opt 0.00125 \n",
      "\n",
      "Epoch num 54\n"
     ]
    },
    {
     "data": {
      "application/vnd.jupyter.widget-view+json": {
       "model_id": "92d2b6a5598944dcae51358272db2eb9",
       "version_major": 2,
       "version_minor": 0
      },
      "text/plain": [
       "  0%|          | 0/32 [00:00<?, ?it/s]"
      ]
     },
     "metadata": {},
     "output_type": "display_data"
    },
    {
     "name": "stdout",
     "output_type": "stream",
     "text": [
      "Epoch num 54| train loss 0.4322 | lr_opt 0.00125 \n",
      "\n",
      "Epoch num 55\n"
     ]
    },
    {
     "data": {
      "application/vnd.jupyter.widget-view+json": {
       "model_id": "2e790fe2836d42cfb5c397957aa22b68",
       "version_major": 2,
       "version_minor": 0
      },
      "text/plain": [
       "  0%|          | 0/32 [00:00<?, ?it/s]"
      ]
     },
     "metadata": {},
     "output_type": "display_data"
    },
    {
     "name": "stdout",
     "output_type": "stream",
     "text": [
      "Epoch num 55| train loss 0.4292 | lr_opt 0.00125 \n",
      "\n",
      "Eval Epoch num 55 | val loss 0.43 | dsc 0.7526735812425613 \n",
      "\n",
      "largest DSC now: 0.7526735812425613\n",
      "Epoch num 56\n"
     ]
    },
    {
     "data": {
      "application/vnd.jupyter.widget-view+json": {
       "model_id": "93122ceda3da4f0a8ba5164e8ca6de13",
       "version_major": 2,
       "version_minor": 0
      },
      "text/plain": [
       "  0%|          | 0/32 [00:00<?, ?it/s]"
      ]
     },
     "metadata": {},
     "output_type": "display_data"
    },
    {
     "name": "stdout",
     "output_type": "stream",
     "text": [
      "Epoch num 56| train loss 0.4317 | lr_opt 0.00125 \n",
      "\n",
      "Epoch num 57\n"
     ]
    },
    {
     "data": {
      "application/vnd.jupyter.widget-view+json": {
       "model_id": "d6f4df6b98764039800fd29205e1f291",
       "version_major": 2,
       "version_minor": 0
      },
      "text/plain": [
       "  0%|          | 0/32 [00:00<?, ?it/s]"
      ]
     },
     "metadata": {},
     "output_type": "display_data"
    },
    {
     "name": "stdout",
     "output_type": "stream",
     "text": [
      "Epoch num 57| train loss 0.4323 | lr_opt 0.00125 \n",
      "\n",
      "Epoch num 58\n"
     ]
    },
    {
     "data": {
      "application/vnd.jupyter.widget-view+json": {
       "model_id": "91589e98cc6f4deb95cf2031bc00e6d4",
       "version_major": 2,
       "version_minor": 0
      },
      "text/plain": [
       "  0%|          | 0/32 [00:00<?, ?it/s]"
      ]
     },
     "metadata": {},
     "output_type": "display_data"
    },
    {
     "name": "stdout",
     "output_type": "stream",
     "text": [
      "Epoch num 58| train loss 0.4339 | lr_opt 0.00125 \n",
      "\n",
      "Epoch num 59\n"
     ]
    },
    {
     "data": {
      "application/vnd.jupyter.widget-view+json": {
       "model_id": "ccad9b48514448a3842b0f6da943e8a8",
       "version_major": 2,
       "version_minor": 0
      },
      "text/plain": [
       "  0%|          | 0/32 [00:00<?, ?it/s]"
      ]
     },
     "metadata": {},
     "output_type": "display_data"
    },
    {
     "name": "stdout",
     "output_type": "stream",
     "text": [
      "Epoch num 59| train loss 0.4299 | lr_opt 0.00125 \n",
      "\n",
      "Epoch num 60\n"
     ]
    },
    {
     "data": {
      "application/vnd.jupyter.widget-view+json": {
       "model_id": "a5c7549ef7444c6bbf5afbaa365ba33f",
       "version_major": 2,
       "version_minor": 0
      },
      "text/plain": [
       "  0%|          | 0/32 [00:00<?, ?it/s]"
      ]
     },
     "metadata": {},
     "output_type": "display_data"
    },
    {
     "name": "stdout",
     "output_type": "stream",
     "text": [
      "Epoch num 60| train loss 0.4282 | lr_opt 0.00125 \n",
      "\n",
      "Eval Epoch num 60 | val loss 0.43 | dsc 0.7553766742348671 \n",
      "\n",
      "largest DSC now: 0.7553766742348671\n",
      "Epoch num 61\n"
     ]
    },
    {
     "data": {
      "application/vnd.jupyter.widget-view+json": {
       "model_id": "bb224e7184ff43dda6a3e7398e57cedf",
       "version_major": 2,
       "version_minor": 0
      },
      "text/plain": [
       "  0%|          | 0/32 [00:00<?, ?it/s]"
      ]
     },
     "metadata": {},
     "output_type": "display_data"
    },
    {
     "name": "stdout",
     "output_type": "stream",
     "text": [
      "Epoch num 61| train loss 0.4292 | lr_opt 0.00125 \n",
      "\n",
      "Epoch num 62\n"
     ]
    },
    {
     "data": {
      "application/vnd.jupyter.widget-view+json": {
       "model_id": "fad15437953c411fae64cab422e7eab8",
       "version_major": 2,
       "version_minor": 0
      },
      "text/plain": [
       "  0%|          | 0/32 [00:00<?, ?it/s]"
      ]
     },
     "metadata": {},
     "output_type": "display_data"
    },
    {
     "name": "stdout",
     "output_type": "stream",
     "text": [
      "Epoch num 62| train loss 0.4279 | lr_opt 0.000625 \n",
      "\n",
      "Epoch num 63\n"
     ]
    },
    {
     "data": {
      "application/vnd.jupyter.widget-view+json": {
       "model_id": "7d0df425fcbf43d1b9be037558241395",
       "version_major": 2,
       "version_minor": 0
      },
      "text/plain": [
       "  0%|          | 0/32 [00:00<?, ?it/s]"
      ]
     },
     "metadata": {},
     "output_type": "display_data"
    },
    {
     "name": "stdout",
     "output_type": "stream",
     "text": [
      "Epoch num 63| train loss 0.4254 | lr_opt 0.000625 \n",
      "\n",
      "Epoch num 64\n"
     ]
    },
    {
     "data": {
      "application/vnd.jupyter.widget-view+json": {
       "model_id": "f2061967dec74274ab6599c89c8d22b7",
       "version_major": 2,
       "version_minor": 0
      },
      "text/plain": [
       "  0%|          | 0/32 [00:00<?, ?it/s]"
      ]
     },
     "metadata": {},
     "output_type": "display_data"
    },
    {
     "name": "stdout",
     "output_type": "stream",
     "text": [
      "Epoch num 64| train loss 0.4277 | lr_opt 0.000625 \n",
      "\n",
      "Epoch num 65\n"
     ]
    },
    {
     "data": {
      "application/vnd.jupyter.widget-view+json": {
       "model_id": "3aa468b52b8946e09e27eefff3ea6405",
       "version_major": 2,
       "version_minor": 0
      },
      "text/plain": [
       "  0%|          | 0/32 [00:00<?, ?it/s]"
      ]
     },
     "metadata": {},
     "output_type": "display_data"
    },
    {
     "name": "stdout",
     "output_type": "stream",
     "text": [
      "Epoch num 65| train loss 0.4295 | lr_opt 0.000625 \n",
      "\n",
      "Eval Epoch num 65 | val loss 0.44 | dsc 0.7445602416992188 \n",
      "\n",
      "Epoch num 66\n"
     ]
    },
    {
     "data": {
      "application/vnd.jupyter.widget-view+json": {
       "model_id": "6b0c6058ae694df296548da5ec574947",
       "version_major": 2,
       "version_minor": 0
      },
      "text/plain": [
       "  0%|          | 0/32 [00:00<?, ?it/s]"
      ]
     },
     "metadata": {},
     "output_type": "display_data"
    },
    {
     "name": "stdout",
     "output_type": "stream",
     "text": [
      "Epoch num 66| train loss 0.4254 | lr_opt 0.000625 \n",
      "\n",
      "Epoch num 67\n"
     ]
    },
    {
     "data": {
      "application/vnd.jupyter.widget-view+json": {
       "model_id": "2327f37adcb24a32aa01c85ff667d221",
       "version_major": 2,
       "version_minor": 0
      },
      "text/plain": [
       "  0%|          | 0/32 [00:00<?, ?it/s]"
      ]
     },
     "metadata": {},
     "output_type": "display_data"
    },
    {
     "name": "stdout",
     "output_type": "stream",
     "text": [
      "Epoch num 67| train loss 0.427 | lr_opt 0.000625 \n",
      "\n",
      "Epoch num 68\n"
     ]
    },
    {
     "data": {
      "application/vnd.jupyter.widget-view+json": {
       "model_id": "4183e127e37c4bf39eb7761aae6b7534",
       "version_major": 2,
       "version_minor": 0
      },
      "text/plain": [
       "  0%|          | 0/32 [00:00<?, ?it/s]"
      ]
     },
     "metadata": {},
     "output_type": "display_data"
    },
    {
     "name": "stdout",
     "output_type": "stream",
     "text": [
      "Epoch num 68| train loss 0.4269 | lr_opt 0.000625 \n",
      "\n",
      "Epoch num 69\n"
     ]
    },
    {
     "data": {
      "application/vnd.jupyter.widget-view+json": {
       "model_id": "6c1fd7b23a004a5695151c7e1dbff827",
       "version_major": 2,
       "version_minor": 0
      },
      "text/plain": [
       "  0%|          | 0/32 [00:00<?, ?it/s]"
      ]
     },
     "metadata": {},
     "output_type": "display_data"
    },
    {
     "name": "stdout",
     "output_type": "stream",
     "text": [
      "Epoch num 69| train loss 0.4279 | lr_opt 0.000625 \n",
      "\n",
      "Epoch num 70\n"
     ]
    },
    {
     "data": {
      "application/vnd.jupyter.widget-view+json": {
       "model_id": "b643c545b9de4e55bddfb64615591c7c",
       "version_major": 2,
       "version_minor": 0
      },
      "text/plain": [
       "  0%|          | 0/32 [00:00<?, ?it/s]"
      ]
     },
     "metadata": {},
     "output_type": "display_data"
    },
    {
     "name": "stdout",
     "output_type": "stream",
     "text": [
      "Epoch num 70| train loss 0.4287 | lr_opt 0.000625 \n",
      "\n",
      "Eval Epoch num 70 | val loss 0.44 | dsc 0.74330984801054 \n",
      "\n",
      "Epoch num 71\n"
     ]
    },
    {
     "data": {
      "application/vnd.jupyter.widget-view+json": {
       "model_id": "7ebd97795c804ca4b932a5a12bf83f08",
       "version_major": 2,
       "version_minor": 0
      },
      "text/plain": [
       "  0%|          | 0/32 [00:00<?, ?it/s]"
      ]
     },
     "metadata": {},
     "output_type": "display_data"
    },
    {
     "name": "stdout",
     "output_type": "stream",
     "text": [
      "Epoch num 71| train loss 0.4279 | lr_opt 0.000625 \n",
      "\n",
      "Epoch num 72\n"
     ]
    },
    {
     "data": {
      "application/vnd.jupyter.widget-view+json": {
       "model_id": "277afd629068462a812907c556561047",
       "version_major": 2,
       "version_minor": 0
      },
      "text/plain": [
       "  0%|          | 0/32 [00:00<?, ?it/s]"
      ]
     },
     "metadata": {},
     "output_type": "display_data"
    },
    {
     "name": "stdout",
     "output_type": "stream",
     "text": [
      "Epoch num 72| train loss 0.4248 | lr_opt 0.0003125 \n",
      "\n",
      "Epoch num 73\n"
     ]
    },
    {
     "data": {
      "application/vnd.jupyter.widget-view+json": {
       "model_id": "eb267bdca3f04142a0bbc9a2121db135",
       "version_major": 2,
       "version_minor": 0
      },
      "text/plain": [
       "  0%|          | 0/32 [00:00<?, ?it/s]"
      ]
     },
     "metadata": {},
     "output_type": "display_data"
    },
    {
     "name": "stdout",
     "output_type": "stream",
     "text": [
      "Epoch num 73| train loss 0.4262 | lr_opt 0.0003125 \n",
      "\n",
      "Epoch num 74\n"
     ]
    },
    {
     "data": {
      "application/vnd.jupyter.widget-view+json": {
       "model_id": "21a77ddde8774a669f108d264c1dc6ab",
       "version_major": 2,
       "version_minor": 0
      },
      "text/plain": [
       "  0%|          | 0/32 [00:00<?, ?it/s]"
      ]
     },
     "metadata": {},
     "output_type": "display_data"
    },
    {
     "name": "stdout",
     "output_type": "stream",
     "text": [
      "Epoch num 74| train loss 0.4246 | lr_opt 0.0003125 \n",
      "\n",
      "Epoch num 75\n"
     ]
    },
    {
     "data": {
      "application/vnd.jupyter.widget-view+json": {
       "model_id": "fcc3fa73d1cc4b47a347ec077466c4da",
       "version_major": 2,
       "version_minor": 0
      },
      "text/plain": [
       "  0%|          | 0/32 [00:00<?, ?it/s]"
      ]
     },
     "metadata": {},
     "output_type": "display_data"
    },
    {
     "name": "stdout",
     "output_type": "stream",
     "text": [
      "Epoch num 75| train loss 0.4259 | lr_opt 0.0003125 \n",
      "\n",
      "Eval Epoch num 75 | val loss 0.43 | dsc 0.7451397329568863 \n",
      "\n",
      "Epoch num 76\n"
     ]
    },
    {
     "data": {
      "application/vnd.jupyter.widget-view+json": {
       "model_id": "e4540c8632634f42a5a4d388162a2f2b",
       "version_major": 2,
       "version_minor": 0
      },
      "text/plain": [
       "  0%|          | 0/32 [00:00<?, ?it/s]"
      ]
     },
     "metadata": {},
     "output_type": "display_data"
    },
    {
     "name": "stdout",
     "output_type": "stream",
     "text": [
      "Epoch num 76| train loss 0.4255 | lr_opt 0.0003125 \n",
      "\n",
      "Epoch num 77\n"
     ]
    },
    {
     "data": {
      "application/vnd.jupyter.widget-view+json": {
       "model_id": "237273daf72447ee8270b9baaaefcff6",
       "version_major": 2,
       "version_minor": 0
      },
      "text/plain": [
       "  0%|          | 0/32 [00:00<?, ?it/s]"
      ]
     },
     "metadata": {},
     "output_type": "display_data"
    },
    {
     "name": "stdout",
     "output_type": "stream",
     "text": [
      "Epoch num 77| train loss 0.4268 | lr_opt 0.0003125 \n",
      "\n",
      "Epoch num 78\n"
     ]
    },
    {
     "data": {
      "application/vnd.jupyter.widget-view+json": {
       "model_id": "8e89145e1a2b4cc488acea1639808202",
       "version_major": 2,
       "version_minor": 0
      },
      "text/plain": [
       "  0%|          | 0/32 [00:00<?, ?it/s]"
      ]
     },
     "metadata": {},
     "output_type": "display_data"
    },
    {
     "name": "stdout",
     "output_type": "stream",
     "text": [
      "Epoch num 78| train loss 0.4256 | lr_opt 0.0003125 \n",
      "\n",
      "Epoch num 79\n"
     ]
    },
    {
     "data": {
      "application/vnd.jupyter.widget-view+json": {
       "model_id": "6a19a11d9adb47169209a49b0820d328",
       "version_major": 2,
       "version_minor": 0
      },
      "text/plain": [
       "  0%|          | 0/32 [00:00<?, ?it/s]"
      ]
     },
     "metadata": {},
     "output_type": "display_data"
    },
    {
     "name": "stdout",
     "output_type": "stream",
     "text": [
      "Epoch num 79| train loss 0.4273 | lr_opt 0.0003125 \n",
      "\n"
     ]
    }
   ],
   "source": [
    "# TRAINING LOOP\n",
    "b_lr = 0.01\n",
    "if args.if_warmup:\n",
    "    b_lr = 0.01\n",
    "\n",
    "epochs = 80\n",
    "batch_size = 2\n",
    "\n",
    "optimizer = optim.AdamW(sam.parameters(), lr=b_lr, betas=(0.9, 0.999), eps=1e-08, weight_decay=0.1, amsgrad=False)\n",
    "optimizer.zero_grad()\n",
    "scheduler = optim.lr_scheduler.StepLR(optimizer, step_size=12, gamma=0.5) #learning rate decay\n",
    "\n",
    "criterion1 = monai.losses.DiceLoss(sigmoid=True, squared_pred=True, reduction='mean')\n",
    "criterion2 = nn.BCEWithLogitsLoss()\n",
    "iter_num = 0\n",
    "max_iterations = epochs * train_points\n",
    "writer = SummaryWriter(checkpoints_path +'/'+ str(setting)+ '/log')\n",
    "\n",
    "pbar = tqdm(range(epochs))\n",
    "val_largest_dsc = 0\n",
    "last_update_epoch = 0\n",
    "print('Start training')\n",
    "\n",
    "mask_downscale_f = Upsample(scale_factor=0.5)\n",
    "\n",
    "args.if_warmup = True\n",
    "args.warmup_period = 20\n",
    "is_warmup_over = not args.if_warmup\n",
    "train_data.divide_into_batches(batch_size)\n",
    "print(\"Number of batches: \",len(train_data.batches))\n",
    "print(\"Elems pr batch: \",len(train_data.batches[0]['image']))\n",
    "\n",
    "\n",
    "lrs = []\n",
    "lss = []\n",
    "\n",
    "\n",
    "\n",
    "\n",
    "for epoch in pbar:\n",
    "    print('Epoch num {}'.format(epoch))\n",
    "    sam.train()\n",
    "    train_loss = 0\n",
    "    train_data.divide_into_batches(batch_size, augment=True)\n",
    "\n",
    "\n",
    "    b_bar = tqdm(range(len(train_data.batches)))\n",
    "\n",
    "    for i in b_bar:\n",
    "\n",
    "        batch = train_data.batches[i]\n",
    "        imgs = batch['image']\n",
    "        msks = batch['mask']\n",
    "        points = batch['points']\n",
    "        labels = batch['p_labels']\n",
    "\n",
    "\n",
    "        if args.if_update_encoder:\n",
    "            img_emb = sammy.encode_img(imgs)\n",
    "        else:\n",
    "            with torch.no_grad():\n",
    "                img_emb = sammy.encode_img(imgs)\n",
    "        \n",
    "        sparse_emb, dense_emb = sammy.encode_promts(points=points, labels=labels)\n",
    "\n",
    "        _,pred = sammy.decode_features(img_emb, sparse_emb, dense_emb)\n",
    "\n",
    "\n",
    "        msks = torch.tensor(msks).float().cuda()\n",
    "        # from Bx512x512 to Bx1x512x512\n",
    "        msks = msks.unsqueeze(1)\n",
    "        # from 512x512 to 256x256\n",
    "        msks = mask_downscale_f(msks)\n",
    "        \n",
    "        \n",
    "        \n",
    "        loss_dice =  criterion1(pred,msks)\n",
    "        loss_ce = criterion2(pred,msks)\n",
    "        loss =  loss_dice + loss_ce\n",
    "\n",
    "\n",
    "        loss.backward()\n",
    "\n",
    "        \n",
    "        optimizer.step()\n",
    "        optimizer.zero_grad(set_to_none=True)\n",
    "\n",
    "        train_loss += loss.item()\n",
    "        iter_num+=1\n",
    "\n",
    "    \n",
    "        # writer.add_scalar('training/total_loss', loss, iter_num)\n",
    "        # writer.add_scalar('training/loss_ce', loss_ce, iter_num)\n",
    "        # writer.add_scalar('training/loss_dice', loss_dice, iter_num)\n",
    "\n",
    "\n",
    "    \n",
    "    \n",
    "    train_loss /= (i+1)\n",
    "    #pbar.set_description('Epoch num {}| train loss {} | lr {} \\n'.format(epoch,train_loss,optimizer.param_groups[0]['lr']))\n",
    "\n",
    "    writer.add_scalar('training/lr', optimizer.param_groups[0]['lr'], epoch)\n",
    "    writer.add_scalar('training/loss', train_loss, epoch)\n",
    "    \n",
    "    print('Epoch num {}| train loss {} | lr_opt {} \\n'.format(epoch,round(train_loss, 4),optimizer.param_groups[0]['lr']))\n",
    "\n",
    "    if not is_warmup_over:\n",
    "        lss.append(train_loss)\n",
    "        lrs.append(optimizer.param_groups[0]['lr'])\n",
    "        if len(lss) > 3:\n",
    "            b_lr = adjust_lr(lss, lrs)\n",
    "            #print(\"adjust_lr:\",b_lr)\n",
    "            if b_lr != optimizer.param_groups[0]['lr']:\n",
    "                for param_group in optimizer.param_groups:\n",
    "                    param_group['lr'] = b_lr\n",
    "                lss = []\n",
    "                lrs = []\n",
    "            else:\n",
    "                lss.pop(0)\n",
    "                lrs.pop(0)\n",
    "    else:\n",
    "        scheduler.step()\n",
    "\n",
    "    if not is_warmup_over and args.warmup_period < epoch :\n",
    "        print('***Warmup is over***')\n",
    "        is_warmup_over = True\n",
    "        optimizer.param_groups[0]['lr'] = 0.01\n",
    "        #optimizer = optim.AdamW(sam.parameters(), lr=0.01, betas=(0.9, 0.999), eps=1e-08, weight_decay=0.1, amsgrad=False)\n",
    "        scheduler = optim.lr_scheduler.StepLR(optimizer, step_size=10, gamma=0.5) #learning rate decay\n",
    "\n",
    "\n",
    "    if epoch > 4 and epoch%5==0:\n",
    "        #eval_loss, dsc = test_model(sam, sammy, val_data, 1)\n",
    "\n",
    "        sam.eval()\n",
    "\n",
    "        val_data.divide_into_batches(batch_size, augment=False)\n",
    "\n",
    "        with torch.no_grad():\n",
    "            mean_dice = 0\n",
    "            mean_ce = 0\n",
    "            mean_both = 0\n",
    "            for batch in val_data.batches:\n",
    "                imgs = batch['image']\n",
    "                msks = batch['mask']\n",
    "                points = batch['points']\n",
    "                labels = batch['p_labels']\n",
    "\n",
    "                img_emb = sammy.encode_img(imgs)\n",
    "                \n",
    "                sparse_emb, dense_emb = sammy.encode_promts(points=points, labels=labels)\n",
    "                _,pred = sammy.decode_features(img_emb, sparse_emb, dense_emb)\n",
    "\n",
    "                msks = torch.tensor(msks).float().cuda()\n",
    "                # from Bx512x512 to Bx1x512x512\n",
    "                msks = msks.unsqueeze(1)\n",
    "                # from 512x512 to 256x256\n",
    "                msks = mask_downscale_f(msks)\n",
    "                \n",
    "                loss_dice =  criterion1(pred,msks)\n",
    "                loss_ce = criterion2(pred,msks)\n",
    "    \n",
    "                mean_dice += loss_dice.item()\n",
    "                mean_ce += loss_ce.item()\n",
    "                mean_both += (loss_dice + loss_ce).item()\n",
    "\n",
    "\n",
    "                \n",
    "\n",
    "            mean_ce /= len(val_data.batches)\n",
    "            mean_dice /= len(val_data.batches)\n",
    "            mean_both /= len(val_data.batches)\n",
    "\n",
    "        from shit import visualize_prediction\n",
    "        p = pred[0][0].detach().cpu().numpy()\n",
    "        m = msks[0][0].detach().cpu().numpy()\n",
    "        ps = points[0]\n",
    "        visual = visualize_prediction(p,m)\n",
    "        # plot visual:\n",
    "        #plt.imshow(visual)\n",
    "        #plt.show()\n",
    "\n",
    "\n",
    "        writer.add_image('eval/prediction', visual, epoch, dataformats='HWC')\n",
    "\n",
    "            \n",
    "            \n",
    "            \n",
    "            \n",
    "        writer.add_scalar('eval/loss', mean_ce, epoch)\n",
    "        writer.add_scalar('eval/dice', mean_dice, epoch)\n",
    "        writer.add_scalar('eval/loss_sum', mean_both, epoch)\n",
    "\n",
    "        dsc = 1-mean_dice\n",
    "        \n",
    "        print('Eval Epoch num {} | val loss {} | dsc {} \\n'.format(epoch,round(mean_both, 2),dsc))\n",
    "        if dsc>val_largest_dsc:\n",
    "            val_largest_dsc = dsc\n",
    "            last_update_epoch = epoch\n",
    "            print('largest DSC now: {}'.format(dsc))\n",
    "            torch.save(sam.state_dict(),checkpoints_path +'/'+ str(setting)+ '/''+checkpoint_best.pth')\n",
    "        elif (epoch-last_update_epoch)>20:\n",
    "            # the network haven't been updated for 20 epochs\n",
    "            print('Training finished###########')\n",
    "            break\n",
    "writer.close()"
   ]
  },
  {
   "cell_type": "code",
   "execution_count": null,
   "metadata": {},
   "outputs": [
    {
     "name": "stderr",
     "output_type": "stream",
     "text": [
      "c:\\Users\\newma\\AppData\\Local\\Programs\\Python\\Python310\\lib\\site-packages\\monai\\losses\\dice.py:156: UserWarning: single channel prediction, `to_onehot_y=True` ignored.\n",
      "  warnings.warn(\"single channel prediction, `to_onehot_y=True` ignored.\")\n"
     ]
    },
    {
     "name": "stdout",
     "output_type": "stream",
     "text": [
      "Eval Loss: 0.42271931916475297, DSC: 0.18162553310394286, CE: 0.2410937875509262\n"
     ]
    },
    {
     "data": {
      "text/plain": [
       "(0.2410937875509262, 0.18162553310394286, 0.42271931916475297)"
      ]
     },
     "execution_count": 4,
     "metadata": {},
     "output_type": "execute_result"
    }
   ],
   "source": [
    "#try counting more !\n",
    "\n",
    "\n",
    "from shit import test_model\n",
    "with open('test_data.pkl', 'rb') as file:\n",
    "    test_data = pickle.load(file)\n",
    "\n",
    "test_data = EyeData(test_data)\n",
    "test_model(sam,sammy,test_data,1)"
   ]
  },
  {
   "cell_type": "code",
   "execution_count": null,
   "metadata": {},
   "outputs": [
    {
     "name": "stdout",
     "output_type": "stream",
     "text": [
      "Eval Loss: 0.3834812641143799, DSC: 0.16800659894943237, CE: 0.2154746651649475\n"
     ]
    },
    {
     "name": "stderr",
     "output_type": "stream",
     "text": [
      "c:\\Users\\newma\\AppData\\Local\\Programs\\Python\\Python310\\lib\\site-packages\\monai\\losses\\dice.py:156: UserWarning: single channel prediction, `to_onehot_y=True` ignored.\n",
      "  warnings.warn(\"single channel prediction, `to_onehot_y=True` ignored.\")\n"
     ]
    },
    {
     "data": {
      "text/plain": [
       "(0.2154746651649475, 0.16800659894943237, 0.3834812641143799)"
      ]
     },
     "execution_count": 4,
     "metadata": {},
     "output_type": "execute_result"
    }
   ],
   "source": [
    "test_model(sam,sammy,val_data,len(val_data))"
   ]
  },
  {
   "cell_type": "code",
   "execution_count": null,
   "metadata": {},
   "outputs": [],
   "source": [
    "\n"
   ]
  },
  {
   "cell_type": "code",
   "execution_count": null,
   "metadata": {},
   "outputs": [
    {
     "data": {
      "text/plain": [
       "<matplotlib.image.AxesImage at 0x20d740bf010>"
      ]
     },
     "execution_count": 6,
     "metadata": {},
     "output_type": "execute_result"
    },
    {
     "data": {
      "image/png": "[encoded data removed]",
      "text/plain": [
       "<Figure size 640x480 with 1 Axes>"
      ]
     },
     "metadata": {},
     "output_type": "display_data"
    }
   ],
   "source": [
    "p = pred[1][0].detach().cpu().numpy()\n",
    "m = msks[1][0].detach().cpu().numpy()\n",
    "p = np.where(p > 0.5, 1, 0)\n",
    "m = np.where(m > 0, 1, 0)\n",
    "im = np.full((256,256,3),100)\n",
    "# color green where m == p == 1\n",
    "im[np.where((m==1) & (p==1))] = [0,255,0]\n",
    "# color red where m == 1 and p == 0\n",
    "im[np.where((m==1) & (p==0))] = [255,0,0]\n",
    "# color blue where m == 0 and p == 1\n",
    "im[np.where((m==0) & (p==1))] = [0,0,255]\n",
    "\n",
    "\n",
    "# plot the mask\n",
    "plt.imshow(im)"
   ]
  }
 ],
 "metadata": {
  "accelerator": "GPU",
  "colab": {
   "gpuType": "T4",
   "provenance": []
  },
  "kernelspec": {
   "display_name": "Python 3",
   "name": "python3"
  },
  "language_info": {
   "codemirror_mode": {
    "name": "ipython",
    "version": 3
   },
   "file_extension": ".py",
   "mimetype": "text/x-python",
   "name": "python",
   "nbconvert_exporter": "python",
   "pygments_lexer": "ipython3",
   "version": "3.10.10"
  },
  "widgets": {
   "application/vnd.jupyter.widget-state+json": {
    "3a3663b3d63a4c4cac421d8fd4746051": {
     "model_module": "@jupyter-widgets/controls",
     "model_module_version": "1.5.0",
     "model_name": "HTMLModel",
     "state": {
      "_dom_classes": [],
      "_model_module": "@jupyter-widgets/controls",
      "_model_module_version": "1.5.0",
      "_model_name": "HTMLModel",
      "_view_count": null,
      "_view_module": "@jupyter-widgets/controls",
      "_view_module_version": "1.5.0",
      "_view_name": "HTMLView",
      "description": "",
      "description_tooltip": null,
      "layout": "IPY_MODEL_7ffd23cd526d49bbb04bb3fb3713d38c",
      "placeholder": "​",
      "style": "IPY_MODEL_e3bd26913d7d48ba8622d17d290ed9b9",
      "value": "preprocessor_config.json: 100%"
     }
    },
    "4988b977dc674fde92fe781df557bd9a": {
     "model_module": "@jupyter-widgets/controls",
     "model_module_version": "1.5.0",
     "model_name": "ProgressStyleModel",
     "state": {
      "_model_module": "@jupyter-widgets/controls",
      "_model_module_version": "1.5.0",
      "_model_name": "ProgressStyleModel",
      "_view_count": null,
      "_view_module": "@jupyter-widgets/base",
      "_view_module_version": "1.2.0",
      "_view_name": "StyleView",
      "bar_color": null,
      "description_width": ""
     }
    },
    "762364a1ca11410894f2ba1104b3b81f": {
     "model_module": "@jupyter-widgets/controls",
     "model_module_version": "1.5.0",
     "model_name": "HTMLModel",
     "state": {
      "_dom_classes": [],
      "_model_module": "@jupyter-widgets/controls",
      "_model_module_version": "1.5.0",
      "_model_name": "HTMLModel",
      "_view_count": null,
      "_view_module": "@jupyter-widgets/controls",
      "_view_module_version": "1.5.0",
      "_view_name": "HTMLView",
      "description": "",
      "description_tooltip": null,
      "layout": "IPY_MODEL_a0caf5e9e72d4b029a7bb4d10baed9e8",
      "placeholder": "​",
      "style": "IPY_MODEL_937b51bfed124a47a46c4773998531f5",
      "value": " 466/466 [00:00&lt;00:00, 33.8kB/s]"
     }
    },
    "7ab0cc445a37426c89c5710c15db6227": {
     "model_module": "@jupyter-widgets/controls",
     "model_module_version": "1.5.0",
     "model_name": "HBoxModel",
     "state": {
      "_dom_classes": [],
      "_model_module": "@jupyter-widgets/controls",
      "_model_module_version": "1.5.0",
      "_model_name": "HBoxModel",
      "_view_count": null,
      "_view_module": "@jupyter-widgets/controls",
      "_view_module_version": "1.5.0",
      "_view_name": "HBoxView",
      "box_style": "",
      "children": [
       "IPY_MODEL_3a3663b3d63a4c4cac421d8fd4746051",
       "IPY_MODEL_ab8c2f638a7e49bc95f5f3675cdfb737",
       "IPY_MODEL_762364a1ca11410894f2ba1104b3b81f"
      ],
      "layout": "IPY_MODEL_8aa7ec419c4a4c7db62e6fcc1df27498"
     }
    },
    "7ffd23cd526d49bbb04bb3fb3713d38c": {
     "model_module": "@jupyter-widgets/base",
     "model_module_version": "1.2.0",
     "model_name": "LayoutModel",
     "state": {
      "_model_module": "@jupyter-widgets/base",
      "_model_module_version": "1.2.0",
      "_model_name": "LayoutModel",
      "_view_count": null,
      "_view_module": "@jupyter-widgets/base",
      "_view_module_version": "1.2.0",
      "_view_name": "LayoutView",
      "align_content": null,
      "align_items": null,
      "align_self": null,
      "border": null,
      "bottom": null,
      "display": null,
      "flex": null,
      "flex_flow": null,
      "grid_area": null,
      "grid_auto_columns": null,
      "grid_auto_flow": null,
      "grid_auto_rows": null,
      "grid_column": null,
      "grid_gap": null,
      "grid_row": null,
      "grid_template_areas": null,
      "grid_template_columns": null,
      "grid_template_rows": null,
      "height": null,
      "justify_content": null,
      "justify_items": null,
      "left": null,
      "margin": null,
      "max_height": null,
      "max_width": null,
      "min_height": null,
      "min_width": null,
      "object_fit": null,
      "object_position": null,
      "order": null,
      "overflow": null,
      "overflow_x": null,
      "overflow_y": null,
      "padding": null,
      "right": null,
      "top": null,
      "visibility": null,
      "width": null
     }
    },
    "8aa7ec419c4a4c7db62e6fcc1df27498": {
     "model_module": "@jupyter-widgets/base",
     "model_module_version": "1.2.0",
     "model_name": "LayoutModel",
     "state": {
      "_model_module": "@jupyter-widgets/base",
      "_model_module_version": "1.2.0",
      "_model_name": "LayoutModel",
      "_view_count": null,
      "_view_module": "@jupyter-widgets/base",
      "_view_module_version": "1.2.0",
      "_view_name": "LayoutView",
      "align_content": null,
      "align_items": null,
      "align_self": null,
      "border": null,
      "bottom": null,
      "display": null,
      "flex": null,
      "flex_flow": null,
      "grid_area": null,
      "grid_auto_columns": null,
      "grid_auto_flow": null,
      "grid_auto_rows": null,
      "grid_column": null,
      "grid_gap": null,
      "grid_row": null,
      "grid_template_areas": null,
      "grid_template_columns": null,
      "grid_template_rows": null,
      "height": null,
      "justify_content": null,
      "justify_items": null,
      "left": null,
      "margin": null,
      "max_height": null,
      "max_width": null,
      "min_height": null,
      "min_width": null,
      "object_fit": null,
      "object_position": null,
      "order": null,
      "overflow": null,
      "overflow_x": null,
      "overflow_y": null,
      "padding": null,
      "right": null,
      "top": null,
      "visibility": null,
      "width": null
     }
    },
    "937b51bfed124a47a46c4773998531f5": {
     "model_module": "@jupyter-widgets/controls",
     "model_module_version": "1.5.0",
     "model_name": "DescriptionStyleModel",
     "state": {
      "_model_module": "@jupyter-widgets/controls",
      "_model_module_version": "1.5.0",
      "_model_name": "DescriptionStyleModel",
      "_view_count": null,
      "_view_module": "@jupyter-widgets/base",
      "_view_module_version": "1.2.0",
      "_view_name": "StyleView",
      "description_width": ""
     }
    },
    "a0caf5e9e72d4b029a7bb4d10baed9e8": {
     "model_module": "@jupyter-widgets/base",
     "model_module_version": "1.2.0",
     "model_name": "LayoutModel",
     "state": {
      "_model_module": "@jupyter-widgets/base",
      "_model_module_version": "1.2.0",
      "_model_name": "LayoutModel",
      "_view_count": null,
      "_view_module": "@jupyter-widgets/base",
      "_view_module_version": "1.2.0",
      "_view_name": "LayoutView",
      "align_content": null,
      "align_items": null,
      "align_self": null,
      "border": null,
      "bottom": null,
      "display": null,
      "flex": null,
      "flex_flow": null,
      "grid_area": null,
      "grid_auto_columns": null,
      "grid_auto_flow": null,
      "grid_auto_rows": null,
      "grid_column": null,
      "grid_gap": null,
      "grid_row": null,
      "grid_template_areas": null,
      "grid_template_columns": null,
      "grid_template_rows": null,
      "height": null,
      "justify_content": null,
      "justify_items": null,
      "left": null,
      "margin": null,
      "max_height": null,
      "max_width": null,
      "min_height": null,
      "min_width": null,
      "object_fit": null,
      "object_position": null,
      "order": null,
      "overflow": null,
      "overflow_x": null,
      "overflow_y": null,
      "padding": null,
      "right": null,
      "top": null,
      "visibility": null,
      "width": null
     }
    },
    "ab8c2f638a7e49bc95f5f3675cdfb737": {
     "model_module": "@jupyter-widgets/controls",
     "model_module_version": "1.5.0",
     "model_name": "FloatProgressModel",
     "state": {
      "_dom_classes": [],
      "_model_module": "@jupyter-widgets/controls",
      "_model_module_version": "1.5.0",
      "_model_name": "FloatProgressModel",
      "_view_count": null,
      "_view_module": "@jupyter-widgets/controls",
      "_view_module_version": "1.5.0",
      "_view_name": "ProgressView",
      "bar_style": "success",
      "description": "",
      "description_tooltip": null,
      "layout": "IPY_MODEL_df9e5b3a11c642c5b32b84a693751ac3",
      "max": 466,
      "min": 0,
      "orientation": "horizontal",
      "style": "IPY_MODEL_4988b977dc674fde92fe781df557bd9a",
      "value": 466
     }
    },
    "df9e5b3a11c642c5b32b84a693751ac3": {
     "model_module": "@jupyter-widgets/base",
     "model_module_version": "1.2.0",
     "model_name": "LayoutModel",
     "state": {
      "_model_module": "@jupyter-widgets/base",
      "_model_module_version": "1.2.0",
      "_model_name": "LayoutModel",
      "_view_count": null,
      "_view_module": "@jupyter-widgets/base",
      "_view_module_version": "1.2.0",
      "_view_name": "LayoutView",
      "align_content": null,
      "align_items": null,
      "align_self": null,
      "border": null,
      "bottom": null,
      "display": null,
      "flex": null,
      "flex_flow": null,
      "grid_area": null,
      "grid_auto_columns": null,
      "grid_auto_flow": null,
      "grid_auto_rows": null,
      "grid_column": null,
      "grid_gap": null,
      "grid_row": null,
      "grid_template_areas": null,
      "grid_template_columns": null,
      "grid_template_rows": null,
      "height": null,
      "justify_content": null,
      "justify_items": null,
      "left": null,
      "margin": null,
      "max_height": null,
      "max_width": null,
      "min_height": null,
      "min_width": null,
      "object_fit": null,
      "object_position": null,
      "order": null,
      "overflow": null,
      "overflow_x": null,
      "overflow_y": null,
      "padding": null,
      "right": null,
      "top": null,
      "visibility": null,
      "width": null
     }
    },
    "e3bd26913d7d48ba8622d17d290ed9b9": {
     "model_module": "@jupyter-widgets/controls",
     "model_module_version": "1.5.0",
     "model_name": "DescriptionStyleModel",
     "state": {
      "_model_module": "@jupyter-widgets/controls",
      "_model_module_version": "1.5.0",
      "_model_name": "DescriptionStyleModel",
      "_view_count": null,
      "_view_module": "@jupyter-widgets/base",
      "_view_module_version": "1.2.0",
      "_view_name": "StyleView",
      "description_width": ""
     }
    }
   }
  }
 },
 "nbformat": 4,
 "nbformat_minor": 0
}
